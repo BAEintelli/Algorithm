{
 "cells": [
  {
   "cell_type": "code",
   "execution_count": 4,
   "metadata": {},
   "outputs": [],
   "source": [
    "import collections"
   ]
  },
  {
   "cell_type": "code",
   "execution_count": 5,
   "metadata": {},
   "outputs": [],
   "source": [
    "def leastInterval(tasks, n):\n",
    "    counter = collections.Counter(tasks)\n",
    "    result = 0\n",
    "    \n",
    "    while True:\n",
    "        sub_count = 0\n",
    "        \n",
    "        for task, _ in counter.most_common(n+1):\n",
    "            sub_count += 1\n",
    "            result += 1\n",
    "\n",
    "            counter.subtract(task)\n",
    "\n",
    "            counter += collections.Counter()\n",
    "\n",
    "        if not counter:\n",
    "            break\n",
    "\n",
    "        result += n - sub_count + 1\n",
    "    \n",
    "    return result"
   ]
  },
  {
   "cell_type": "code",
   "execution_count": 6,
   "metadata": {},
   "outputs": [],
   "source": [
    "tasks = ['A', 'A', 'A', 'B', 'B', 'B']\n",
    "n = 2"
   ]
  },
  {
   "cell_type": "code",
   "execution_count": 7,
   "metadata": {},
   "outputs": [
    {
     "data": {
      "text/plain": [
       "8"
      ]
     },
     "execution_count": 7,
     "metadata": {},
     "output_type": "execute_result"
    }
   ],
   "source": [
    "leastInterval(tasks, n)"
   ]
  },
  {
   "cell_type": "code",
   "execution_count": null,
   "metadata": {},
   "outputs": [],
   "source": []
  }
 ],
 "metadata": {
  "kernelspec": {
   "display_name": "Python 3",
   "language": "python",
   "name": "python3"
  },
  "language_info": {
   "codemirror_mode": {
    "name": "ipython",
    "version": 3
   },
   "file_extension": ".py",
   "mimetype": "text/x-python",
   "name": "python",
   "nbconvert_exporter": "python",
   "pygments_lexer": "ipython3",
   "version": "3.7.4"
  }
 },
 "nbformat": 4,
 "nbformat_minor": 2
}
