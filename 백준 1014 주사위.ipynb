{
 "cells": [
  {
   "cell_type": "code",
   "execution_count": null,
   "metadata": {},
   "outputs": [],
   "source": [
    "import sys\n",
    "n = int(sys.stdin.readline().rstrip(\"\\n\"))\n",
    "nums = list(map(int, sys.stdin.readline().rstrip(\"\\n\").split()))\n",
    "ans=0\n",
    "sumLists=[]\n",
    "if(n==1):\n",
    "    nums = sorted(nums)\n",
    "    for i in range(0,5):\n",
    "        ans+=nums[i]\n",
    "else:\n",
    "    sumLists.append(min(nums[0],nums[5]))\n",
    "    sumLists.append(min(nums[1],nums[4]))\n",
    "    sumLists.append(min(nums[2],nums[3]))\n",
    "    sumLists = sorted(sumLists)\n",
    "\n",
    "    #1,2,3면이 보여질때 주사위 최소값\n",
    "    min1 = sumLists[0]\n",
    "    min2 = sumLists[0] + sumLists[1]\n",
    "    min3 = sumLists[0] + sumLists[1] + sumLists[2]\n",
    "    ans = min3*4 + min2*(n-2)*4 + min1*(n-2)*(n-2)+ (min2*4+min1*(n-2)*4)*(n-1)\n",
    "    \n",
    "    \n",
    " \n",
    "print(ans)"
   ]
  }
 ],
 "metadata": {
  "kernelspec": {
   "display_name": "Python 3",
   "language": "python",
   "name": "python3"
  },
  "language_info": {
   "codemirror_mode": {
    "name": "ipython",
    "version": 3
   },
   "file_extension": ".py",
   "mimetype": "text/x-python",
   "name": "python",
   "nbconvert_exporter": "python",
   "pygments_lexer": "ipython3",
   "version": "3.7.4"
  }
 },
 "nbformat": 4,
 "nbformat_minor": 2
}
