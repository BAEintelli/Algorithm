{
 "cells": [
  {
   "cell_type": "code",
   "execution_count": 64,
   "metadata": {},
   "outputs": [],
   "source": [
    "times = [[2,1,1],[2,3,1], [3,4,1]]\n",
    "N = 4\n",
    "K = 2"
   ]
  },
  {
   "cell_type": "code",
   "execution_count": 60,
   "metadata": {},
   "outputs": [],
   "source": [
    "times = [[3,1,5], [3,2,2], [2,1,2], [3,4,1], [4,5,1], [5,6,1], [6,7,1], [7,8,1], [8,1,1]]"
   ]
  },
  {
   "cell_type": "code",
   "execution_count": 57,
   "metadata": {},
   "outputs": [],
   "source": [
    "K=3\n",
    "N=8"
   ]
  },
  {
   "cell_type": "code",
   "execution_count": 62,
   "metadata": {},
   "outputs": [],
   "source": [
    "def di_extra(times, N, K):\n",
    "    for u , v, w in times:\n",
    "        graph[u].append((v,w))\n",
    "\n",
    "    Q = [(0,K)]\n",
    "    dist = collections.defaultdict(int)\n",
    "    while Q:\n",
    "        time, node = heapq.heappop(Q)\n",
    "        if node not in dist:\n",
    "            dist[node] = time\n",
    "            for v, w in graph[node]:\n",
    "                alt = time + w\n",
    "                heapq.heappush(Q, (alt,v))\n",
    "    \n",
    "    print(dist)\n",
    "    print(N)\n",
    "    if len(dist) == N:\n",
    "        return max(dist.values())\n",
    "    return -1"
   ]
  },
  {
   "cell_type": "code",
   "execution_count": 63,
   "metadata": {},
   "outputs": [
    {
     "name": "stdout",
     "output_type": "stream",
     "text": [
      "defaultdict(<class 'int'>, {3: 0, 4: 1, 2: 2, 5: 2, 6: 3, 1: 4, 7: 4, 8: 5})\n",
      "8\n"
     ]
    },
    {
     "data": {
      "text/plain": [
       "5"
      ]
     },
     "execution_count": 63,
     "metadata": {},
     "output_type": "execute_result"
    }
   ],
   "source": [
    "di_extra(times, N, K)"
   ]
  },
  {
   "cell_type": "code",
   "execution_count": 65,
   "metadata": {},
   "outputs": [
    {
     "name": "stdout",
     "output_type": "stream",
     "text": [
      "defaultdict(<class 'int'>, {2: 0, 1: 1, 3: 1, 4: 2, 5: 3, 6: 4, 7: 5, 8: 6})\n",
      "4\n"
     ]
    },
    {
     "data": {
      "text/plain": [
       "-1"
      ]
     },
     "execution_count": 65,
     "metadata": {},
     "output_type": "execute_result"
    }
   ],
   "source": [
    "di_extra(times, N, K)"
   ]
  },
  {
   "cell_type": "code",
   "execution_count": null,
   "metadata": {},
   "outputs": [],
   "source": []
  }
 ],
 "metadata": {
  "kernelspec": {
   "display_name": "Python 3",
   "language": "python",
   "name": "python3"
  },
  "language_info": {
   "codemirror_mode": {
    "name": "ipython",
    "version": 3
   },
   "file_extension": ".py",
   "mimetype": "text/x-python",
   "name": "python",
   "nbconvert_exporter": "python",
   "pygments_lexer": "ipython3",
   "version": "3.7.4"
  }
 },
 "nbformat": 4,
 "nbformat_minor": 2
}
