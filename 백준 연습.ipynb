{
 "cells": [
  {
   "cell_type": "code",
   "execution_count": 183,
   "id": "ba95e7bb",
   "metadata": {},
   "outputs": [
    {
     "name": "stdout",
     "output_type": "stream",
     "text": [
      "[[], [-7], [-7, -3], [-3]]\n",
      "0\n"
     ]
    }
   ],
   "source": [
    "f = open('./test.txt','r')\n",
    "n, s = list(map(int, f.readline().strip().split(' ')))\n",
    "nums = list(map(int, f.readline().strip().split(' ')))\n",
    "cand = []\n",
    "def comb(index, path):\n",
    "    \n",
    "    cand.append(path)\n",
    "    \n",
    "    for i in range(index, len(nums[:n//2])):\n",
    "        comb(i+1, path + [nums[i]])\n",
    "\n",
    "comb(0, [])\n",
    "print(cand)\n",
    "cand.pop(0)\n",
    "result = [1 if sum(s) == S and s != [] else 0 for s in cand]\n",
    "print(sum(result))"
   ]
  },
  {
   "cell_type": "code",
   "execution_count": 190,
   "id": "5ff0cf7e",
   "metadata": {},
   "outputs": [],
   "source": [
    "from sys import stdin\n",
    "from collections import defaultdict\n",
    "\n",
    "result = []\n",
    "def dfs(idx, path):\n",
    "    result.append(path)\n",
    "    for i in range(idx, len(nums[:n//2])):\n",
    "        dfs(i+1, path+ [nums[i]])\n",
    "\n",
    "\n",
    "\n",
    "f = open('./test.txt','r')\n",
    "n, s = list(map(int, f.readline().strip().split(' ')))\n",
    "nums = list(map(int, f.readline().strip().split(' ')))\n",
    "    \n",
    "dfs(0, [])\n",
    "    #dfs(n//2, n, 0, \"right\")\n",
    "\n"
   ]
  },
  {
   "cell_type": "code",
   "execution_count": 17,
   "id": "9ccac0de",
   "metadata": {},
   "outputs": [],
   "source": [
    "f = open('./test.txt','r')\n",
    "E, S, M= list(map(int, f.readline().strip().split(' ')))\n",
    "count = 0\n",
    "while True:\n",
    "    count +=1 \n",
    "    e = 15 if count%15 == 0 else count%15\n",
    "    s = 28 if count%28 ==0  else count%28\n",
    "    m = 19 if count%19 == 0 else count%19\n",
    "    if e==E and s ==S and m ==M:\n",
    "        break\n",
    "        \n",
    "print(count)"
   ]
  },
  {
   "cell_type": "code",
   "execution_count": 18,
   "id": "2936ce46",
   "metadata": {},
   "outputs": [
    {
     "data": {
      "text/plain": [
       "7980"
      ]
     },
     "execution_count": 18,
     "metadata": {},
     "output_type": "execute_result"
    }
   ],
   "source": [
    "count"
   ]
  },
  {
   "cell_type": "code",
   "execution_count": 1,
   "id": "b09e6f39",
   "metadata": {},
   "outputs": [
    {
     "ename": "NameError",
     "evalue": "name 'dx' is not defined",
     "output_type": "error",
     "traceback": [
      "\u001b[1;31m---------------------------------------------------------------------------\u001b[0m",
      "\u001b[1;31mNameError\u001b[0m                                 Traceback (most recent call last)",
      "\u001b[1;32m~\\AppData\\Local\\Temp/ipykernel_46728/586397994.py\u001b[0m in \u001b[0;36m<module>\u001b[1;34m\u001b[0m\n\u001b[0;32m     37\u001b[0m \u001b[0mn\u001b[0m \u001b[1;33m=\u001b[0m \u001b[0mnums\u001b[0m\u001b[1;33m.\u001b[0m\u001b[0mindex\u001b[0m\u001b[1;33m(\u001b[0m\u001b[1;36m0\u001b[0m\u001b[1;33m)\u001b[0m\u001b[1;33m\u001b[0m\u001b[1;33m\u001b[0m\u001b[0m\n\u001b[0;32m     38\u001b[0m \u001b[0mnums\u001b[0m\u001b[1;33m=\u001b[0m \u001b[1;34m\"\"\u001b[0m\u001b[1;33m.\u001b[0m\u001b[0mjoin\u001b[0m\u001b[1;33m(\u001b[0m\u001b[0mlist\u001b[0m\u001b[1;33m(\u001b[0m\u001b[0mmap\u001b[0m\u001b[1;33m(\u001b[0m\u001b[0mstr\u001b[0m\u001b[1;33m,\u001b[0m \u001b[0mnums\u001b[0m\u001b[1;33m)\u001b[0m\u001b[1;33m)\u001b[0m\u001b[1;33m)\u001b[0m\u001b[1;33m\u001b[0m\u001b[1;33m\u001b[0m\u001b[0m\n\u001b[1;32m---> 39\u001b[1;33m \u001b[0mprint\u001b[0m\u001b[1;33m(\u001b[0m\u001b[0mcheck\u001b[0m\u001b[1;33m(\u001b[0m\u001b[0mn\u001b[0m\u001b[1;33m,\u001b[0m \u001b[0mnums\u001b[0m\u001b[1;33m)\u001b[0m\u001b[1;33m)\u001b[0m\u001b[1;33m\u001b[0m\u001b[1;33m\u001b[0m\u001b[0m\n\u001b[0m",
      "\u001b[1;32m~\\AppData\\Local\\Temp/ipykernel_46728/586397994.py\u001b[0m in \u001b[0;36mcheck\u001b[1;34m(n, nums)\u001b[0m\n\u001b[0;32m     18\u001b[0m         \u001b[0my\u001b[0m \u001b[1;33m=\u001b[0m \u001b[0mn\u001b[0m \u001b[1;33m%\u001b[0m\u001b[1;36m3\u001b[0m\u001b[1;33m\u001b[0m\u001b[1;33m\u001b[0m\u001b[0m\n\u001b[0;32m     19\u001b[0m         \u001b[1;32mfor\u001b[0m \u001b[0mi\u001b[0m \u001b[1;32min\u001b[0m \u001b[0mrange\u001b[0m\u001b[1;33m(\u001b[0m\u001b[1;36m4\u001b[0m\u001b[1;33m)\u001b[0m\u001b[1;33m:\u001b[0m\u001b[1;33m\u001b[0m\u001b[1;33m\u001b[0m\u001b[0m\n\u001b[1;32m---> 20\u001b[1;33m             \u001b[0mnx\u001b[0m \u001b[1;33m=\u001b[0m \u001b[0mx\u001b[0m \u001b[1;33m+\u001b[0m \u001b[0mdx\u001b[0m\u001b[1;33m[\u001b[0m\u001b[0mi\u001b[0m\u001b[1;33m]\u001b[0m\u001b[1;33m\u001b[0m\u001b[1;33m\u001b[0m\u001b[0m\n\u001b[0m\u001b[0;32m     21\u001b[0m             \u001b[0mny\u001b[0m \u001b[1;33m=\u001b[0m \u001b[0my\u001b[0m \u001b[1;33m+\u001b[0m \u001b[0mdy\u001b[0m\u001b[1;33m[\u001b[0m\u001b[0mi\u001b[0m\u001b[1;33m]\u001b[0m\u001b[1;33m\u001b[0m\u001b[1;33m\u001b[0m\u001b[0m\n\u001b[0;32m     22\u001b[0m             \u001b[1;32mif\u001b[0m \u001b[1;36m0\u001b[0m\u001b[1;33m<=\u001b[0m \u001b[0mnx\u001b[0m \u001b[1;33m<\u001b[0m \u001b[1;36m3\u001b[0m \u001b[1;32mand\u001b[0m \u001b[1;36m0\u001b[0m\u001b[1;33m<=\u001b[0m \u001b[0mny\u001b[0m \u001b[1;33m<\u001b[0m \u001b[1;36m3\u001b[0m\u001b[1;33m:\u001b[0m\u001b[1;33m\u001b[0m\u001b[1;33m\u001b[0m\u001b[0m\n",
      "\u001b[1;31mNameError\u001b[0m: name 'dx' is not defined"
     ]
    }
   ],
   "source": [
    "import sys\n",
    "import collections\n",
    "from copy import deepcopy\n",
    "from collections import deque\n",
    "\n",
    "\n",
    "def check(n, nums):\n",
    "    count = 0\n",
    "    Q = deque()\n",
    "    Q.append((count, n, nums))\n",
    "    visited = collections.defaultdict(str)\n",
    "    while Q:\n",
    "        cnt, n, nums = Q.popleft()\n",
    "        if nums == '123456780':\n",
    "            return cnt\n",
    "        \n",
    "        x= n//3\n",
    "        y = n %3\n",
    "        for i in range(4):\n",
    "            nx = x + dx[i]\n",
    "            ny = y + dy[i]\n",
    "            if 0<= nx < 3 and 0<= ny < 3:\n",
    "                idx = 3*nx + ny\n",
    "                tmp = list(nums)\n",
    "                tmp[idx], tmp[n] = tmp[n], tmp[idx]    \n",
    "                if \"\".join(tmp) not in visited:\n",
    "                    visited[\"\".join(tmp)] = 1\n",
    "                    Q.append((cnt+1, idx, \"\".join(tmp)))\n",
    "                  \n",
    "                \n",
    "    return -1\n",
    "\n",
    "\n",
    "f = open('./test.txt','r')\n",
    "nums = [list(map(int, f.readline().strip().split(' '))) for k in range(3) ]\n",
    "nums = [j for i in nums for j in i]\n",
    "n = nums.index(0)\n",
    "nums= \"\".join(list(map(str, nums)))\n",
    "print(check(n, nums))"
   ]
  },
  {
   "cell_type": "code",
   "execution_count": 105,
   "id": "a5de076f",
   "metadata": {},
   "outputs": [
    {
     "ename": "ValueError",
     "evalue": "not enough values to unpack (expected 2, got 1)",
     "output_type": "error",
     "traceback": [
      "\u001b[1;31m---------------------------------------------------------------------------\u001b[0m",
      "\u001b[1;31mValueError\u001b[0m                                Traceback (most recent call last)",
      "\u001b[1;32m~\\AppData\\Local\\Temp/ipykernel_46728/1103701474.py\u001b[0m in \u001b[0;36m<module>\u001b[1;34m\u001b[0m\n\u001b[0;32m      3\u001b[0m \u001b[1;32mfrom\u001b[0m \u001b[0mcollections\u001b[0m \u001b[1;32mimport\u001b[0m \u001b[0mdefaultdict\u001b[0m\u001b[1;33m\u001b[0m\u001b[1;33m\u001b[0m\u001b[0m\n\u001b[0;32m      4\u001b[0m \u001b[0mf\u001b[0m\u001b[1;33m=\u001b[0m \u001b[0mopen\u001b[0m\u001b[1;33m(\u001b[0m\u001b[1;34m'./test.txt'\u001b[0m\u001b[1;33m,\u001b[0m \u001b[1;34m'r'\u001b[0m\u001b[1;33m)\u001b[0m\u001b[1;33m\u001b[0m\u001b[1;33m\u001b[0m\u001b[0m\n\u001b[1;32m----> 5\u001b[1;33m \u001b[0mN\u001b[0m\u001b[1;33m,\u001b[0m \u001b[0mK\u001b[0m \u001b[1;33m=\u001b[0m \u001b[0mlist\u001b[0m\u001b[1;33m(\u001b[0m\u001b[0mmap\u001b[0m\u001b[1;33m(\u001b[0m\u001b[0mint\u001b[0m\u001b[1;33m,\u001b[0m \u001b[0mf\u001b[0m\u001b[1;33m.\u001b[0m\u001b[0mreadline\u001b[0m\u001b[1;33m(\u001b[0m\u001b[1;33m)\u001b[0m\u001b[1;33m.\u001b[0m\u001b[0mstrip\u001b[0m\u001b[1;33m(\u001b[0m\u001b[1;33m)\u001b[0m\u001b[1;33m.\u001b[0m\u001b[0msplit\u001b[0m\u001b[1;33m(\u001b[0m\u001b[1;34m' '\u001b[0m\u001b[1;33m)\u001b[0m\u001b[1;33m)\u001b[0m\u001b[1;33m)\u001b[0m\u001b[1;33m\u001b[0m\u001b[1;33m\u001b[0m\u001b[0m\n\u001b[0m\u001b[0;32m      6\u001b[0m \u001b[1;33m\u001b[0m\u001b[0m\n\u001b[0;32m      7\u001b[0m \u001b[0mQ\u001b[0m \u001b[1;33m=\u001b[0m \u001b[0mdeque\u001b[0m\u001b[1;33m(\u001b[0m\u001b[1;33m)\u001b[0m\u001b[1;33m\u001b[0m\u001b[1;33m\u001b[0m\u001b[0m\n",
      "\u001b[1;31mValueError\u001b[0m: not enough values to unpack (expected 2, got 1)"
     ]
    }
   ],
   "source": [
    "\n",
    "import sys\n",
    "from collections import deque\n",
    "from collections import defaultdict\n",
    "f= open('./test.txt', 'r')\n",
    "N, K = list(map(int, f.readline().strip().split(' ')))\n",
    "\n",
    "Q = deque()\n",
    "Q.append((0, N))\n",
    "visited = defaultdict(int)\n",
    "while Q:\n",
    "    cnt, x = Q.popleft()\n",
    "    if x == K:\n",
    "        print(cnt)\n",
    "        break\n",
    "    for i in [x-1, x+1, x*2]:\n",
    "        if 0<= i <= 100000:\n",
    "            if i not in visited:\n",
    "                visited[i] = cnt + 1\n",
    "                Q.append((cnt+1, i))\n",
    "                \n",
    "                "
   ]
  },
  {
   "cell_type": "code",
   "execution_count": 72,
   "id": "a6e351d2",
   "metadata": {},
   "outputs": [],
   "source": [
    "\n",
    "import sys\n",
    "from collections import deque\n",
    "from collections import defaultdict\n",
    "f= open('./test.txt', 'r')\n",
    "N, K = list(map(int, f.readline().strip().split(' ')))\n",
    "alphabets = sorted(f.readline().strip().split(' '))\n",
    "alphabets = sorted(alphabets)\n",
    "\n",
    "comb = []\n",
    "def dfs(cnt, idx, path):    \n",
    "    if cnt == N:\n",
    "        comb.append(path)\n",
    "        return\n",
    "\n",
    "    for i in range(idx, len(alphabets)):\n",
    "        dfs(cnt+1, i+1, path + alphabets[i])\n",
    "        \n",
    "dfs(0,0, '')       \n",
    "results = []\n",
    "for s in comb:\n",
    "    cons = 0\n",
    "    vow = 0\n",
    "    for a in s:\n",
    "        if a in 'aeiou':\n",
    "            cons += 1\n",
    "        else:\n",
    "            vow += 1\n",
    "            \n",
    "    if cons >=1  and vow>=2:\n",
    "        results.append(s)\n",
    "    \n",
    "    \n",
    "for result in results:\n",
    "    print(result)"
   ]
  },
  {
   "cell_type": "code",
   "execution_count": 103,
   "id": "4904e84d",
   "metadata": {},
   "outputs": [],
   "source": [
    "from collections import defaultdict\n",
    "\n",
    "graph = defaultdict(list)\n",
    "f = open('./test.txt','r')\n",
    "N = int(f.readline().strip())\n",
    "for _ in range(N):\n",
    "    k = list(map(int, f.readline().strip().split(' ')))\n",
    "    print(k)\n",
    "    for i in range(1, len(k),2):\n",
    "        if k[i] == -1:\n",
    "            break\n",
    "        graph[k[0]].append((k[i], k[i+1]))\n",
    "\n",
    "def dfs(a,  distance):\n",
    "    for v, w in graph[a]:\n",
    "        if distance[v] == 0:\n",
    "            distance[v] = distance[a] +w\n",
    "            dfs(v, distance)\n",
    "\n",
    "distance1 = [0] * (N+1)            \n",
    "dfs(1, distance1)\n",
    "distance1[1] = 0\n",
    "index = distance1.index(max(distance1))\n",
    "\n",
    "distance2 = [0] * (N+1)\n",
    "dfs(index ,distance2)\n",
    "distance2[index] = 0\n",
    "\n",
    "\n",
    "\n",
    "print(max(distance2))\n"
   ]
  },
  {
   "cell_type": "code",
   "execution_count": null,
   "id": "95c96f8d",
   "metadata": {},
   "outputs": [],
   "source": [
    "f= open('./test.txt', 'r')\n",
    "N, K = list(map(int, f.readline().strip().split(' ')))\n",
    "\n",
    "Q = deque()\n",
    "Q.append((0, N))\n",
    "visited = defaultdict(int)\n",
    "while Q:\n",
    "    cnt, x = Q.popleft()\n",
    "    "
   ]
  },
  {
   "cell_type": "code",
   "execution_count": 48,
   "id": "d60353a9",
   "metadata": {},
   "outputs": [
    {
     "data": {
      "text/plain": [
       "[2, 3, 5, 7, 11, 13, 17, 19]"
      ]
     },
     "execution_count": 48,
     "metadata": {},
     "output_type": "execute_result"
    }
   ],
   "source": [
    "prime_number"
   ]
  },
  {
   "cell_type": "code",
   "execution_count": 49,
   "id": "405c57da",
   "metadata": {},
   "outputs": [
    {
     "data": {
      "text/plain": [
       "20"
      ]
     },
     "execution_count": 49,
     "metadata": {},
     "output_type": "execute_result"
    }
   ],
   "source": [
    "number"
   ]
  },
  {
   "cell_type": "code",
   "execution_count": 62,
   "id": "cd22d095",
   "metadata": {},
   "outputs": [],
   "source": [
    "a = [False, False] + [True] * (N-1)\n",
    "for i in range(2, N+1):\n",
    "    if a[i]:\n",
    "        prime_number.append(i)\n",
    "        for j in range(2*i, N+1, i):\n",
    "            a[j] = False\n"
   ]
  },
  {
   "cell_type": "code",
   "execution_count": null,
   "id": "82489b93",
   "metadata": {},
   "outputs": [],
   "source": [
    "for j in range(2*i, N+1, i):\n",
    "    \n",
    "    "
   ]
  },
  {
   "cell_type": "code",
   "execution_count": 64,
   "id": "e00a64f0",
   "metadata": {},
   "outputs": [],
   "source": [
    "a= [False, False] + [True] * (N-1)\n",
    "for i in range(2, N+1):\n",
    "    if a[i]:\n",
    "        prime_number.append(i)\n",
    "        for j in range(i*2, N+1, i):\n",
    "            a[j] =False"
   ]
  },
  {
   "cell_type": "code",
   "execution_count": 65,
   "id": "0e153cdb",
   "metadata": {},
   "outputs": [
    {
     "data": {
      "text/plain": [
       "[False,\n",
       " False,\n",
       " True,\n",
       " True,\n",
       " False,\n",
       " True,\n",
       " False,\n",
       " True,\n",
       " False,\n",
       " False,\n",
       " False,\n",
       " True,\n",
       " False,\n",
       " True,\n",
       " False,\n",
       " False,\n",
       " False,\n",
       " True,\n",
       " False,\n",
       " True,\n",
       " False,\n",
       " False,\n",
       " False,\n",
       " True,\n",
       " False,\n",
       " False,\n",
       " False,\n",
       " False,\n",
       " False,\n",
       " True,\n",
       " False,\n",
       " True,\n",
       " False,\n",
       " False,\n",
       " False,\n",
       " False,\n",
       " False,\n",
       " True,\n",
       " False,\n",
       " False,\n",
       " False,\n",
       " True]"
      ]
     },
     "execution_count": 65,
     "metadata": {},
     "output_type": "execute_result"
    }
   ],
   "source": [
    "a"
   ]
  },
  {
   "cell_type": "code",
   "execution_count": null,
   "id": "4c6e35c8",
   "metadata": {},
   "outputs": [],
   "source": [
    "for i in range(2, N+1):\n",
    "    if a[i]:\n",
    "        prime_number.append(i)\n",
    "        for j in range(2*i, N+1, i):\n",
    "            a[]"
   ]
  },
  {
   "cell_type": "code",
   "execution_count": 61,
   "id": "526db0e9",
   "metadata": {},
   "outputs": [
    {
     "name": "stdout",
     "output_type": "stream",
     "text": [
      "[2, 3, 5, 7, 11, 13, 17, 19, 23, 29, 31, 37, 41]\n",
      "3\n"
     ]
    }
   ],
   "source": [
    "N = 41\n",
    "\n",
    "\n",
    "a = [False, False] + [True] * (N-1)\n",
    "prime_number = []\n",
    "\n",
    "for i in range(2, N+1):\n",
    "    if a[i]:\n",
    "        prime_number.append(i)\n",
    "        for j in range(2*i, N+1, i):\n",
    "            a[j] = False\n",
    "\n",
    "    \n",
    "\n",
    "\n",
    "sum_num = 0 \n",
    "start = 0\n",
    "count = 0\n",
    "for right, num in enumerate(prime_number):\n",
    "    sum_num += num\n",
    "    if sum_num == N:\n",
    "        count += 1\n",
    "        sum_num -= prime_number[start]\n",
    "        start +=1\n",
    "        \n",
    "    elif sum_num > N:\n",
    "        while (sum_num >= N) or start < right:\n",
    "            sum_num -= prime_number[start]\n",
    "            if sum_num == N:\n",
    "                count += 1\n",
    "            start  += 1\n",
    "                   \n",
    "print(count)        \n"
   ]
  },
  {
   "cell_type": "code",
   "execution_count": null,
   "id": "4c8508aa",
   "metadata": {},
   "outputs": [],
   "source": [
    "a = [False, False] + [True] * (N-1)\n",
    "prime_num = []\n",
    "\n",
    "for i in range(2, N+1):\n",
    "    if a[i]:\n",
    "        prime_num.append(i)\n",
    "        for j in range(2*i, N+1, i):\n",
    "            a[j] = False\n"
   ]
  },
  {
   "cell_type": "code",
   "execution_count": null,
   "id": "2c9e36e4",
   "metadata": {},
   "outputs": [],
   "source": []
  },
  {
   "cell_type": "code",
   "execution_count": null,
   "id": "857b20fc",
   "metadata": {},
   "outputs": [],
   "source": []
  },
  {
   "cell_type": "code",
   "execution_count": null,
   "id": "c75d3b3a",
   "metadata": {},
   "outputs": [],
   "source": []
  },
  {
   "cell_type": "code",
   "execution_count": null,
   "id": "83c75958",
   "metadata": {},
   "outputs": [],
   "source": []
  },
  {
   "cell_type": "code",
   "execution_count": 53,
   "id": "cd156788",
   "metadata": {},
   "outputs": [],
   "source": [
    "N = int(input())\n",
    "\n",
    "a = [False, False] + [True] * (N-1)\n",
    "prime_number = []\n",
    "\n",
    "for i in range(2, N+1):\n",
    "    if a[i]:\n",
    "        prime_number.append(i)\n",
    "        for j in range(2*i, N+1, i):\n",
    "            a[j] = False\n",
    "\n",
    "sum_num = 0 \n",
    "start = 0\n",
    "count = 0\n",
    "for right, num in enumerate(prime_number):\n",
    "    sum_num += num\n",
    "    if sum_num == N:\n",
    "        count += 1\n",
    "        sum_num -= prime_number[start]\n",
    "        start +=1\n",
    "        \n",
    "    elif sum_num > N:\n",
    "        while (sum_num >= N) and start < right:\n",
    "            sum_num -= prime_number[start]\n",
    "            if sum_num == N:\n",
    "                count += 1\n",
    "            start  += 1\n",
    "                   \n",
    "print(count)        "
   ]
  },
  {
   "cell_type": "code",
   "execution_count": 54,
   "id": "743ebcc2",
   "metadata": {},
   "outputs": [
    {
     "data": {
      "text/plain": [
       "1.4142135623730951"
      ]
     },
     "execution_count": 54,
     "metadata": {},
     "output_type": "execute_result"
    }
   ],
   "source": [
    "math.sqrt(2)"
   ]
  },
  {
   "cell_type": "code",
   "execution_count": 51,
   "id": "711c033e",
   "metadata": {},
   "outputs": [
    {
     "data": {
      "text/plain": [
       "0"
      ]
     },
     "execution_count": 51,
     "metadata": {},
     "output_type": "execute_result"
    }
   ],
   "source": [
    "import math\n",
    "\n",
    "n = int(input())\n",
    "\n",
    "prime_number = []\n",
    "array = [True for _ in range(n + 1)]\n",
    "\n",
    "for i in range(2, int(math.sqrt(n)) + 1):\n",
    "    if array[i]:\n",
    "        j = 2\n",
    "\n",
    "        while i * j <= n:\n",
    "            array[i * j] = False\n",
    "            j += 1\n",
    "\n",
    "for num in range(2, n + 1):\n",
    "    if array[num]:\n",
    "        prime_number.append(num)\n",
    "\n",
    "count = 0\n",
    "interval_sum = 0\n",
    "end = 0\n",
    "\n",
    "for start in range(len(prime_number)):\n",
    "    while interval_sum < n and end < len(prime_number):\n",
    "        interval_sum += prime_number[end]\n",
    "        end += 1\n",
    "\n",
    "    if interval_sum == n:\n",
    "        count += 1\n",
    "    interval_sum -= prime_number[start]\n",
    "\n",
    "print(count)"
   ]
  },
  {
   "cell_type": "code",
   "execution_count": null,
   "id": "b8188aee",
   "metadata": {},
   "outputs": [],
   "source": [
    "N, S = list(map(int, sys.stdin.readline().strip().split(' ')))\n",
    "nums = list(map(int, sys.stdin.readline().strip().split(' ')))\n",
    "cand = []\n",
    "def comb(index, path):\n",
    "    \n",
    "    cand.append(path)\n",
    "    \n",
    "    for i in range(index, len(nums)):\n",
    "        comb(i+1, path + [nums[i]])\n",
    "\n",
    "comb(0, [])\n",
    "cand.pop(0)\n",
    "result = [1 if sum(s) == S and s != [] else 0 for s in cand]\n",
    "print(sum(result))"
   ]
  },
  {
   "cell_type": "code",
   "execution_count": null,
   "id": "11308f80",
   "metadata": {},
   "outputs": [],
   "source": [
    "0\n",
    "-2\n"
   ]
  },
  {
   "cell_type": "code",
   "execution_count": null,
   "id": "76337e7f",
   "metadata": {},
   "outputs": [],
   "source": []
  },
  {
   "cell_type": "code",
   "execution_count": null,
   "id": "623aa34e",
   "metadata": {},
   "outputs": [],
   "source": [
    "nums = [ ]\n",
    "result = []\n",
    "def comb(index, path)\n",
    "    result.append(path)\n",
    "    for i in range(index, len(nums)):\n",
    "        comb(index, path +nums[i])"
   ]
  },
  {
   "cell_type": "code",
   "execution_count": 100,
   "id": "5ce97602",
   "metadata": {},
   "outputs": [
    {
     "data": {
      "text/plain": [
       "[[-7],\n",
       " [-7, -3],\n",
       " [-7, -3, -2],\n",
       " [-7, -3, -2, 5],\n",
       " [-7, -3, -2, 5, 8],\n",
       " [-7, -3, -2, 8],\n",
       " [-7, -3, 5],\n",
       " [-7, -3, 5, 8],\n",
       " [-7, -3, 8],\n",
       " [-7, -2],\n",
       " [-7, -2, 5],\n",
       " [-7, -2, 5, 8],\n",
       " [-7, -2, 8],\n",
       " [-7, 5],\n",
       " [-7, 5, 8],\n",
       " [-7, 8],\n",
       " [-3],\n",
       " [-3, -2],\n",
       " [-3, -2, 5],\n",
       " [-3, -2, 5, 8],\n",
       " [-3, -2, 8],\n",
       " [-3, 5],\n",
       " [-3, 5, 8],\n",
       " [-3, 8],\n",
       " [-2],\n",
       " [-2, 5],\n",
       " [-2, 5, 8],\n",
       " [-2, 8],\n",
       " [5],\n",
       " [5, 8],\n",
       " [8]]"
      ]
     },
     "execution_count": 100,
     "metadata": {},
     "output_type": "execute_result"
    }
   ],
   "source": [
    "result.append(path)\n",
    "for i in range(index, len(nums)):\n",
    "   comb path+nums[i]"
   ]
  },
  {
   "cell_type": "code",
   "execution_count": 102,
   "id": "e0ebef0c",
   "metadata": {},
   "outputs": [
    {
     "data": {
      "text/plain": [
       "[-7, -3, -2, 5, 8]"
      ]
     },
     "execution_count": 102,
     "metadata": {},
     "output_type": "execute_result"
    }
   ],
   "source": [
    "nums"
   ]
  },
  {
   "cell_type": "code",
   "execution_count": null,
   "id": "0a978ef4",
   "metadata": {},
   "outputs": [],
   "source": [
    "1\n",
    "12\n",
    "13\n",
    "123\n",
    "1234\n",
    "12345\n",
    "\n",
    "2"
   ]
  },
  {
   "cell_type": "code",
   "execution_count": 103,
   "id": "646c44c5",
   "metadata": {},
   "outputs": [
    {
     "data": {
      "text/plain": [
       "[[-7],\n",
       " [-7, -3],\n",
       " [-7, -3, -2],\n",
       " [-7, -3, -2, 5],\n",
       " [-7, -3, -2, 5, 8],\n",
       " [-7, -3, -2, 8],\n",
       " [-7, -3, 5],\n",
       " [-7, -3, 5, 8],\n",
       " [-7, -3, 8],\n",
       " [-7, -2],\n",
       " [-7, -2, 5],\n",
       " [-7, -2, 5, 8],\n",
       " [-7, -2, 8],\n",
       " [-7, 5],\n",
       " [-7, 5, 8],\n",
       " [-7, 8],\n",
       " [-3],\n",
       " [-3, -2],\n",
       " [-3, -2, 5],\n",
       " [-3, -2, 5, 8],\n",
       " [-3, -2, 8],\n",
       " [-3, 5],\n",
       " [-3, 5, 8],\n",
       " [-3, 8],\n",
       " [-2],\n",
       " [-2, 5],\n",
       " [-2, 5, 8],\n",
       " [-2, 8],\n",
       " [5],\n",
       " [5, 8],\n",
       " [8]]"
      ]
     },
     "execution_count": 103,
     "metadata": {},
     "output_type": "execute_result"
    }
   ],
   "source": [
    "cand"
   ]
  },
  {
   "cell_type": "code",
   "execution_count": 92,
   "id": "12d393fd",
   "metadata": {},
   "outputs": [
    {
     "data": {
      "text/plain": [
       "[set(),\n",
       " {5},\n",
       " {5, 8},\n",
       " {-7, 5, 8},\n",
       " {-7, -3, 5, 8},\n",
       " {-7, -2, 5, 8},\n",
       " {-3, 5, 8},\n",
       " {-3, -2, 5, 8},\n",
       " {-2, 5, 8},\n",
       " {-7, 5},\n",
       " {-7, -3, 5},\n",
       " {-7, -3, -2, 5},\n",
       " {-7, -2, 5},\n",
       " {-3, 5},\n",
       " {-3, -2, 5},\n",
       " {-2, 5},\n",
       " {8},\n",
       " {-7, 8},\n",
       " {-7, -3, 8},\n",
       " {-7, -3, -2, 8},\n",
       " {-7, -2, 8},\n",
       " {-3, 8},\n",
       " {-3, -2, 8},\n",
       " {-2, 8},\n",
       " {-7},\n",
       " {-7, -3},\n",
       " {-7, -3, -2},\n",
       " {-7, -2},\n",
       " {-3},\n",
       " {-3, -2},\n",
       " {-2}]"
      ]
     },
     "execution_count": 92,
     "metadata": {},
     "output_type": "execute_result"
    }
   ],
   "source": [
    "[]\n",
    "\n",
    "for in range(index, len(nums))\n"
   ]
  },
  {
   "cell_type": "code",
   "execution_count": 42,
   "id": "540abbbe",
   "metadata": {},
   "outputs": [
    {
     "data": {
      "text/plain": [
       "0"
      ]
     },
     "execution_count": 42,
     "metadata": {},
     "output_type": "execute_result"
    }
   ],
   "source": [
    "S"
   ]
  },
  {
   "cell_type": "code",
   "execution_count": 40,
   "id": "215cd58d",
   "metadata": {},
   "outputs": [
    {
     "data": {
      "text/plain": [
       "[set()]"
      ]
     },
     "execution_count": 40,
     "metadata": {},
     "output_type": "execute_result"
    }
   ],
   "source": [
    "cand"
   ]
  },
  {
   "cell_type": "code",
   "execution_count": 57,
   "id": "2dab3709",
   "metadata": {},
   "outputs": [],
   "source": [
    "#k = []\n",
    "s = {1}\n"
   ]
  },
  {
   "cell_type": "code",
   "execution_count": 64,
   "id": "270fa419",
   "metadata": {},
   "outputs": [],
   "source": [
    "k = [set()]"
   ]
  },
  {
   "cell_type": "code",
   "execution_count": 65,
   "id": "ffbd1052",
   "metadata": {},
   "outputs": [],
   "source": [
    "if s not in k:\n",
    "    k.append(s)"
   ]
  },
  {
   "cell_type": "code",
   "execution_count": 66,
   "id": "145d4ee7",
   "metadata": {},
   "outputs": [
    {
     "data": {
      "text/plain": [
       "[set(), {1}]"
      ]
     },
     "execution_count": 66,
     "metadata": {},
     "output_type": "execute_result"
    }
   ],
   "source": [
    "k"
   ]
  },
  {
   "cell_type": "code",
   "execution_count": 5,
   "id": "975f7588",
   "metadata": {},
   "outputs": [
    {
     "data": {
      "text/plain": [
       "[]"
      ]
     },
     "execution_count": 5,
     "metadata": {},
     "output_type": "execute_result"
    }
   ],
   "source": [
    "result"
   ]
  },
  {
   "cell_type": "code",
   "execution_count": 21,
   "id": "70a93a8b",
   "metadata": {},
   "outputs": [],
   "source": [
    " k ={1,2,3,4}"
   ]
  },
  {
   "cell_type": "code",
   "execution_count": 22,
   "id": "f4a43ddd",
   "metadata": {},
   "outputs": [],
   "source": [
    "k.add(5)"
   ]
  },
  {
   "cell_type": "code",
   "execution_count": 26,
   "id": "8ba02060",
   "metadata": {},
   "outputs": [
    {
     "data": {
      "text/plain": [
       "['__and__',\n",
       " '__class__',\n",
       " '__contains__',\n",
       " '__delattr__',\n",
       " '__dir__',\n",
       " '__doc__',\n",
       " '__eq__',\n",
       " '__format__',\n",
       " '__ge__',\n",
       " '__getattribute__',\n",
       " '__gt__',\n",
       " '__hash__',\n",
       " '__iand__',\n",
       " '__init__',\n",
       " '__init_subclass__',\n",
       " '__ior__',\n",
       " '__isub__',\n",
       " '__iter__',\n",
       " '__ixor__',\n",
       " '__le__',\n",
       " '__len__',\n",
       " '__lt__',\n",
       " '__ne__',\n",
       " '__new__',\n",
       " '__or__',\n",
       " '__rand__',\n",
       " '__reduce__',\n",
       " '__reduce_ex__',\n",
       " '__repr__',\n",
       " '__ror__',\n",
       " '__rsub__',\n",
       " '__rxor__',\n",
       " '__setattr__',\n",
       " '__sizeof__',\n",
       " '__str__',\n",
       " '__sub__',\n",
       " '__subclasshook__',\n",
       " '__xor__',\n",
       " 'add',\n",
       " 'clear',\n",
       " 'copy',\n",
       " 'difference',\n",
       " 'difference_update',\n",
       " 'discard',\n",
       " 'intersection',\n",
       " 'intersection_update',\n",
       " 'isdisjoint',\n",
       " 'issubset',\n",
       " 'issuperset',\n",
       " 'pop',\n",
       " 'remove',\n",
       " 'symmetric_difference',\n",
       " 'symmetric_difference_update',\n",
       " 'union',\n",
       " 'update']"
      ]
     },
     "execution_count": 26,
     "metadata": {},
     "output_type": "execute_result"
    }
   ],
   "source": [
    "dir(k)"
   ]
  },
  {
   "cell_type": "code",
   "execution_count": null,
   "id": "73e5df40",
   "metadata": {},
   "outputs": [],
   "source": [
    "2칸 위로, 1칸 오른쪽\n",
    "1칸 위로, 2칸 오른쪽\n",
    "1칸 아래로, 2칸 오른쪽\n",
    "2칸 아래로, 1칸 오른쪽"
   ]
  },
  {
   "cell_type": "code",
   "execution_count": 107,
   "id": "380b9fef",
   "metadata": {},
   "outputs": [],
   "source": [
    "cnt =0"
   ]
  },
  {
   "cell_type": "code",
   "execution_count": 119,
   "id": "687fe9d9",
   "metadata": {},
   "outputs": [],
   "source": [
    "cnt = cnt |1 << 4 "
   ]
  },
  {
   "cell_type": "code",
   "execution_count": 120,
   "id": "c48a2a95",
   "metadata": {},
   "outputs": [
    {
     "data": {
      "text/plain": [
       "30"
      ]
     },
     "execution_count": 120,
     "metadata": {},
     "output_type": "execute_result"
    }
   ],
   "source": [
    "cnt"
   ]
  },
  {
   "cell_type": "code",
   "execution_count": null,
   "id": "7068cd3b",
   "metadata": {},
   "outputs": [],
   "source": []
  },
  {
   "cell_type": "code",
   "execution_count": 1,
   "id": "4ca7fbf0",
   "metadata": {},
   "outputs": [],
   "source": [
    "import sys\n",
    "f = open('./test.txt',\"r\")\n",
    "N , M = list(map(int, f.readline().strip().split()))\n",
    "matrix = [list(map(int, f.readline().strip().split())) for _ in range(N)]"
   ]
  },
  {
   "cell_type": "code",
   "execution_count": 2,
   "id": "3a8fcfbf",
   "metadata": {},
   "outputs": [
    {
     "data": {
      "text/plain": [
       "[[5, 1, 3], [2, 4, 8], [1, 1, 2]]"
      ]
     },
     "execution_count": 2,
     "metadata": {},
     "output_type": "execute_result"
    }
   ],
   "source": [
    "matrix"
   ]
  },
  {
   "cell_type": "code",
   "execution_count": 6,
   "id": "1f9431a8",
   "metadata": {},
   "outputs": [
    {
     "data": {
      "text/plain": [
       "(5, 0, 0)"
      ]
     },
     "execution_count": 6,
     "metadata": {},
     "output_type": "execute_result"
    }
   ],
   "source": [
    "import sys\n",
    "import heapq\n",
    "\n",
    "Q = [(matrix[0][0], 0, 0)]\n",
    "heapq.heappop(Q)"
   ]
  },
  {
   "cell_type": "code",
   "execution_count": 13,
   "id": "edc5bcee",
   "metadata": {
    "scrolled": true
   },
   "outputs": [
    {
     "name": "stdout",
     "output_type": "stream",
     "text": [
      "-5\n",
      "-7\n",
      "-11\n",
      "-19\n",
      "-22\n",
      "-21\n",
      "0220\n"
     ]
    }
   ],
   "source": [
    "import sys\n",
    "import heapq\n",
    "f = open('./test.txt',\"r\")\n",
    "N , M = list(map(int, f.readline().strip().split()))\n",
    "matrix = [list(map(int, f.readline().strip().split())) for _ in range(N)]\n",
    "dx = [1, -1, 0, 0]\n",
    "dy = [0, 0, 1, -1]\n",
    "visited = [[0]*M for _ in range(N)]\n",
    "visited[0][0] = 1\n",
    "max_num = 0\n",
    "Q = [(-matrix[0][0], 0, 0, '')]\n",
    "while Q:\n",
    "    cnt, x, y, path = heapq.heappop(Q)\n",
    "    print(cnt)\n",
    "    if x== N-1 and y == M-1:\n",
    "        print(path)\n",
    "        break\n",
    "        \n",
    "        \n",
    "    for i in range(4):\n",
    "        nx = x + dx[i]\n",
    "        ny = y + dy[i]\n",
    "        if 0<= nx < N and 0 <= ny < M:\n",
    "            if visited[nx][ny] == 0:\n",
    "                visited[nx][ny] =1\n",
    "                heapq.heappush(Q, (cnt -matrix[nx][ny], nx, ny, path+str(i)))\n",
    "                "
   ]
  },
  {
   "cell_type": "code",
   "execution_count": 14,
   "id": "8b6ca698",
   "metadata": {},
   "outputs": [],
   "source": [
    "f = open('./test.txt',\"r\")\n",
    "N , M = list(map(int, f.readline().strip().split()))\n",
    "matrix = [list(map(int, f.readline().strip().split())) for _ in range(N)]\n",
    "\n",
    "\n"
   ]
  },
  {
   "cell_type": "code",
   "execution_count": 3,
   "id": "4fc25856",
   "metadata": {},
   "outputs": [
    {
     "ename": "NameError",
     "evalue": "name 'r' is not defined",
     "output_type": "error",
     "traceback": [
      "\u001b[1;31m---------------------------------------------------------------------------\u001b[0m",
      "\u001b[1;31mNameError\u001b[0m                                 Traceback (most recent call last)",
      "\u001b[1;32m~\\AppData\\Local\\Temp/ipykernel_34604/3282442745.py\u001b[0m in \u001b[0;36m<module>\u001b[1;34m\u001b[0m\n\u001b[0;32m     23\u001b[0m     \u001b[0my\u001b[0m \u001b[1;33m=\u001b[0m \u001b[1;36m0\u001b[0m\u001b[1;33m\u001b[0m\u001b[1;33m\u001b[0m\u001b[0m\n\u001b[0;32m     24\u001b[0m     \u001b[0mxbound\u001b[0m \u001b[1;33m=\u001b[0m \u001b[1;36m2\u001b[0m \u001b[1;33m*\u001b[0m \u001b[1;33m(\u001b[0m\u001b[0mlow_point\u001b[0m\u001b[1;33m[\u001b[0m\u001b[1;36m1\u001b[0m\u001b[1;33m]\u001b[0m\u001b[1;33m//\u001b[0m\u001b[1;36m2\u001b[0m\u001b[1;33m)\u001b[0m \u001b[1;33m+\u001b[0m\u001b[1;36m1\u001b[0m\u001b[1;33m\u001b[0m\u001b[1;33m\u001b[0m\u001b[0m\n\u001b[1;32m---> 25\u001b[1;33m     \u001b[1;32mwhile\u001b[0m \u001b[0mx\u001b[0m \u001b[1;33m!=\u001b[0m \u001b[0mxbound\u001b[0m \u001b[1;32mor\u001b[0m \u001b[0my\u001b[0m \u001b[1;33m!=\u001b[0m \u001b[0mr\u001b[0m \u001b[1;33m-\u001b[0m\u001b[1;36m1\u001b[0m\u001b[1;33m:\u001b[0m\u001b[1;33m\u001b[0m\u001b[1;33m\u001b[0m\u001b[0m\n\u001b[0m\u001b[0;32m     26\u001b[0m         \u001b[1;32mif\u001b[0m \u001b[0mx\u001b[0m \u001b[1;33m<\u001b[0m \u001b[0mxbound\u001b[0m \u001b[1;32mand\u001b[0m \u001b[1;33m(\u001b[0m\u001b[0my\u001b[0m\u001b[1;33m,\u001b[0m \u001b[0mxbound\u001b[0m\u001b[1;33m)\u001b[0m \u001b[1;33m!=\u001b[0m \u001b[0mlow_point\u001b[0m\u001b[1;33m:\u001b[0m\u001b[1;33m\u001b[0m\u001b[1;33m\u001b[0m\u001b[0m\n\u001b[0;32m     27\u001b[0m             \u001b[0mx\u001b[0m \u001b[1;33m+=\u001b[0m\u001b[1;36m1\u001b[0m\u001b[1;33m\u001b[0m\u001b[1;33m\u001b[0m\u001b[0m\n",
      "\u001b[1;31mNameError\u001b[0m: name 'r' is not defined"
     ]
    }
   ],
   "source": [
    "f = open('./test.txt',\"r\")\n",
    "N , M = list(map(int, f.readline().strip().split()))\n",
    "matrix = [list(map(int, f.readline().strip().split())) for _ in range(N)]\n",
    "\n",
    "if N % 2 == 1:\n",
    "    result = ('D' * (M-1) + 'R' + 'U' * (M-1) + 'R') * (M//2) + 'D'*(M-1)\n",
    "\n",
    "elif M % 2 == 1:\n",
    "    result = ('R' * (N-1) + 'D' + 'L' *(N-1) + 'D') * (N//2) + 'R'(N-1)\n",
    "    \n",
    "\n",
    "elif N % 2 ==0  and M % 2 == 0:\n",
    "    low_point = (-1, -1)\n",
    "    low_num = sys.maxsize\n",
    "    for i in range(1, N+1):\n",
    "        for j in range(1, M+1):\n",
    "            if (i +j) % 2==1 and matrix[i-1][j-1]<low_num:\n",
    "                low_num = matrix[i-1][j-1]\n",
    "                low_point = (i-1, j-1)\n",
    "                \n",
    "    result = ('D'*(N-1) + 'R' + 'U'*(N-1)+'R') *(low_point[1]//2)\n",
    "    x = 2 * (low_point[1] //2)\n",
    "    y = 0\n",
    "    xbound = 2 * (low_point[1]//2) +1\n",
    "    while x != xbound or y != r -1:\n",
    "        if x < xbound and (y, xbound) != low_point:\n",
    "            x +=1 \n",
    "            result += 'R'\n",
    "            \n",
    "        elif x == xbound and [y, xbound -1] != low_point:\n",
    "            x -= 1\n",
    "            result += 'L'\n",
    "            \n",
    "            \n",
    "            \n",
    "        if y != N-1:\n",
    "            y += 1\n",
    "            result +='D'\n",
    "            \n",
    "            \n",
    "    result += ('R' + 'U'*(N-1) + 'R' + 'D'*(N-1))*((M-low_point[1]-1)//2)\n",
    " \n",
    "print(result)"
   ]
  },
  {
   "cell_type": "code",
   "execution_count": 2,
   "id": "d99ebced",
   "metadata": {},
   "outputs": [
    {
     "ename": "ValueError",
     "evalue": "not enough values to unpack (expected 2, got 0)",
     "output_type": "error",
     "traceback": [
      "\u001b[1;31m---------------------------------------------------------------------------\u001b[0m",
      "\u001b[1;31mValueError\u001b[0m                                Traceback (most recent call last)",
      "\u001b[1;32m~\\AppData\\Local\\Temp/ipykernel_34604/4089571888.py\u001b[0m in \u001b[0;36m<module>\u001b[1;34m\u001b[0m\n\u001b[0;32m      1\u001b[0m \u001b[1;32mimport\u001b[0m \u001b[0msys\u001b[0m\u001b[1;33m\u001b[0m\u001b[1;33m\u001b[0m\u001b[0m\n\u001b[0;32m      2\u001b[0m \u001b[1;33m\u001b[0m\u001b[0m\n\u001b[1;32m----> 3\u001b[1;33m \u001b[0mN\u001b[0m \u001b[1;33m,\u001b[0m \u001b[0mM\u001b[0m \u001b[1;33m=\u001b[0m \u001b[0mlist\u001b[0m\u001b[1;33m(\u001b[0m\u001b[0mmap\u001b[0m\u001b[1;33m(\u001b[0m\u001b[0mint\u001b[0m\u001b[1;33m,\u001b[0m \u001b[0msys\u001b[0m\u001b[1;33m.\u001b[0m\u001b[0mstdin\u001b[0m\u001b[1;33m.\u001b[0m\u001b[0mreadline\u001b[0m\u001b[1;33m(\u001b[0m\u001b[1;33m)\u001b[0m\u001b[1;33m.\u001b[0m\u001b[0mstrip\u001b[0m\u001b[1;33m(\u001b[0m\u001b[1;33m)\u001b[0m\u001b[1;33m.\u001b[0m\u001b[0msplit\u001b[0m\u001b[1;33m(\u001b[0m\u001b[1;33m)\u001b[0m\u001b[1;33m)\u001b[0m\u001b[1;33m)\u001b[0m\u001b[1;33m\u001b[0m\u001b[1;33m\u001b[0m\u001b[0m\n\u001b[0m\u001b[0;32m      4\u001b[0m \u001b[0mmatrix\u001b[0m \u001b[1;33m=\u001b[0m \u001b[1;33m[\u001b[0m\u001b[0mlist\u001b[0m\u001b[1;33m(\u001b[0m\u001b[0mmap\u001b[0m\u001b[1;33m(\u001b[0m\u001b[0mint\u001b[0m\u001b[1;33m,\u001b[0m \u001b[0msys\u001b[0m\u001b[1;33m.\u001b[0m\u001b[0mstdin\u001b[0m\u001b[1;33m.\u001b[0m\u001b[0mreadline\u001b[0m\u001b[1;33m(\u001b[0m\u001b[1;33m)\u001b[0m\u001b[1;33m.\u001b[0m\u001b[0mstrip\u001b[0m\u001b[1;33m(\u001b[0m\u001b[1;33m)\u001b[0m\u001b[1;33m.\u001b[0m\u001b[0msplit\u001b[0m\u001b[1;33m(\u001b[0m\u001b[1;33m)\u001b[0m\u001b[1;33m)\u001b[0m\u001b[1;33m)\u001b[0m \u001b[1;32mfor\u001b[0m \u001b[0m_\u001b[0m \u001b[1;32min\u001b[0m \u001b[0mrange\u001b[0m\u001b[1;33m(\u001b[0m\u001b[0mN\u001b[0m\u001b[1;33m)\u001b[0m\u001b[1;33m]\u001b[0m\u001b[1;33m\u001b[0m\u001b[1;33m\u001b[0m\u001b[0m\n\u001b[0;32m      5\u001b[0m \u001b[1;33m\u001b[0m\u001b[0m\n",
      "\u001b[1;31mValueError\u001b[0m: not enough values to unpack (expected 2, got 0)"
     ]
    }
   ],
   "source": [
    "import sys\n",
    "\n",
    "N , M = list(map(int, sys.stdin.readline().strip().split()))\n",
    "matrix = [list(map(int, sys.stdin.readline().strip().split())) for _ in range(N)]\n",
    "\n",
    "if N % 2 == 1:\n",
    "    result = ('D' * (M-1) + 'R' + 'U' * (M-1) + 'R') * (M//2) + 'D'*(M-1)\n",
    "\n",
    "elif M % 2 == 1:\n",
    "    result = ('R' * (N-1) + 'D' + 'L' *(N-1) + 'D') * (N//2) + 'R'*(N-1)\n",
    "    \n",
    "elif N % 2 ==0  and M % 2 == 0:\n",
    "    low_point = (-1, -1)\n",
    "    low_num = sys.maxsize\n",
    "    for i in range(1, N+1):\n",
    "        for j in range(1, M+1):\n",
    "            if (i +j) % 2==1 and matrix[i-1][j-1]<low_num:\n",
    "                low_num = matrix[i-1][j-1]\n",
    "                low_point = (i-1, j-1)\n",
    "                \n",
    "    result = ('D'*(N-1) + 'R' + 'U'*(N-1)+'R') *(low_point[1]//2)\n",
    "    x = 2 * (low_point[1] //2)\n",
    "    y = 0\n",
    "    xbound = 2 * (low_point[1]//2) +1\n",
    "    while x != xbound or y != r -1:\n",
    "        if x < xbound and (y, xbound) != low_point:\n",
    "            x +=1 \n",
    "            result += 'R'\n",
    "            \n",
    "        elif x == xbound and [y, xbound -1] != low_point:\n",
    "            x -= 1\n",
    "            result += 'L'\n",
    "            \n",
    "            \n",
    "            \n",
    "        if y != N-1:\n",
    "            y += 1\n",
    "            result +='D'\n",
    "            \n",
    "            \n",
    "    result += ('R' + 'U'*(N-1) + 'R' + 'D'*(N-1))*((M-low_point[1]-1)//2)\n",
    " \n",
    "\n",
    "print(result)"
   ]
  },
  {
   "cell_type": "code",
   "execution_count": 18,
   "id": "6e2b3351",
   "metadata": {},
   "outputs": [
    {
     "data": {
      "text/plain": [
       "9223372036854775807"
      ]
     },
     "execution_count": 18,
     "metadata": {},
     "output_type": "execute_result"
    }
   ],
   "source": [
    "sys.maxsize"
   ]
  },
  {
   "cell_type": "code",
   "execution_count": null,
   "id": "96a7f11a",
   "metadata": {},
   "outputs": [],
   "source": []
  },
  {
   "cell_type": "code",
   "execution_count": null,
   "id": "175597d2",
   "metadata": {},
   "outputs": [],
   "source": [
    "import sys \n"
   ]
  },
  {
   "cell_type": "code",
   "execution_count": null,
   "id": "b171f894",
   "metadata": {},
   "outputs": [],
   "source": [
    "elif r % 2 == 0 and c % 2 ==0:\n",
    "    low = 1000\n",
    "    position = [-1, -1]\n",
    "    for i in range(r):\n",
    "        if i % 2 == 0:\n",
    "            for j in range(1, c, 2):\n",
    "                if low > ground"
   ]
  },
  {
   "cell_type": "code",
   "execution_count": null,
   "id": "9866eeb9",
   "metadata": {},
   "outputs": [],
   "source": []
  },
  {
   "cell_type": "code",
   "execution_count": null,
   "id": "c94fffd2",
   "metadata": {},
   "outputs": [],
   "source": [
    "2<  =0\n",
    "\n",
    "M > = 2"
   ]
  },
  {
   "cell_type": "code",
   "execution_count": 154,
   "id": "fc3a0694",
   "metadata": {},
   "outputs": [
    {
     "data": {
      "text/plain": [
       "2"
      ]
     },
     "execution_count": 154,
     "metadata": {},
     "output_type": "execute_result"
    }
   ],
   "source": [
    "def dfs(cnt, x, y, path, visited):\n",
    "    global max_num\n",
    "    if x == N-1 and y==M-1:\n",
    "        print(path)\n",
    "        return\n",
    "\n",
    "    for i in range(4):\n",
    "        nx = x + dx[i]\n",
    "        ny = y + dy[i]\n",
    "        if 0 <= nx < N and 0 <= ny < M:\n",
    "            if visited[nx][ny] == 0:\n",
    "                visited[nx][ny] = 1\n",
    "                dfs(cnt+matrix[nx][ny], nx, ny, path+str(i), visited[:])\n",
    "                visited[nx][ny] = 0\n",
    "\n",
    "    # 어떻게 진행할까?\n",
    "\n",
    "\n",
    "dfs(1, 0, 0, 0,visit[:])"
   ]
  },
  {
   "cell_type": "code",
   "execution_count": null,
   "id": "da65ca0c",
   "metadata": {},
   "outputs": [],
   "source": [
    "N, M = map(int, input().split())\n",
    "if N == 1:\n",
    "    max_count = 1\n",
    "elif N ==2:\n",
    "    max_count = min(4, (M-1//2)+ 1)\n",
    "    \n",
    "elif N >=3 and M<7:\n",
    "    max_count = min(4, M)\n",
    "    \n",
    "    \n",
    "elif N >= 3 and M >= 7:\n",
    "    max_count = 2+ (M-5) + 1\n",
    "    \n",
    "print(max_count)\n",
    "\n",
    "\n",
    "\n",
    "\n",
    "\n"
   ]
  },
  {
   "cell_type": "code",
   "execution_count": 171,
   "id": "4558dd8c",
   "metadata": {},
   "outputs": [
    {
     "name": "stdout",
     "output_type": "stream",
     "text": [
      "3\n"
     ]
    }
   ],
   "source": [
    "f = open('./test.txt', 'r')\n",
    "N = int(f.readline().strip())\n",
    "from collections import defaultdict\n",
    "\n",
    "\n",
    "def check(start, k):\n",
    "    global count\n",
    "    available = False\n",
    "    for i in times[k]:\n",
    "        if i>=start:\n",
    "            available =  True\n",
    "            if i == k:\n",
    "                count +=1\n",
    "              \n",
    "    return available\n",
    "times = defaultdict(list)\n",
    "for i in range(N):\n",
    "    a,b = list(map(int, f.readline().strip().split()))\n",
    "    times[b].append(a)\n",
    "    \n",
    "start = 0    \n",
    "count = 0\n",
    "for t in sorted(times):\n",
    "    if check(start, t):\n",
    "        count += 1\n",
    "        start = t\n",
    "print(count)"
   ]
  },
  {
   "cell_type": "code",
   "execution_count": null,
   "id": "6068ff26",
   "metadata": {},
   "outputs": [],
   "source": [
    "import sys\n",
    "from collections import defaultdict\n",
    "\n",
    "\n",
    "def check(start, k):\n",
    "    global count\n",
    "    available = False\n",
    "    for i in sorted(times[k]):\n",
    "        if i >= start:\n",
    "            if available and i == k:\n",
    "                count += 1\n",
    "            available = True\n",
    "    return available\n",
    "\n",
    "\n",
    "N = int(sys.stdin.readline().strip())\n",
    "times = defaultdict(list)\n",
    "\n",
    "for i in range(N):\n",
    "    a, b = list(map(int, sys.stdin.readline().strip().split()))\n",
    "    times[b].append(a)\n",
    "\n",
    "\n",
    "start = 0\n",
    "count = 0\n",
    "\n",
    "\n",
    "for t in sorted(times):\n",
    "    if check(start, t):\n",
    "        count += 1\n",
    "        start = t\n",
    "print(count)"
   ]
  },
  {
   "cell_type": "code",
   "execution_count": 163,
   "id": "08338460",
   "metadata": {},
   "outputs": [],
   "source": [
    "import sys\n",
    "from collections import defaultdict\n",
    "N = int(sys.stdin.readline().strip())\n",
    "times = defaultdict(list)\n",
    "\n",
    "f = open('./test.txt', 'r')\n",
    "for i in range(N):\n",
    "    a,b = list(map(int, f.readline().strip().split()))\n",
    "    times[b].append(a)\n",
    "    \n",
    "    \n",
    "\n",
    "    \n",
    "start = 0\n",
    "count = 0\n",
    "def check(start, k):\n",
    "    global count\n",
    "    available = False\n",
    "    for i in times[k]:\n",
    "        if i>=start:\n",
    "            if available and i == k:\n",
    "                count +=1         \n",
    "            available =  True\n",
    "    return available\n",
    "\n",
    "\n",
    "for t in sorted(times):\n",
    "    if check(start, t):\n",
    "        count += 1\n",
    "        start = t\n",
    "print(count)"
   ]
  },
  {
   "cell_type": "code",
   "execution_count": 165,
   "id": "37c30ccc",
   "metadata": {},
   "outputs": [
    {
     "data": {
      "text/plain": [
       "4"
      ]
     },
     "execution_count": 165,
     "metadata": {},
     "output_type": "execute_result"
    }
   ],
   "source": [
    "count"
   ]
  },
  {
   "cell_type": "code",
   "execution_count": 16,
   "id": "8d55c104",
   "metadata": {},
   "outputs": [
    {
     "data": {
      "text/plain": [
       "True"
      ]
     },
     "execution_count": 16,
     "metadata": {},
     "output_type": "execute_result"
    }
   ],
   "source": [
    "all([1,1,1])"
   ]
  },
  {
   "cell_type": "code",
   "execution_count": 13,
   "id": "6c9ff0a5",
   "metadata": {},
   "outputs": [
    {
     "name": "stdout",
     "output_type": "stream",
     "text": [
      "1\n",
      "2\n",
      "False\n",
      "1\n"
     ]
    }
   ],
   "source": [
    "import sys\n",
    "f = open('./test.txt', 'r')\n",
    "N, target = list(map(int, f.readline().split()))\n",
    "position = []\n",
    "for _ in range(N):\n",
    "    position.append(int(f.readline()))\n",
    "position = sorted(position)\n",
    "\n",
    "def check(iterval, target):\n",
    "    start = position[0]\n",
    "    \n",
    "    target -= 1\n",
    "    \n",
    "    for i in position[1:]:\n",
    "        if i >= (iterval +start):\n",
    "            target -=1\n",
    "            start = i\n",
    "            \n",
    "            if target ==0 :\n",
    "                \n",
    "                return True          \n",
    "    return False\n",
    "\n",
    "\n",
    "left = 0\n",
    "right = N\n",
    "while left <= right:\n",
    "    mid = (left + right)//2\n",
    "    print(mid)\n",
    "    if mid==2:\n",
    "        print(check(mid, target))\n",
    "    if check(mid, target):\n",
    "        left  = mid +1      \n",
    "    else: \n",
    "        right = mid -1\n",
    "mid = right       \n",
    "print(mid)"
   ]
  },
  {
   "cell_type": "code",
   "execution_count": 5,
   "id": "4db85c17",
   "metadata": {},
   "outputs": [
    {
     "name": "stdout",
     "output_type": "stream",
     "text": [
      "[1, 2, 4, 8, 9]\n"
     ]
    }
   ],
   "source": [
    "print(position)"
   ]
  },
  {
   "cell_type": "code",
   "execution_count": null,
   "id": "f5e667b6",
   "metadata": {},
   "outputs": [],
   "source": [
    "1, 3\n",
    "\n",
    "\n",
    "# 3을 사이에 두고 되나 안되나.\n",
    "# 그렇다면 3을 사이에 두고 \n",
    "\n"
   ]
  },
  {
   "cell_type": "code",
   "execution_count": 68,
   "id": "7aaaacaa",
   "metadata": {},
   "outputs": [
    {
     "name": "stdout",
     "output_type": "stream",
     "text": [
      "3 [0, 0, 1, 0, 0] v\n",
      "[1, 0, 1, 0, 0]\n",
      "1 [1, 0, 1, 0, 0] v\n",
      "[1, 1, 1, 0, 0]\n",
      "2 [1, 1, 1, 0, 0] v\n",
      "[1, 1, 1, 0, 0] v\n",
      "[1, 1, 1, 0, 1]\n",
      "5 [1, 1, 1, 0, 1] v\n",
      "[1, 1, 1, 0, 1] v\n",
      "[1, 1, 1, 1, 1]\n",
      "4 [1, 1, 1, 1, 1] v\n",
      "[1, 1, 1, 1, 1] v\n",
      "[1, 1, 1, 1, 1] v\n",
      "[1, 1, 1, 1, 1] v\n",
      "\n",
      "3 1 4 2 5 "
     ]
    }
   ],
   "source": [
    "import sys\n",
    "from collections import defaultdict, deque\n",
    "\n",
    "f = open('./test.txt', 'r')\n",
    "K, N, start = list(map(int, f.readline().strip().split()))\n",
    "graph = defaultdict(list)\n",
    "for i in range(N):\n",
    "    a, b  = list(map(int, f.readline().strip().split()))\n",
    "    graph[a].append(b)\n",
    "    graph[b].append(a)\n",
    "   \n",
    "for i in graph:\n",
    "    graph[i] = sorted(graph[i])\n",
    "    \n",
    "def dfs(start, visited):\n",
    "    print(start, end= ' ')\n",
    "    for i in graph[start]:\n",
    "        print(visited, 'v')\n",
    "        if visited[i-1] == 0:\n",
    "            visited[i-1] = 1\n",
    "            print(visited)\n",
    "            dfs(i, visited)\n",
    "       \n",
    "def bfs(start, visited):\n",
    "    Q = deque()\n",
    "    Q.append(start)\n",
    "    visited[start-1] =1\n",
    "    while Q:\n",
    "        node=  Q.popleft()\n",
    "        print(node, end= ' ')\n",
    "        for i in graph[node]:\n",
    "            if visited[i-1] == 0:\n",
    "                visited[i-1] =1\n",
    "                Q.append(i)\n",
    "\n",
    "\n",
    "                \n",
    "    \n",
    "visit = [0]*K\n",
    "visit[start-1] = 1\n",
    "dfs(start, visit[:])\n",
    "print()\n",
    "bfs(start, visit[:])\n"
   ]
  },
  {
   "cell_type": "code",
   "execution_count": 66,
   "id": "e66c5db8",
   "metadata": {},
   "outputs": [
    {
     "name": "stdout",
     "output_type": "stream",
     "text": [
      "3 [1, 0, 1, 0, 0]\n",
      "1 [1, 1, 1, 0, 0]\n",
      "2 [1, 1, 1, 0, 1]\n",
      "5 [1, 1, 1, 1, 1]\n",
      "4 \n",
      "3 1 4 2 5 "
     ]
    }
   ],
   "source": [
    "import sys\n",
    "from collections import defaultdict, deque\n",
    "\n",
    "f = open('./test.txt', 'r')\n",
    "K, N, start = list(map(int, f.readline().strip().split()))\n",
    "graph = defaultdict(list)\n",
    "for i in range(N):\n",
    "    a, b  = list(map(int, f.readline().strip().split()))\n",
    "    graph[a].append(b)\n",
    "    graph[b].append(a)\n",
    "   \n",
    "for i in graph:\n",
    "    graph[i] = sorted(graph[i])\n",
    "    \n",
    "def dfs(start, visited):\n",
    "    print(start, end= ' ')\n",
    "    for i in graph[start]:\n",
    "        if visited[i-1] == 0:\n",
    "            visited[i-1] = 1\n",
    "            print(visited)\n",
    "            dfs(i, visited)\n",
    "       \n",
    "def bfs(start, visited):\n",
    "    Q = deque()\n",
    "    Q.append(start)\n",
    "    visited[start-1] =1\n",
    "    while Q:\n",
    "        node=  Q.popleft()\n",
    "        print(node, end= ' ')\n",
    "        for i in graph[node]:\n",
    "            if visited[i-1] == 0:\n",
    "                visited[i-1] =1\n",
    "                Q.append(i)\n",
    "\n",
    "\n",
    "                \n",
    "    \n",
    "visit = [0]*K\n",
    "visit[start-1] = 1\n",
    "dfs(start, visit[:])\n",
    "print()\n",
    "bfs(start, visit[:])\n"
   ]
  },
  {
   "cell_type": "code",
   "execution_count": null,
   "id": "64e2bc93",
   "metadata": {},
   "outputs": [],
   "source": [
    "from collections import deque \n",
    "# 큐를 사용하기 위한 collections library 사용 n, m, v = m\n",
    "p(int,input().split()) # n, m, v에 대한 입력을 받음 \n",
    "graph = [[] for _ in range(n+1)] # n+1개의 graph list 공간을 만듬 (0번째 list는 1부터 시작하는 것을 유도하기 위해서 추가) for i in range(m): # m개의 간선에 대해서, temp_list = list(map(int,input().split())) # 간선의 정보 입력 graph[temp_list[0]].append(temp_list[1]) # 0 은 시작, 1은 종결 graph[temp_list[1]].append(temp_list[0]) # 양방향임으로 서로 저장 for i in range(n+1): # 작은 것을 먼저 방문 함으로, graph[i].sort() # 각 간선의 정보에서 sorting을 해줌 def dfs(graph,v,visited): # DFS 선언 visited[v] = True print(v, end= ' ') for i in graph[v]: if not visited[i]: dfs(graph,i,visited) def bfs(graph,start,visited): # BFS 선언 queue = deque([start]) visited[start] = True while queue: v = queue.popleft() print(v, end= ' ') for i in graph[v]: if not visited[i]: queue.append(i) visited[i] = True visited = [False]*(n+1) # 방문 여부 표시 dfs(graph,v,visited) # DFS 실행 print() # 줄바꿈 visited = [False]*(n+1) # 방문 여부 표시 bfs(graph,v,visited) # BFS 실행\n",
    "\n",
    "\n",
    "\n"
   ]
  },
  {
   "cell_type": "code",
   "execution_count": 44,
   "id": "b28d19ef",
   "metadata": {},
   "outputs": [
    {
     "data": {
      "text/plain": [
       "defaultdict(list, {5: [4, 2], 4: [5, 3], 2: [5, 1], 1: [2, 3], 3: [4, 1]})"
      ]
     },
     "execution_count": 44,
     "metadata": {},
     "output_type": "execute_result"
    }
   ],
   "source": [
    "graph"
   ]
  },
  {
   "cell_type": "code",
   "execution_count": null,
   "id": "7755dabc",
   "metadata": {},
   "outputs": [],
   "source": [
    "import sys\n",
    "from collections import defaultdict, deque\n",
    "\n",
    "\n",
    "K, N, start = list(map(int, sys.stdin.readline().strip().split()))\n",
    "graph = defaultdict(list)\n",
    "for i in range(N):\n",
    "    a, b  = list(map(int, sys.stdin.readline().strip().split()))\n",
    "    graph[a].append(b)\n",
    "    graph[b].append(a)\n",
    "   \n",
    "for i in graph:\n",
    "    graph[i] = sorted(graph[i])\n",
    "    \n",
    "def dfs(start, visited):\n",
    "    print(start, end= ' ')\n",
    "    for i in graph[start]:\n",
    "        if visited[i-1] == 0:\n",
    "            visited[i-1] = 1\n",
    "            dfs(i, visited)\n",
    "       \n",
    "def bfs(start, visited):\n",
    "    Q = deque()\n",
    "    Q.append(start)\n",
    "    visited[start-1] =1\n",
    "    while Q:\n",
    "        node=  Q.popleft()\n",
    "        print(node, end= ' ')\n",
    "        for i in graph[node]:\n",
    "            if visited[i-1] == 0:\n",
    "                visited[i-1] =1\n",
    "                Q.append(i)\n",
    "\n",
    "\n",
    "                \n",
    "    \n",
    "visited = [0]*K\n",
    "visited[start-1] = 1\n",
    "dfs(start, visited[:])\n",
    "print()\n",
    "bfs(start, visited[:])"
   ]
  }
 ],
 "metadata": {
  "kernelspec": {
   "display_name": "Python 3 (ipykernel)",
   "language": "python",
   "name": "python3"
  },
  "language_info": {
   "codemirror_mode": {
    "name": "ipython",
    "version": 3
   },
   "file_extension": ".py",
   "mimetype": "text/x-python",
   "name": "python",
   "nbconvert_exporter": "python",
   "pygments_lexer": "ipython3",
   "version": "3.7.4"
  }
 },
 "nbformat": 4,
 "nbformat_minor": 5
}
