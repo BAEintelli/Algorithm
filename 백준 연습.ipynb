{
 "cells": [
  {
   "cell_type": "code",
   "execution_count": 183,
   "id": "ba95e7bb",
   "metadata": {},
   "outputs": [
    {
     "name": "stdout",
     "output_type": "stream",
     "text": [
      "[[], [-7], [-7, -3], [-3]]\n",
      "0\n"
     ]
    }
   ],
   "source": [
    "f = open('./test.txt','r')\n",
    "n, s = list(map(int, f.readline().strip().split(' ')))\n",
    "nums = list(map(int, f.readline().strip().split(' ')))\n",
    "cand = []\n",
    "def comb(index, path):\n",
    "    \n",
    "    cand.append(path)\n",
    "    \n",
    "    for i in range(index, len(nums[:n//2])):\n",
    "        comb(i+1, path + [nums[i]])\n",
    "\n",
    "comb(0, [])\n",
    "print(cand)\n",
    "cand.pop(0)\n",
    "result = [1 if sum(s) == S and s != [] else 0 for s in cand]\n",
    "print(sum(result))"
   ]
  },
  {
   "cell_type": "code",
   "execution_count": 190,
   "id": "1c644048",
   "metadata": {},
   "outputs": [],
   "source": [
    "from sys import stdin\n",
    "from collections import defaultdict\n",
    "\n",
    "result = []\n",
    "def dfs(idx, path):\n",
    "    result.append(path)\n",
    "    for i in range(idx, len(nums[:n//2])):\n",
    "        dfs(i+1, path+ [nums[i]])\n",
    "\n",
    "\n",
    "\n",
    "f = open('./test.txt','r')\n",
    "n, s = list(map(int, f.readline().strip().split(' ')))\n",
    "nums = list(map(int, f.readline().strip().split(' ')))\n",
    "    \n",
    "dfs(0, [])\n",
    "    #dfs(n//2, n, 0, \"right\")\n",
    "\n"
   ]
  },
  {
   "cell_type": "code",
   "execution_count": 17,
   "id": "4ca7b2e0",
   "metadata": {},
   "outputs": [],
   "source": [
    "f = open('./test.txt','r')\n",
    "E, S, M= list(map(int, f.readline().strip().split(' ')))\n",
    "count = 0\n",
    "while True:\n",
    "    count +=1 \n",
    "    e = 15 if count%15 == 0 else count%15\n",
    "    s = 28 if count%28 ==0  else count%28\n",
    "    m = 19 if count%19 == 0 else count%19\n",
    "    if e==E and s ==S and m ==M:\n",
    "        break\n",
    "        \n",
    "print(count)"
   ]
  },
  {
   "cell_type": "code",
   "execution_count": 18,
   "id": "9bf9bc44",
   "metadata": {},
   "outputs": [
    {
     "data": {
      "text/plain": [
       "7980"
      ]
     },
     "execution_count": 18,
     "metadata": {},
     "output_type": "execute_result"
    }
   ],
   "source": [
    "count"
   ]
  },
  {
   "cell_type": "code",
   "execution_count": 106,
   "id": "5a24218e",
   "metadata": {},
   "outputs": [
    {
     "data": {
      "text/plain": [
       "3"
      ]
     },
     "execution_count": 106,
     "metadata": {},
     "output_type": "execute_result"
    }
   ],
   "source": [
    "def check(n, nums):\n",
    "    count = 0\n",
    "    Q = deque()\n",
    "    Q.append((count, n, nums))\n",
    "    visited = collections.defaultdict(str)\n",
    "    while Q:\n",
    "        cnt, n, nums = Q.popleft()\n",
    "        if nums == '123456780':\n",
    "            return cnt\n",
    "        \n",
    "        x= n//3\n",
    "        y = n %3\n",
    "        for i in range(4):\n",
    "            nx = x + dx[i]\n",
    "            ny = y + dy[i]\n",
    "            if 0<= nx < 3 and 0<= ny < 3:\n",
    "                idx = 3*nx + ny\n",
    "                tmp = list(nums)\n",
    "                tmp[idx], tmp[n] = tmp[n], tmp[idx]    \n",
    "                if \"\".join(tmp) not in visited:\n",
    "                    visited[\"\".join(tmp)] = 1\n",
    "                    Q.append((cnt+1, idx, \"\".join(tmp)))\n",
    "                  \n",
    "                \n",
    "    return -1\n",
    "\n",
    "\n",
    "f = open('./test.txt','r')\n",
    "nums = [list(map(int, f.readline().strip().split(' '))) for k in range(3) ]\n",
    "nums = [j for i in nums for j in i]\n",
    "n = nums.index(0)\n",
    "nums= \"\".join(list(map(str, nums)))\n",
    "check(n, nums)"
   ]
  },
  {
   "cell_type": "code",
   "execution_count": 1,
   "id": "34632a0a",
   "metadata": {},
   "outputs": [
    {
     "ename": "NameError",
     "evalue": "name 'dx' is not defined",
     "output_type": "error",
     "traceback": [
      "\u001b[1;31m---------------------------------------------------------------------------\u001b[0m",
      "\u001b[1;31mNameError\u001b[0m                                 Traceback (most recent call last)",
      "\u001b[1;32m~\\AppData\\Local\\Temp/ipykernel_46728/586397994.py\u001b[0m in \u001b[0;36m<module>\u001b[1;34m\u001b[0m\n\u001b[0;32m     37\u001b[0m \u001b[0mn\u001b[0m \u001b[1;33m=\u001b[0m \u001b[0mnums\u001b[0m\u001b[1;33m.\u001b[0m\u001b[0mindex\u001b[0m\u001b[1;33m(\u001b[0m\u001b[1;36m0\u001b[0m\u001b[1;33m)\u001b[0m\u001b[1;33m\u001b[0m\u001b[1;33m\u001b[0m\u001b[0m\n\u001b[0;32m     38\u001b[0m \u001b[0mnums\u001b[0m\u001b[1;33m=\u001b[0m \u001b[1;34m\"\"\u001b[0m\u001b[1;33m.\u001b[0m\u001b[0mjoin\u001b[0m\u001b[1;33m(\u001b[0m\u001b[0mlist\u001b[0m\u001b[1;33m(\u001b[0m\u001b[0mmap\u001b[0m\u001b[1;33m(\u001b[0m\u001b[0mstr\u001b[0m\u001b[1;33m,\u001b[0m \u001b[0mnums\u001b[0m\u001b[1;33m)\u001b[0m\u001b[1;33m)\u001b[0m\u001b[1;33m)\u001b[0m\u001b[1;33m\u001b[0m\u001b[1;33m\u001b[0m\u001b[0m\n\u001b[1;32m---> 39\u001b[1;33m \u001b[0mprint\u001b[0m\u001b[1;33m(\u001b[0m\u001b[0mcheck\u001b[0m\u001b[1;33m(\u001b[0m\u001b[0mn\u001b[0m\u001b[1;33m,\u001b[0m \u001b[0mnums\u001b[0m\u001b[1;33m)\u001b[0m\u001b[1;33m)\u001b[0m\u001b[1;33m\u001b[0m\u001b[1;33m\u001b[0m\u001b[0m\n\u001b[0m",
      "\u001b[1;32m~\\AppData\\Local\\Temp/ipykernel_46728/586397994.py\u001b[0m in \u001b[0;36mcheck\u001b[1;34m(n, nums)\u001b[0m\n\u001b[0;32m     18\u001b[0m         \u001b[0my\u001b[0m \u001b[1;33m=\u001b[0m \u001b[0mn\u001b[0m \u001b[1;33m%\u001b[0m\u001b[1;36m3\u001b[0m\u001b[1;33m\u001b[0m\u001b[1;33m\u001b[0m\u001b[0m\n\u001b[0;32m     19\u001b[0m         \u001b[1;32mfor\u001b[0m \u001b[0mi\u001b[0m \u001b[1;32min\u001b[0m \u001b[0mrange\u001b[0m\u001b[1;33m(\u001b[0m\u001b[1;36m4\u001b[0m\u001b[1;33m)\u001b[0m\u001b[1;33m:\u001b[0m\u001b[1;33m\u001b[0m\u001b[1;33m\u001b[0m\u001b[0m\n\u001b[1;32m---> 20\u001b[1;33m             \u001b[0mnx\u001b[0m \u001b[1;33m=\u001b[0m \u001b[0mx\u001b[0m \u001b[1;33m+\u001b[0m \u001b[0mdx\u001b[0m\u001b[1;33m[\u001b[0m\u001b[0mi\u001b[0m\u001b[1;33m]\u001b[0m\u001b[1;33m\u001b[0m\u001b[1;33m\u001b[0m\u001b[0m\n\u001b[0m\u001b[0;32m     21\u001b[0m             \u001b[0mny\u001b[0m \u001b[1;33m=\u001b[0m \u001b[0my\u001b[0m \u001b[1;33m+\u001b[0m \u001b[0mdy\u001b[0m\u001b[1;33m[\u001b[0m\u001b[0mi\u001b[0m\u001b[1;33m]\u001b[0m\u001b[1;33m\u001b[0m\u001b[1;33m\u001b[0m\u001b[0m\n\u001b[0;32m     22\u001b[0m             \u001b[1;32mif\u001b[0m \u001b[1;36m0\u001b[0m\u001b[1;33m<=\u001b[0m \u001b[0mnx\u001b[0m \u001b[1;33m<\u001b[0m \u001b[1;36m3\u001b[0m \u001b[1;32mand\u001b[0m \u001b[1;36m0\u001b[0m\u001b[1;33m<=\u001b[0m \u001b[0mny\u001b[0m \u001b[1;33m<\u001b[0m \u001b[1;36m3\u001b[0m\u001b[1;33m:\u001b[0m\u001b[1;33m\u001b[0m\u001b[1;33m\u001b[0m\u001b[0m\n",
      "\u001b[1;31mNameError\u001b[0m: name 'dx' is not defined"
     ]
    }
   ],
   "source": [
    "import sys\n",
    "import collections\n",
    "from copy import deepcopy\n",
    "from collections import deque\n",
    "\n",
    "\n",
    "def check(n, nums):\n",
    "    count = 0\n",
    "    Q = deque()\n",
    "    Q.append((count, n, nums))\n",
    "    visited = collections.defaultdict(str)\n",
    "    while Q:\n",
    "        cnt, n, nums = Q.popleft()\n",
    "        if nums == '123456780':\n",
    "            return cnt\n",
    "        \n",
    "        x= n//3\n",
    "        y = n %3\n",
    "        for i in range(4):\n",
    "            nx = x + dx[i]\n",
    "            ny = y + dy[i]\n",
    "            if 0<= nx < 3 and 0<= ny < 3:\n",
    "                idx = 3*nx + ny\n",
    "                tmp = list(nums)\n",
    "                tmp[idx], tmp[n] = tmp[n], tmp[idx]    \n",
    "                if \"\".join(tmp) not in visited:\n",
    "                    visited[\"\".join(tmp)] = 1\n",
    "                    Q.append((cnt+1, idx, \"\".join(tmp)))\n",
    "                  \n",
    "                \n",
    "    return -1\n",
    "\n",
    "\n",
    "f = open('./test.txt','r')\n",
    "nums = [list(map(int, f.readline().strip().split(' '))) for k in range(3) ]\n",
    "nums = [j for i in nums for j in i]\n",
    "n = nums.index(0)\n",
    "nums= \"\".join(list(map(str, nums)))\n",
    "print(check(n, nums))"
   ]
  },
  {
   "cell_type": "code",
   "execution_count": null,
   "id": "7dd7ead1",
   "metadata": {},
   "outputs": [],
   "source": [
    "### 소수의 합\n",
    "1,2,3\n",
    "\n",
    "\n",
    "3\n",
    "\n",
    "41\n",
    "\n",
    "21345678"
   ]
  },
  {
   "cell_type": "code",
   "execution_count": null,
   "id": "dab364bc",
   "metadata": {},
   "outputs": [],
   "source": [
    "### 그리디 \n",
    "\n",
    "\n",
    "41 "
   ]
  },
  {
   "cell_type": "code",
   "execution_count": 4,
   "id": "cd456aef",
   "metadata": {},
   "outputs": [
    {
     "data": {
      "text/plain": [
       "41"
      ]
     },
     "execution_count": 4,
     "metadata": {},
     "output_type": "execute_result"
    }
   ],
   "source": [
    "2 +3 +5 +7 +11 + 13"
   ]
  },
  {
   "cell_type": "code",
   "execution_count": null,
   "id": "f3ec3522",
   "metadata": {},
   "outputs": [],
   "source": [
    "53"
   ]
  },
  {
   "cell_type": "code",
   "execution_count": 5,
   "id": "25656666",
   "metadata": {},
   "outputs": [
    {
     "data": {
      "text/plain": [
       "53"
      ]
     },
     "execution_count": 5,
     "metadata": {},
     "output_type": "execute_result"
    }
   ],
   "source": [
    "5+7+11+13+17"
   ]
  },
  {
   "cell_type": "code",
   "execution_count": 6,
   "id": "aa5679d8",
   "metadata": {},
   "outputs": [
    {
     "data": {
      "text/plain": [
       "53"
      ]
     },
     "execution_count": 6,
     "metadata": {},
     "output_type": "execute_result"
    }
   ],
   "source": [
    "53"
   ]
  },
  {
   "cell_type": "code",
   "execution_count": 7,
   "id": "58cf87fa",
   "metadata": {},
   "outputs": [
    {
     "ename": "SyntaxError",
     "evalue": "invalid syntax (Temp/ipykernel_46728/3096471691.py, line 1)",
     "output_type": "error",
     "traceback": [
      "\u001b[1;36m  File \u001b[1;32m\"C:\\Users\\Owner\\AppData\\Local\\Temp/ipykernel_46728/3096471691.py\"\u001b[1;36m, line \u001b[1;32m1\u001b[0m\n\u001b[1;33m    2.isprime()\u001b[0m\n\u001b[1;37m            ^\u001b[0m\n\u001b[1;31mSyntaxError\u001b[0m\u001b[1;31m:\u001b[0m invalid syntax\n"
     ]
    }
   ],
   "source": [
    "2.isprime()"
   ]
  },
  {
   "cell_type": "code",
   "execution_count": 19,
   "id": "81c2e76a",
   "metadata": {},
   "outputs": [],
   "source": [
    "def isprime(n):\n",
    "    for i in range(2, n-1):\n",
    "        if n % i ==0:\n",
    "            return False\n",
    "    return True\n",
    "        \n",
    "    "
   ]
  },
  {
   "cell_type": "code",
   "execution_count": 18,
   "id": "b740f6e9",
   "metadata": {},
   "outputs": [
    {
     "data": {
      "text/plain": [
       "True"
      ]
     },
     "execution_count": 18,
     "metadata": {},
     "output_type": "execute_result"
    }
   ],
   "source": [
    "isprime(3)"
   ]
  },
  {
   "cell_type": "code",
   "execution_count": 66,
   "id": "9389c0c7",
   "metadata": {},
   "outputs": [
    {
     "ename": "SyntaxError",
     "evalue": "invalid syntax (Temp/ipykernel_46728/3309814315.py, line 15)",
     "output_type": "error",
     "traceback": [
      "\u001b[1;36m  File \u001b[1;32m\"C:\\Users\\Owner\\AppData\\Local\\Temp/ipykernel_46728/3309814315.py\"\u001b[1;36m, line \u001b[1;32m15\u001b[0m\n\u001b[1;33m    for i in [x-1, x+1, 2x]:\u001b[0m\n\u001b[1;37m                         ^\u001b[0m\n\u001b[1;31mSyntaxError\u001b[0m\u001b[1;31m:\u001b[0m invalid syntax\n"
     ]
    }
   ],
   "source": [
    "\n",
    "import sys\n",
    "from collections import deque\n",
    "from collections import defaultdict\n",
    "f= open('./test.txt', 'r')\n",
    "N, K = list(map(int, f.readline().strip().split(' ')))\n",
    "\n",
    "Q = deque()\n",
    "Q.append((0, N))\n",
    "visited = defaultdict(int)\n",
    "while Q:\n",
    "    cnt, x = Q.popleft()\n",
    "    if x == K:\n",
    "        print(cnt)\n",
    "        break\n",
    "    for i in [x-1, x+1, x*2]:\n",
    "        if 0<= i <= 100000:\n",
    "            if i not in visited:\n",
    "                visited[i] = cnt + 1\n",
    "                Q.append((cnt+1, i))\n",
    "                \n",
    "                "
   ]
  },
  {
   "cell_type": "code",
   "execution_count": 72,
   "id": "6aa8f922",
   "metadata": {},
   "outputs": [],
   "source": [
    "\n",
    "import sys\n",
    "from collections import deque\n",
    "from collections import defaultdict\n",
    "f= open('./test.txt', 'r')\n",
    "N, K = list(map(int, f.readline().strip().split(' ')))\n",
    "alphabets = sorted(f.readline().strip().split(' '))\n",
    "alphabets = sorted(alphabets)\n",
    "\n",
    "comb = []\n",
    "def dfs(cnt, idx, path):    \n",
    "    if cnt == N:\n",
    "        comb.append(path)\n",
    "        return\n",
    "\n",
    "    for i in range(idx, len(alphabets)):\n",
    "        dfs(cnt+1, i+1, path + alphabets[i])\n",
    "        \n",
    "dfs(0,0, '')       \n",
    "results = []\n",
    "for s in comb:\n",
    "    cons = 0\n",
    "    vow = 0\n",
    "    for a in s:\n",
    "        if a in 'aeiou':\n",
    "            cons += 1\n",
    "        else:\n",
    "            vow += 1\n",
    "            \n",
    "    if cons >=1  and vow>=2:\n",
    "        results.append(s)\n",
    "    \n",
    "    \n",
    "for result in results:\n",
    "    print(result)"
   ]
  },
  {
   "cell_type": "code",
   "execution_count": 89,
   "id": "abac6cfc",
   "metadata": {},
   "outputs": [],
   "source": []
  },
  {
   "cell_type": "code",
   "execution_count": 94,
   "id": "3246de7a",
   "metadata": {},
   "outputs": [
    {
     "name": "stdout",
     "output_type": "stream",
     "text": [
      "[1, 3, 2, -1]\n",
      "[2, 4, 4, -1]\n",
      "[3, 1, 2, 4, 3, -1]\n",
      "[4, 2, 4, 3, 3, 5, 6, -1]\n",
      "[5, 4, 6, -1]\n"
     ]
    }
   ],
   "source": [
    "\n",
    "    "
   ]
  },
  {
   "cell_type": "code",
   "execution_count": null,
   "id": "73e2e1c6",
   "metadata": {},
   "outputs": [],
   "source": [
    "\t\n",
    "def DFS(currNode, graph, distance):\n",
    "\t\n",
    "\tfor Node in graph[currNode]:\n",
    "\t\tnextNode = Node[0]\n",
    "\t\tdist = Node[1]\n",
    "\t\t\n",
    "\t\tif distance[nextNode] == 0: #다시 뒤로 안가게 check\n",
    "\t\t\tdistance[nextNode] = distance[currNode] + dist\n",
    "\t\t\tDFS(nextNode, graph, distance)\n",
    "[출처] [백준 - 1167(DFS)] 트리의 지름 (Python3)|작성자 Rusher\n",
    "\n"
   ]
  },
  {
   "cell_type": "code",
   "execution_count": 103,
   "id": "9e1ec37f",
   "metadata": {},
   "outputs": [],
   "source": [
    "from collections import defaultdict\n",
    "\n",
    "graph = defaultdict(list)\n",
    "f = open('./test.txt','r')\n",
    "N = int(f.readline().strip())\n",
    "for _ in range(N):\n",
    "    k = list(map(int, f.readline().strip().split(' ')))\n",
    "    print(k)\n",
    "    for i in range(1, len(k),2):\n",
    "        if k[i] == -1:\n",
    "            break\n",
    "        graph[k[0]].append((k[i], k[i+1]))\n",
    "\n",
    "def dfs(a,  distance):\n",
    "    for v, w in graph[a]:\n",
    "        if distance[v] == 0:\n",
    "            distance[v] = distance[a] +w\n",
    "            dfs(v, distance)\n",
    "\n",
    "distance1 = [0] * (N+1)            \n",
    "dfs(1, distance1)\n",
    "distance1[1] = 0\n",
    "index = distance1.index(max(distance1))\n",
    "\n",
    "distance2 = [0] * (N+1)\n",
    "dfs(index ,distance2)\n",
    "distance2[index] = 0\n",
    "\n",
    "\n",
    "\n",
    "print(max(distance2))\n"
   ]
  },
  {
   "cell_type": "code",
   "execution_count": 104,
   "id": "3c1ab1cf",
   "metadata": {},
   "outputs": [
    {
     "name": "stdout",
     "output_type": "stream",
     "text": [
      "11\n"
     ]
    }
   ],
   "source": []
  },
  {
   "cell_type": "code",
   "execution_count": 99,
   "id": "5742c5de",
   "metadata": {},
   "outputs": [
    {
     "data": {
      "text/plain": [
       "5"
      ]
     },
     "execution_count": 99,
     "metadata": {},
     "output_type": "execute_result"
    }
   ],
   "source": [
    "index"
   ]
  },
  {
   "cell_type": "code",
   "execution_count": 100,
   "id": "06610c6e",
   "metadata": {},
   "outputs": [
    {
     "data": {
      "text/plain": [
       "[0, 0, 9, 2, 5, 11]"
      ]
     },
     "execution_count": 100,
     "metadata": {},
     "output_type": "execute_result"
    }
   ],
   "source": [
    "distance1"
   ]
  },
  {
   "cell_type": "code",
   "execution_count": null,
   "id": "55bb4750",
   "metadata": {},
   "outputs": [],
   "source": []
  },
  {
   "cell_type": "code",
   "execution_count": null,
   "id": "527ca006",
   "metadata": {},
   "outputs": [],
   "source": []
  },
  {
   "cell_type": "code",
   "execution_count": null,
   "id": "abe6ad80",
   "metadata": {},
   "outputs": [],
   "source": []
  },
  {
   "cell_type": "code",
   "execution_count": 78,
   "id": "68af7f52",
   "metadata": {},
   "outputs": [
    {
     "data": {
      "text/plain": [
       "['a', 'c', 'i', 's', 't', 'w']"
      ]
     },
     "execution_count": 78,
     "metadata": {},
     "output_type": "execute_result"
    }
   ],
   "source": [
    "alphabets"
   ]
  },
  {
   "cell_type": "code",
   "execution_count": 83,
   "id": "aaa8b7c0",
   "metadata": {},
   "outputs": [],
   "source": []
  },
  {
   "cell_type": "code",
   "execution_count": 84,
   "id": "d03f1989",
   "metadata": {},
   "outputs": [],
   "source": []
  },
  {
   "cell_type": "code",
   "execution_count": 85,
   "id": "22b0b82e",
   "metadata": {},
   "outputs": [
    {
     "data": {
      "text/plain": [
       "['acis',\n",
       " 'acit',\n",
       " 'aciw',\n",
       " 'acst',\n",
       " 'acsw',\n",
       " 'actw',\n",
       " 'aist',\n",
       " 'aisw',\n",
       " 'aitw',\n",
       " 'astw',\n",
       " 'cist',\n",
       " 'cisw',\n",
       " 'citw',\n",
       " 'cstw',\n",
       " 'istw']"
      ]
     },
     "execution_count": 85,
     "metadata": {},
     "output_type": "execute_result"
    }
   ],
   "source": [
    "comb"
   ]
  },
  {
   "cell_type": "code",
   "execution_count": 86,
   "id": "6b6d0b60",
   "metadata": {},
   "outputs": [],
   "source": []
  },
  {
   "cell_type": "code",
   "execution_count": 88,
   "id": "0e43c181",
   "metadata": {},
   "outputs": [
    {
     "data": {
      "text/plain": [
       "['acis',\n",
       " 'acit',\n",
       " 'aciw',\n",
       " 'acst',\n",
       " 'acsw',\n",
       " 'actw',\n",
       " 'aist',\n",
       " 'aisw',\n",
       " 'aitw',\n",
       " 'astw',\n",
       " 'cist',\n",
       " 'cisw',\n",
       " 'citw',\n",
       " 'istw']"
      ]
     },
     "execution_count": 88,
     "metadata": {},
     "output_type": "execute_result"
    }
   ],
   "source": [
    "sorted(result)"
   ]
  },
  {
   "cell_type": "code",
   "execution_count": null,
   "id": "5e759bd8",
   "metadata": {},
   "outputs": [],
   "source": []
  },
  {
   "cell_type": "code",
   "execution_count": null,
   "id": "8294565d",
   "metadata": {},
   "outputs": [],
   "source": [
    "def dfs():\n",
    "    "
   ]
  },
  {
   "cell_type": "code",
   "execution_count": null,
   "id": "7febec2d",
   "metadata": {},
   "outputs": [],
   "source": [
    "f= open('./test.txt', 'r')\n",
    "N, K = list(map(int, f.readline().strip().split(' ')))\n",
    "\n",
    "Q = deque()\n",
    "Q.append((0, N))\n",
    "visited = defaultdict(int)\n",
    "while Q:\n",
    "    cnt, x = Q.popleft()\n",
    "    "
   ]
  },
  {
   "cell_type": "code",
   "execution_count": 48,
   "id": "09a405af",
   "metadata": {},
   "outputs": [
    {
     "data": {
      "text/plain": [
       "[2, 3, 5, 7, 11, 13, 17, 19]"
      ]
     },
     "execution_count": 48,
     "metadata": {},
     "output_type": "execute_result"
    }
   ],
   "source": [
    "prime_number"
   ]
  },
  {
   "cell_type": "code",
   "execution_count": 49,
   "id": "cce5843e",
   "metadata": {},
   "outputs": [
    {
     "data": {
      "text/plain": [
       "20"
      ]
     },
     "execution_count": 49,
     "metadata": {},
     "output_type": "execute_result"
    }
   ],
   "source": [
    "number"
   ]
  },
  {
   "cell_type": "code",
   "execution_count": 62,
   "id": "46d18cee",
   "metadata": {},
   "outputs": [],
   "source": [
    "a = [False, False] + [True] * (N-1)\n",
    "for i in range(2, N+1):\n",
    "    if a[i]:\n",
    "        prime_number.append(i)\n",
    "        for j in range(2*i, N+1, i):\n",
    "            a[j] = False\n"
   ]
  },
  {
   "cell_type": "code",
   "execution_count": null,
   "id": "d8f0201a",
   "metadata": {},
   "outputs": [],
   "source": [
    "for j in range(2*i, N+1, i):\n",
    "    \n",
    "    "
   ]
  },
  {
   "cell_type": "code",
   "execution_count": 64,
   "id": "4c30d0cb",
   "metadata": {},
   "outputs": [],
   "source": [
    "a= [False, False] + [True] * (N-1)\n",
    "for i in range(2, N+1):\n",
    "    if a[i]:\n",
    "        prime_number.append(i)\n",
    "        for j in range(i*2, N+1, i):\n",
    "            a[j] =False"
   ]
  },
  {
   "cell_type": "code",
   "execution_count": 65,
   "id": "2e116524",
   "metadata": {},
   "outputs": [
    {
     "data": {
      "text/plain": [
       "[False,\n",
       " False,\n",
       " True,\n",
       " True,\n",
       " False,\n",
       " True,\n",
       " False,\n",
       " True,\n",
       " False,\n",
       " False,\n",
       " False,\n",
       " True,\n",
       " False,\n",
       " True,\n",
       " False,\n",
       " False,\n",
       " False,\n",
       " True,\n",
       " False,\n",
       " True,\n",
       " False,\n",
       " False,\n",
       " False,\n",
       " True,\n",
       " False,\n",
       " False,\n",
       " False,\n",
       " False,\n",
       " False,\n",
       " True,\n",
       " False,\n",
       " True,\n",
       " False,\n",
       " False,\n",
       " False,\n",
       " False,\n",
       " False,\n",
       " True,\n",
       " False,\n",
       " False,\n",
       " False,\n",
       " True]"
      ]
     },
     "execution_count": 65,
     "metadata": {},
     "output_type": "execute_result"
    }
   ],
   "source": [
    "a"
   ]
  },
  {
   "cell_type": "code",
   "execution_count": null,
   "id": "c1305869",
   "metadata": {},
   "outputs": [],
   "source": [
    "for i in range(2, N+1):\n",
    "    if a[i]:\n",
    "        prime_number.append(i)\n",
    "        for j in range(2*i, N+1, i):\n",
    "            a[]"
   ]
  },
  {
   "cell_type": "code",
   "execution_count": 61,
   "id": "552a0b69",
   "metadata": {},
   "outputs": [
    {
     "name": "stdout",
     "output_type": "stream",
     "text": [
      "[2, 3, 5, 7, 11, 13, 17, 19, 23, 29, 31, 37, 41]\n",
      "3\n"
     ]
    }
   ],
   "source": [
    "N = 41\n",
    "\n",
    "\n",
    "a = [False, False] + [True] * (N-1)\n",
    "prime_number = []\n",
    "\n",
    "for i in range(2, N+1):\n",
    "    if a[i]:\n",
    "        prime_number.append(i)\n",
    "        for j in range(2*i, N+1, i):\n",
    "            a[j] = False\n",
    "\n",
    "    \n",
    "\n",
    "\n",
    "sum_num = 0 \n",
    "start = 0\n",
    "count = 0\n",
    "for right, num in enumerate(prime_number):\n",
    "    sum_num += num\n",
    "    if sum_num == N:\n",
    "        count += 1\n",
    "        sum_num -= prime_number[start]\n",
    "        start +=1\n",
    "        \n",
    "    elif sum_num > N:\n",
    "        while (sum_num >= N) or start < right:\n",
    "            sum_num -= prime_number[start]\n",
    "            if sum_num == N:\n",
    "                count += 1\n",
    "            start  += 1\n",
    "                   \n",
    "print(count)        \n"
   ]
  },
  {
   "cell_type": "code",
   "execution_count": null,
   "id": "e9328e68",
   "metadata": {},
   "outputs": [],
   "source": [
    "a = [False, False] + [True] * (N-1)\n",
    "prime_num = []\n",
    "\n",
    "for i in range(2, N+1):\n",
    "    if a[i]:\n",
    "        prime_num.append(i)\n",
    "        for j in range(2*i, N+1, i):\n",
    "            a[j] = False\n"
   ]
  },
  {
   "cell_type": "code",
   "execution_count": null,
   "id": "7de00afb",
   "metadata": {},
   "outputs": [],
   "source": []
  },
  {
   "cell_type": "code",
   "execution_count": null,
   "id": "7363e22b",
   "metadata": {},
   "outputs": [],
   "source": []
  },
  {
   "cell_type": "code",
   "execution_count": null,
   "id": "0ec5d70c",
   "metadata": {},
   "outputs": [],
   "source": []
  },
  {
   "cell_type": "code",
   "execution_count": null,
   "id": "073abf0e",
   "metadata": {},
   "outputs": [],
   "source": []
  },
  {
   "cell_type": "code",
   "execution_count": 53,
   "id": "f2ae79cf",
   "metadata": {},
   "outputs": [],
   "source": [
    "N = int(input())\n",
    "\n",
    "a = [False, False] + [True] * (N-1)\n",
    "prime_number = []\n",
    "\n",
    "for i in range(2, N+1):\n",
    "    if a[i]:\n",
    "        prime_number.append(i)\n",
    "        for j in range(2*i, N+1, i):\n",
    "            a[j] = False\n",
    "\n",
    "sum_num = 0 \n",
    "start = 0\n",
    "count = 0\n",
    "for right, num in enumerate(prime_number):\n",
    "    sum_num += num\n",
    "    if sum_num == N:\n",
    "        count += 1\n",
    "        sum_num -= prime_number[start]\n",
    "        start +=1\n",
    "        \n",
    "    elif sum_num > N:\n",
    "        while (sum_num >= N) and start < right:\n",
    "            sum_num -= prime_number[start]\n",
    "            if sum_num == N:\n",
    "                count += 1\n",
    "            start  += 1\n",
    "                   \n",
    "print(count)        "
   ]
  },
  {
   "cell_type": "code",
   "execution_count": 54,
   "id": "baf472eb",
   "metadata": {},
   "outputs": [
    {
     "data": {
      "text/plain": [
       "1.4142135623730951"
      ]
     },
     "execution_count": 54,
     "metadata": {},
     "output_type": "execute_result"
    }
   ],
   "source": [
    "math.sqrt(2)"
   ]
  },
  {
   "cell_type": "code",
   "execution_count": 51,
   "id": "3c838aba",
   "metadata": {},
   "outputs": [
    {
     "data": {
      "text/plain": [
       "0"
      ]
     },
     "execution_count": 51,
     "metadata": {},
     "output_type": "execute_result"
    }
   ],
   "source": [
    "import math\n",
    "\n",
    "n = int(input())\n",
    "\n",
    "prime_number = []\n",
    "array = [True for _ in range(n + 1)]\n",
    "\n",
    "for i in range(2, int(math.sqrt(n)) + 1):\n",
    "    if array[i]:\n",
    "        j = 2\n",
    "\n",
    "        while i * j <= n:\n",
    "            array[i * j] = False\n",
    "            j += 1\n",
    "\n",
    "for num in range(2, n + 1):\n",
    "    if array[num]:\n",
    "        prime_number.append(num)\n",
    "\n",
    "count = 0\n",
    "interval_sum = 0\n",
    "end = 0\n",
    "\n",
    "for start in range(len(prime_number)):\n",
    "    while interval_sum < n and end < len(prime_number):\n",
    "        interval_sum += prime_number[end]\n",
    "        end += 1\n",
    "\n",
    "    if interval_sum == n:\n",
    "        count += 1\n",
    "    interval_sum -= prime_number[start]\n",
    "\n",
    "print(count)"
   ]
  },
  {
   "cell_type": "code",
   "execution_count": null,
   "id": "8f9aaf7d",
   "metadata": {},
   "outputs": [],
   "source": []
  },
  {
   "cell_type": "code",
   "execution_count": 85,
   "id": "9fc5f83a",
   "metadata": {},
   "outputs": [
    {
     "ename": "AttributeError",
     "evalue": "'str' object has no attribute 'get'",
     "output_type": "error",
     "traceback": [
      "\u001b[1;31m---------------------------------------------------------------------------\u001b[0m",
      "\u001b[1;31mAttributeError\u001b[0m                            Traceback (most recent call last)",
      "\u001b[1;32m~\\AppData\\Local\\Temp/ipykernel_40532/640890488.py\u001b[0m in \u001b[0;36m<module>\u001b[1;34m\u001b[0m\n\u001b[1;32m----> 1\u001b[1;33m \u001b[1;34m'2345'\u001b[0m\u001b[1;33m.\u001b[0m\u001b[0mget\u001b[0m\u001b[1;33m(\u001b[0m\u001b[1;36m5\u001b[0m\u001b[1;33m)\u001b[0m\u001b[1;33m\u001b[0m\u001b[1;33m\u001b[0m\u001b[0m\n\u001b[0m",
      "\u001b[1;31mAttributeError\u001b[0m: 'str' object has no attribute 'get'"
     ]
    }
   ],
   "source": [
    "'2345'.get(5)"
   ]
  },
  {
   "cell_type": "code",
   "execution_count": 76,
   "id": "72cc7d92",
   "metadata": {},
   "outputs": [
    {
     "data": {
      "text/plain": [
       "[1, 0, 3, 4, 2, 5, 7, 8, 6]"
      ]
     },
     "execution_count": 76,
     "metadata": {},
     "output_type": "execute_result"
    }
   ],
   "source": [
    "nums"
   ]
  },
  {
   "cell_type": "code",
   "execution_count": 80,
   "id": "dc26840c",
   "metadata": {},
   "outputs": [
    {
     "name": "stdout",
     "output_type": "stream",
     "text": [
      "1\n",
      "[1, -1, '_', 0]\n",
      "4\n",
      "4\n",
      "[1, 0, 3, -3]\n",
      "5\n",
      "5\n",
      "[1, -1, 3, 0]\n",
      "8\n"
     ]
    },
    {
     "data": {
      "text/plain": [
       "3"
      ]
     },
     "execution_count": 80,
     "metadata": {},
     "output_type": "execute_result"
    }
   ],
   "source": [
    "check(n ,nums)"
   ]
  },
  {
   "cell_type": "code",
   "execution_count": 267,
   "id": "10c413e6",
   "metadata": {},
   "outputs": [
    {
     "data": {
      "text/plain": [
       "[[0, 0, 0, 0], [1, 0, 0, 0]]"
      ]
     },
     "execution_count": 267,
     "metadata": {},
     "output_type": "execute_result"
    }
   ],
   "source": [
    "visited"
   ]
  },
  {
   "cell_type": "code",
   "execution_count": null,
   "id": "0b4d505d",
   "metadata": {},
   "outputs": [],
   "source": [
    "11911103"
   ]
  },
  {
   "cell_type": "code",
   "execution_count": 4,
   "id": "a7395451",
   "metadata": {},
   "outputs": [
    {
     "data": {
      "text/plain": [
       "108"
      ]
     },
     "execution_count": 4,
     "metadata": {},
     "output_type": "execute_result"
    }
   ],
   "source": [
    "2* 9 * 6"
   ]
  },
  {
   "cell_type": "code",
   "execution_count": 6,
   "id": "37737714",
   "metadata": {},
   "outputs": [
    {
     "data": {
      "text/plain": [
       "3240"
      ]
     },
     "execution_count": 6,
     "metadata": {},
     "output_type": "execute_result"
    }
   ],
   "source": [
    "12*15*18"
   ]
  },
  {
   "cell_type": "code",
   "execution_count": null,
   "id": "102b48b8",
   "metadata": {},
   "outputs": [],
   "source": [
    "3 3\n",
    "123\n",
    "456\n",
    "789\n",
    "\n",
    "\n",
    "방을 세개 만들어야하는데\n",
    "연결은 {n + n+1 n+3 n+4 } {n+2}\n",
    "\n",
    "[] [] []"
   ]
  },
  {
   "cell_type": "code",
   "execution_count": null,
   "id": "1d4b4e93",
   "metadata": {},
   "outputs": [],
   "source": [
    "# 방을 구해야함.\n",
    "# 방을 구하기위해서는 먼저 a* b의 123456789\n",
    "                                  456789123\n",
    "                                  방을 구하기위해서는 먼저   "
   ]
  },
  {
   "cell_type": "code",
   "execution_count": null,
   "id": "f96432e6",
   "metadata": {},
   "outputs": [],
   "source": [
    "0,0 01 02\n",
    "10 11 12\n",
    "20 21 22\n"
   ]
  },
  {
   "cell_type": "code",
   "execution_count": 268,
   "id": "7b1eca78",
   "metadata": {},
   "outputs": [
    {
     "data": {
      "text/plain": [
       "[[0, 0, 0, 1], [1, 0, 0, 0]]"
      ]
     },
     "execution_count": 268,
     "metadata": {},
     "output_type": "execute_result"
    }
   ],
   "source": [
    "matrix"
   ]
  },
  {
   "cell_type": "code",
   "execution_count": 256,
   "id": "20df4fa1",
   "metadata": {},
   "outputs": [
    {
     "data": {
      "text/plain": [
       "3"
      ]
     },
     "execution_count": 256,
     "metadata": {},
     "output_type": "execute_result"
    }
   ],
   "source": [
    "count\n"
   ]
  },
  {
   "cell_type": "code",
   "execution_count": 226,
   "id": "97ca259a",
   "metadata": {},
   "outputs": [
    {
     "data": {
      "text/plain": [
       "3"
      ]
     },
     "execution_count": 226,
     "metadata": {},
     "output_type": "execute_result"
    }
   ],
   "source": [
    "N"
   ]
  },
  {
   "cell_type": "code",
   "execution_count": 250,
   "id": "bdc1df57",
   "metadata": {},
   "outputs": [
    {
     "data": {
      "text/plain": [
       "[[1, 1, 1], [1, 1, 1], [1, 1, 1]]"
      ]
     },
     "execution_count": 250,
     "metadata": {},
     "output_type": "execute_result"
    }
   ],
   "source": [
    "\n",
    "\n",
    "visited"
   ]
  },
  {
   "cell_type": "code",
   "execution_count": 228,
   "id": "79c3dab5",
   "metadata": {},
   "outputs": [
    {
     "data": {
      "text/plain": [
       "9223372036854775807"
      ]
     },
     "execution_count": 228,
     "metadata": {},
     "output_type": "execute_result"
    }
   ],
   "source": [
    "\n",
    "\n",
    "count"
   ]
  },
  {
   "cell_type": "code",
   "execution_count": 222,
   "id": "cc9d3824",
   "metadata": {},
   "outputs": [
    {
     "data": {
      "text/plain": [
       "9223372036854775807"
      ]
     },
     "execution_count": 222,
     "metadata": {},
     "output_type": "execute_result"
    }
   ],
   "source": [
    "sys.maxsize"
   ]
  },
  {
   "cell_type": "code",
   "execution_count": 213,
   "id": "13fd62c0",
   "metadata": {},
   "outputs": [
    {
     "data": {
      "text/plain": [
       "0"
      ]
     },
     "execution_count": 213,
     "metadata": {},
     "output_type": "execute_result"
    }
   ],
   "source": [
    "count"
   ]
  },
  {
   "cell_type": "code",
   "execution_count": 217,
   "id": "487ab0b2",
   "metadata": {},
   "outputs": [
    {
     "data": {
      "text/plain": [
       "[[0, 1, 1], [1, 1, 1], [1, 1, 0]]"
      ]
     },
     "execution_count": 217,
     "metadata": {},
     "output_type": "execute_result"
    }
   ],
   "source": [
    "matrix"
   ]
  },
  {
   "cell_type": "code",
   "execution_count": 218,
   "id": "76150118",
   "metadata": {},
   "outputs": [
    {
     "data": {
      "text/plain": [
       "[[-1, -1, -1], [-1, -1, -1], [-1, -1, -1]]"
      ]
     },
     "execution_count": 218,
     "metadata": {},
     "output_type": "execute_result"
    }
   ],
   "source": [
    "visited"
   ]
  },
  {
   "cell_type": "code",
   "execution_count": null,
   "id": "cf412611",
   "metadata": {},
   "outputs": [],
   "source": [
    "cnt + matrix[nx][ny]\n"
   ]
  },
  {
   "cell_type": "code",
   "execution_count": 201,
   "id": "6f0586a1",
   "metadata": {},
   "outputs": [
    {
     "data": {
      "text/plain": [
       "[[0, 1, 1], [1, 1, 1], [1, 1, 0]]"
      ]
     },
     "execution_count": 201,
     "metadata": {},
     "output_type": "execute_result"
    }
   ],
   "source": [
    "matrix"
   ]
  },
  {
   "cell_type": "code",
   "execution_count": 154,
   "id": "67aa3377",
   "metadata": {},
   "outputs": [
    {
     "data": {
      "text/plain": [
       "defaultdict(int, {0: 1, -7: 1, -10: 1, -3: 1, -6: 1})"
      ]
     },
     "execution_count": 154,
     "metadata": {},
     "output_type": "execute_result"
    }
   ],
   "source": [
    "left"
   ]
  },
  {
   "cell_type": "code",
   "execution_count": 118,
   "id": "fe6de623",
   "metadata": {},
   "outputs": [
    {
     "data": {
      "text/plain": [
       "[-7, -3, -2, 5, 8]"
      ]
     },
     "execution_count": 118,
     "metadata": {},
     "output_type": "execute_result"
    }
   ],
   "source": [
    "nums"
   ]
  },
  {
   "cell_type": "code",
   "execution_count": null,
   "id": "19010969",
   "metadata": {},
   "outputs": [],
   "source": [
    "N, S = list(map(int, sys.stdin.readline().strip().split(' ')))\n",
    "nums = list(map(int, sys.stdin.readline().strip().split(' ')))\n",
    "cand = []\n",
    "def comb(index, path):\n",
    "    \n",
    "    cand.append(path)\n",
    "    \n",
    "    for i in range(index, len(nums)):\n",
    "        comb(i+1, path + [nums[i]])\n",
    "\n",
    "comb(0, [])\n",
    "cand.pop(0)\n",
    "result = [1 if sum(s) == S and s != [] else 0 for s in cand]\n",
    "print(sum(result))"
   ]
  },
  {
   "cell_type": "code",
   "execution_count": null,
   "id": "11308f80",
   "metadata": {},
   "outputs": [],
   "source": [
    "0\n",
    "-2\n"
   ]
  },
  {
   "cell_type": "code",
   "execution_count": null,
   "id": "3640c13d",
   "metadata": {},
   "outputs": [],
   "source": [
    "0 1\n",
    "3\n"
   ]
  },
  {
   "cell_type": "code",
   "execution_count": null,
   "id": "2a432ffd",
   "metadata": {},
   "outputs": [],
   "source": [
    "3 3, left[0] =1 'left'"
   ]
  },
  {
   "cell_type": "code",
   "execution_count": null,
   "id": "ca5c2cfa",
   "metadata": {},
   "outputs": [],
   "source": []
  },
  {
   "cell_type": "code",
   "execution_count": 109,
   "id": "605ab41b",
   "metadata": {},
   "outputs": [
    {
     "data": {
      "text/plain": [
       "[-7, -3]"
      ]
     },
     "execution_count": 109,
     "metadata": {},
     "output_type": "execute_result"
    }
   ],
   "source": [
    "nums[:N//2]"
   ]
  },
  {
   "cell_type": "code",
   "execution_count": null,
   "id": "76337e7f",
   "metadata": {},
   "outputs": [],
   "source": []
  },
  {
   "cell_type": "code",
   "execution_count": null,
   "id": "623aa34e",
   "metadata": {},
   "outputs": [],
   "source": [
    "nums = [ ]\n",
    "result = []\n",
    "def comb(index, path)\n",
    "    result.append(path)\n",
    "    for i in range(index, len(nums)):\n",
    "        comb(index, path +nums[i])"
   ]
  },
  {
   "cell_type": "code",
   "execution_count": 100,
   "id": "5ce97602",
   "metadata": {},
   "outputs": [
    {
     "data": {
      "text/plain": [
       "[[-7],\n",
       " [-7, -3],\n",
       " [-7, -3, -2],\n",
       " [-7, -3, -2, 5],\n",
       " [-7, -3, -2, 5, 8],\n",
       " [-7, -3, -2, 8],\n",
       " [-7, -3, 5],\n",
       " [-7, -3, 5, 8],\n",
       " [-7, -3, 8],\n",
       " [-7, -2],\n",
       " [-7, -2, 5],\n",
       " [-7, -2, 5, 8],\n",
       " [-7, -2, 8],\n",
       " [-7, 5],\n",
       " [-7, 5, 8],\n",
       " [-7, 8],\n",
       " [-3],\n",
       " [-3, -2],\n",
       " [-3, -2, 5],\n",
       " [-3, -2, 5, 8],\n",
       " [-3, -2, 8],\n",
       " [-3, 5],\n",
       " [-3, 5, 8],\n",
       " [-3, 8],\n",
       " [-2],\n",
       " [-2, 5],\n",
       " [-2, 5, 8],\n",
       " [-2, 8],\n",
       " [5],\n",
       " [5, 8],\n",
       " [8]]"
      ]
     },
     "execution_count": 100,
     "metadata": {},
     "output_type": "execute_result"
    }
   ],
   "source": [
    "result.append(path)\n",
    "for i in range(index, len(nums)):\n",
    "   comb path+nums[i]"
   ]
  },
  {
   "cell_type": "code",
   "execution_count": 102,
   "id": "e0ebef0c",
   "metadata": {},
   "outputs": [
    {
     "data": {
      "text/plain": [
       "[-7, -3, -2, 5, 8]"
      ]
     },
     "execution_count": 102,
     "metadata": {},
     "output_type": "execute_result"
    }
   ],
   "source": [
    "nums"
   ]
  },
  {
   "cell_type": "code",
   "execution_count": null,
   "id": "0a978ef4",
   "metadata": {},
   "outputs": [],
   "source": [
    "1\n",
    "12\n",
    "13\n",
    "123\n",
    "1234\n",
    "12345\n",
    "\n",
    "2"
   ]
  },
  {
   "cell_type": "code",
   "execution_count": 103,
   "id": "646c44c5",
   "metadata": {},
   "outputs": [
    {
     "data": {
      "text/plain": [
       "[[-7],\n",
       " [-7, -3],\n",
       " [-7, -3, -2],\n",
       " [-7, -3, -2, 5],\n",
       " [-7, -3, -2, 5, 8],\n",
       " [-7, -3, -2, 8],\n",
       " [-7, -3, 5],\n",
       " [-7, -3, 5, 8],\n",
       " [-7, -3, 8],\n",
       " [-7, -2],\n",
       " [-7, -2, 5],\n",
       " [-7, -2, 5, 8],\n",
       " [-7, -2, 8],\n",
       " [-7, 5],\n",
       " [-7, 5, 8],\n",
       " [-7, 8],\n",
       " [-3],\n",
       " [-3, -2],\n",
       " [-3, -2, 5],\n",
       " [-3, -2, 5, 8],\n",
       " [-3, -2, 8],\n",
       " [-3, 5],\n",
       " [-3, 5, 8],\n",
       " [-3, 8],\n",
       " [-2],\n",
       " [-2, 5],\n",
       " [-2, 5, 8],\n",
       " [-2, 8],\n",
       " [5],\n",
       " [5, 8],\n",
       " [8]]"
      ]
     },
     "execution_count": 103,
     "metadata": {},
     "output_type": "execute_result"
    }
   ],
   "source": [
    "cand"
   ]
  },
  {
   "cell_type": "code",
   "execution_count": 92,
   "id": "12d393fd",
   "metadata": {},
   "outputs": [
    {
     "data": {
      "text/plain": [
       "[set(),\n",
       " {5},\n",
       " {5, 8},\n",
       " {-7, 5, 8},\n",
       " {-7, -3, 5, 8},\n",
       " {-7, -2, 5, 8},\n",
       " {-3, 5, 8},\n",
       " {-3, -2, 5, 8},\n",
       " {-2, 5, 8},\n",
       " {-7, 5},\n",
       " {-7, -3, 5},\n",
       " {-7, -3, -2, 5},\n",
       " {-7, -2, 5},\n",
       " {-3, 5},\n",
       " {-3, -2, 5},\n",
       " {-2, 5},\n",
       " {8},\n",
       " {-7, 8},\n",
       " {-7, -3, 8},\n",
       " {-7, -3, -2, 8},\n",
       " {-7, -2, 8},\n",
       " {-3, 8},\n",
       " {-3, -2, 8},\n",
       " {-2, 8},\n",
       " {-7},\n",
       " {-7, -3},\n",
       " {-7, -3, -2},\n",
       " {-7, -2},\n",
       " {-3},\n",
       " {-3, -2},\n",
       " {-2}]"
      ]
     },
     "execution_count": 92,
     "metadata": {},
     "output_type": "execute_result"
    }
   ],
   "source": [
    "[]\n",
    "\n",
    "for in range(index, len(nums))\n"
   ]
  },
  {
   "cell_type": "code",
   "execution_count": 42,
   "id": "540abbbe",
   "metadata": {},
   "outputs": [
    {
     "data": {
      "text/plain": [
       "0"
      ]
     },
     "execution_count": 42,
     "metadata": {},
     "output_type": "execute_result"
    }
   ],
   "source": [
    "S"
   ]
  },
  {
   "cell_type": "code",
   "execution_count": 40,
   "id": "215cd58d",
   "metadata": {},
   "outputs": [
    {
     "data": {
      "text/plain": [
       "[set()]"
      ]
     },
     "execution_count": 40,
     "metadata": {},
     "output_type": "execute_result"
    }
   ],
   "source": [
    "cand"
   ]
  },
  {
   "cell_type": "code",
   "execution_count": 57,
   "id": "2dab3709",
   "metadata": {},
   "outputs": [],
   "source": [
    "#k = []\n",
    "s = {1}\n"
   ]
  },
  {
   "cell_type": "code",
   "execution_count": 64,
   "id": "270fa419",
   "metadata": {},
   "outputs": [],
   "source": [
    "k = [set()]"
   ]
  },
  {
   "cell_type": "code",
   "execution_count": 65,
   "id": "ffbd1052",
   "metadata": {},
   "outputs": [],
   "source": [
    "if s not in k:\n",
    "    k.append(s)"
   ]
  },
  {
   "cell_type": "code",
   "execution_count": 66,
   "id": "145d4ee7",
   "metadata": {},
   "outputs": [
    {
     "data": {
      "text/plain": [
       "[set(), {1}]"
      ]
     },
     "execution_count": 66,
     "metadata": {},
     "output_type": "execute_result"
    }
   ],
   "source": [
    "k"
   ]
  },
  {
   "cell_type": "code",
   "execution_count": 5,
   "id": "975f7588",
   "metadata": {},
   "outputs": [
    {
     "data": {
      "text/plain": [
       "[]"
      ]
     },
     "execution_count": 5,
     "metadata": {},
     "output_type": "execute_result"
    }
   ],
   "source": [
    "result"
   ]
  },
  {
   "cell_type": "code",
   "execution_count": 21,
   "id": "70a93a8b",
   "metadata": {},
   "outputs": [],
   "source": [
    " k ={1,2,3,4}"
   ]
  },
  {
   "cell_type": "code",
   "execution_count": 22,
   "id": "f4a43ddd",
   "metadata": {},
   "outputs": [],
   "source": [
    "k.add(5)"
   ]
  },
  {
   "cell_type": "code",
   "execution_count": 26,
   "id": "8ba02060",
   "metadata": {},
   "outputs": [
    {
     "data": {
      "text/plain": [
       "['__and__',\n",
       " '__class__',\n",
       " '__contains__',\n",
       " '__delattr__',\n",
       " '__dir__',\n",
       " '__doc__',\n",
       " '__eq__',\n",
       " '__format__',\n",
       " '__ge__',\n",
       " '__getattribute__',\n",
       " '__gt__',\n",
       " '__hash__',\n",
       " '__iand__',\n",
       " '__init__',\n",
       " '__init_subclass__',\n",
       " '__ior__',\n",
       " '__isub__',\n",
       " '__iter__',\n",
       " '__ixor__',\n",
       " '__le__',\n",
       " '__len__',\n",
       " '__lt__',\n",
       " '__ne__',\n",
       " '__new__',\n",
       " '__or__',\n",
       " '__rand__',\n",
       " '__reduce__',\n",
       " '__reduce_ex__',\n",
       " '__repr__',\n",
       " '__ror__',\n",
       " '__rsub__',\n",
       " '__rxor__',\n",
       " '__setattr__',\n",
       " '__sizeof__',\n",
       " '__str__',\n",
       " '__sub__',\n",
       " '__subclasshook__',\n",
       " '__xor__',\n",
       " 'add',\n",
       " 'clear',\n",
       " 'copy',\n",
       " 'difference',\n",
       " 'difference_update',\n",
       " 'discard',\n",
       " 'intersection',\n",
       " 'intersection_update',\n",
       " 'isdisjoint',\n",
       " 'issubset',\n",
       " 'issuperset',\n",
       " 'pop',\n",
       " 'remove',\n",
       " 'symmetric_difference',\n",
       " 'symmetric_difference_update',\n",
       " 'union',\n",
       " 'update']"
      ]
     },
     "execution_count": 26,
     "metadata": {},
     "output_type": "execute_result"
    }
   ],
   "source": [
    "dir(k)"
   ]
  },
  {
   "cell_type": "code",
   "execution_count": null,
   "id": "73e5df40",
   "metadata": {},
   "outputs": [],
   "source": []
  }
 ],
 "metadata": {
  "kernelspec": {
   "display_name": "Python 3 (ipykernel)",
   "language": "python",
   "name": "python3"
  },
  "language_info": {
   "codemirror_mode": {
    "name": "ipython",
    "version": 3
   },
   "file_extension": ".py",
   "mimetype": "text/x-python",
   "name": "python",
   "nbconvert_exporter": "python",
   "pygments_lexer": "ipython3",
   "version": "3.7.4"
  }
 },
 "nbformat": 4,
 "nbformat_minor": 5
}
