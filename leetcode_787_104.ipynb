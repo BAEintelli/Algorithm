{
 "cells": [
  {
   "cell_type": "code",
   "execution_count": 7,
   "metadata": {},
   "outputs": [],
   "source": [
    "import collections"
   ]
  },
  {
   "cell_type": "code",
   "execution_count": 12,
   "metadata": {},
   "outputs": [],
   "source": [
    "import heapq"
   ]
  },
  {
   "cell_type": "code",
   "execution_count": 3,
   "metadata": {},
   "outputs": [],
   "source": [
    "n = 3\n",
    "edges = [[0,1,100],[1,2,100],[0,2,500]]\n",
    "src = 0\n",
    "dst = 2 \n",
    "k = 0"
   ]
  },
  {
   "cell_type": "code",
   "execution_count": 13,
   "metadata": {},
   "outputs": [],
   "source": [
    "def findCheapestPrice(n, flights, src, dst, K):\n",
    "    \n",
    "    graph =collections.defaultdict(list)\n",
    "    \n",
    "    for u, v, w in flights:\n",
    "        graph[u].append((v, w))\n",
    "        \n",
    "    Q = [(0, src, K)]\n",
    "    \n",
    "    while Q:\n",
    "        price, node, k =heapq.heappop(Q)\n",
    "        if node == dst:\n",
    "            return price\n",
    "        if k >= 0:\n",
    "            for v, w in graph[node]:\n",
    "                alt = price + w\n",
    "                heapq.heappush(Q, (alt, v, k-1))\n",
    "    return -1"
   ]
  },
  {
   "cell_type": "code",
   "execution_count": 14,
   "metadata": {},
   "outputs": [
    {
     "data": {
      "text/plain": [
       "500"
      ]
     },
     "execution_count": 14,
     "metadata": {},
     "output_type": "execute_result"
    }
   ],
   "source": [
    "findCheapestPrice(n, edges, src, dst, k)"
   ]
  },
  {
   "cell_type": "code",
   "execution_count": 15,
   "metadata": {},
   "outputs": [],
   "source": [
    "def maxDepth(root):\n",
    "    if root is None:\n",
    "        return 0\n",
    "    queue = collections.deque([root])\n",
    "    depth = 0\n",
    "    \n",
    "    while queue:\n",
    "        depth += 1\n",
    "        \n",
    "        for _ in range(len(queue)):\n",
    "            cur_root = queue.popleft()\n",
    "            if cur_root.left:\n",
    "                queue.append(cur_root.left)\n",
    "            if cur_root.right:\n",
    "                queue.append(cur_root.right)\n",
    "                \n",
    "    return depth"
   ]
  },
  {
   "cell_type": "code",
   "execution_count": null,
   "metadata": {},
   "outputs": [],
   "source": []
  }
 ],
 "metadata": {
  "kernelspec": {
   "display_name": "Python 3",
   "language": "python",
   "name": "python3"
  },
  "language_info": {
   "codemirror_mode": {
    "name": "ipython",
    "version": 3
   },
   "file_extension": ".py",
   "mimetype": "text/x-python",
   "name": "python",
   "nbconvert_exporter": "python",
   "pygments_lexer": "ipython3",
   "version": "3.7.4"
  }
 },
 "nbformat": 4,
 "nbformat_minor": 2
}
