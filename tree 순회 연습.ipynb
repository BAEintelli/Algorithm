{
 "cells": [
  {
   "cell_type": "markdown",
   "metadata": {},
   "source": [
    "### 이진 트리 탐색"
   ]
  },
  {
   "cell_type": "code",
   "execution_count": 1,
   "metadata": {},
   "outputs": [],
   "source": [
    "root = [4,2,6,1,3, '#', '#']"
   ]
  },
  {
   "cell_type": "code",
   "execution_count": null,
   "metadata": {},
   "outputs": [],
   "source": [
    "class Solution:\n",
    "    prev = -sys.maxsize\n",
    "    result = sys.maxsiez\n",
    "    \n",
    "    \n",
    "    def minDiffInBST(root):\n",
    "        if root.left:\n",
    "            self.minDiffInBST(root.left)\n",
    "            \n",
    "        self.result = min(self.result, root.val - self.prev)\n",
    "        self.prev = root.val\n",
    "        \n",
    "        if root.right:\n",
    "            self.minDiffInBST(root.right)\n",
    "            \n",
    "        return self.result/"
   ]
  },
  {
   "cell_type": "markdown",
   "metadata": {},
   "source": [
    "# 트리 순회"
   ]
  },
  {
   "cell_type": "markdown",
   "metadata": {},
   "source": [
    "### 전위 순회"
   ]
  },
  {
   "cell_type": "code",
   "execution_count": null,
   "metadata": {},
   "outputs": [],
   "source": [
    "def preorder(node):\n",
    "    if node is None:\n",
    "        return \n",
    "    \n",
    "    print(node.val)\n",
    "    preorder(node.left)\n",
    "    preorder(node.right)\n",
    "    "
   ]
  },
  {
   "cell_type": "markdown",
   "metadata": {},
   "source": [
    "### 중위 순회"
   ]
  },
  {
   "cell_type": "code",
   "execution_count": null,
   "metadata": {},
   "outputs": [],
   "source": [
    "def inorder(node):\n",
    "    if node is None:\n",
    "        return\n",
    "    \n",
    "    inorder(node.left)\n",
    "    print(node.val)\n",
    "    inorder(node.right)\n",
    "    "
   ]
  },
  {
   "cell_type": "markdown",
   "metadata": {},
   "source": [
    "### 후위 순회"
   ]
  },
  {
   "cell_type": "code",
   "execution_count": null,
   "metadata": {},
   "outputs": [],
   "source": [
    "def postorder(node):\n",
    "    if node is None:\n",
    "        return \n",
    "    postorder(node.left)\n",
    "    postorder(node.right)\n",
    "    postorder(node.val)\n",
    "    "
   ]
  },
  {
   "cell_type": "markdown",
   "metadata": {},
   "source": [
    "## 문제 :\n",
    "트리의 전위 중위 순회 결과를 입력 값으로 받아 이진 트리를 구축하라.\n",
    " 전위 순회 결과는  [3, 9, 20, 15, 7]\n",
    " 중위 순회 결과는 [9, 3, 15, 20, 7]"
   ]
  },
  {
   "cell_type": "code",
   "execution_count": null,
   "metadata": {},
   "outputs": [],
   "source": [
    "\n",
    "def buildTree(preorder, inorder):\n",
    "    if inorder:\n",
    "        index = inorder.index(preorder.pop(0))\n",
    "        \n",
    "        node = TreeNode(inorder[index])\n",
    "        node.left= self.buildTree(preorder, inorder[0:index])\n",
    "        node.right = self.buildTree(preorder, inorder[index+1 :])\n",
    "        \n",
    "        return node\n",
    "    "
   ]
  }
 ],
 "metadata": {
  "kernelspec": {
   "display_name": "Python 3",
   "language": "python",
   "name": "python3"
  },
  "language_info": {
   "codemirror_mode": {
    "name": "ipython",
    "version": 3
   },
   "file_extension": ".py",
   "mimetype": "text/x-python",
   "name": "python",
   "nbconvert_exporter": "python",
   "pygments_lexer": "ipython3",
   "version": "3.7.4"
  }
 },
 "nbformat": 4,
 "nbformat_minor": 4
}
