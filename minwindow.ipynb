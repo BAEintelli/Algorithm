{
 "cells": [
  {
   "cell_type": "code",
   "execution_count": 1,
   "metadata": {},
   "outputs": [],
   "source": [
    "nums = [1,3,-1,-3,5,3,6,7]\n",
    "k = 3"
   ]
  },
  {
   "cell_type": "code",
   "execution_count": 2,
   "metadata": {},
   "outputs": [],
   "source": [
    "import collections"
   ]
  },
  {
   "cell_type": "code",
   "execution_count": null,
   "metadata": {},
   "outputs": [],
   "source": [
    "def maxSlidingWindow(nums,k):\n",
    "    results = []\n",
    "    window = collections.deque()\n",
    "    current_max = float('-inf')\n",
    "    for i, v in enumerate(nums):\n",
    "        window.append(v)\n",
    "        if i < k -1:\n",
    "            continue\n",
    "            \n",
    "        if current_max == float('-inf'):\n",
    "            current_max = max(window)\n",
    "        elif v > current_max:\n",
    "            current_max = v\n",
    "            \n",
    "        results.append(current_max)\n",
    "        \n",
    "        if current_max == window.popleft():\n",
    "            current_max = float('-inf')\n",
    "    return results"
   ]
  },
  {
   "cell_type": "markdown",
   "metadata": {},
   "source": [
    "### 문자열 S와 T를 입력받아 O(n)에  T의 모든 문자가 포함된 S의 최소 윈도우를 찾아라"
   ]
  },
  {
   "cell_type": "code",
   "execution_count": 3,
   "metadata": {},
   "outputs": [],
   "source": [
    "S = 'ADOBECODEBANC'\n",
    "T = 'ABC'"
   ]
  },
  {
   "cell_type": "code",
   "execution_count": 4,
   "metadata": {},
   "outputs": [],
   "source": [
    "# 투 포이터 문제\n",
    "def minWindow(s,t):\n",
    "    need = collections.Counter(t)\n",
    "    missing = len(t)\n",
    "    left = start = end = 0\n",
    "    \n",
    "    for right, char in enumerate(s,1):\n",
    "        missing -= need[char] > 0\n",
    "        need[char] -= 1\n",
    "        \n",
    "        \n",
    "        if missing == 0:\n",
    "            while left < right and need[s[left]] < 0:\n",
    "                need[s[left]]+=1\n",
    "                left += 1\n",
    "                \n",
    "            if not end or right - left <= end - start:\n",
    "                start, end = left, right\n",
    "                need[s[left]] += 1\n",
    "                missing +=1\n",
    "                left += 1\n",
    "                \n",
    "    return s[start:end]"
   ]
  },
  {
   "cell_type": "code",
   "execution_count": 5,
   "metadata": {},
   "outputs": [
    {
     "data": {
      "text/plain": [
       "'BANC'"
      ]
     },
     "execution_count": 5,
     "metadata": {},
     "output_type": "execute_result"
    }
   ],
   "source": [
    "minWindow(S,T)"
   ]
  },
  {
   "cell_type": "code",
   "execution_count": null,
   "metadata": {},
   "outputs": [],
   "source": []
  }
 ],
 "metadata": {
  "kernelspec": {
   "display_name": "Python 3",
   "language": "python",
   "name": "python3"
  },
  "language_info": {
   "codemirror_mode": {
    "name": "ipython",
    "version": 3
   },
   "file_extension": ".py",
   "mimetype": "text/x-python",
   "name": "python",
   "nbconvert_exporter": "python",
   "pygments_lexer": "ipython3",
   "version": "3.7.4"
  }
 },
 "nbformat": 4,
 "nbformat_minor": 2
}
