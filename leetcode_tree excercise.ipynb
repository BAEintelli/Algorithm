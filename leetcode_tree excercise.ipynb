{
 "cells": [
  {
   "cell_type": "markdown",
   "metadata": {},
   "source": [
    "### 문제 : 트리의 직경"
   ]
  },
  {
   "cell_type": "code",
   "execution_count": 1,
   "metadata": {},
   "outputs": [],
   "source": [
    "class TreeNode:\n",
    "    def __init__(self, x):\n",
    "        self.val = x\n",
    "        self.left = None\n",
    "        self.right = None\n",
    "        \n",
    "        "
   ]
  },
  {
   "cell_type": "code",
   "execution_count": 83,
   "metadata": {},
   "outputs": [],
   "source": [
    "class Solution:\n",
    "    \n",
    "    \n",
    "    \n",
    "    longest: int = 0\n",
    "    \n",
    "        \n",
    "            \n",
    "    def diameterOfBinaryTree(self, root: TreeNode) -> int:\n",
    "        def dfs(node: TreeNode) -> int:\n",
    "            if not node:\n",
    "                return -1\n",
    "            # 왼쪽, 오른쪽 각각 리프 노드까지 탐색\n",
    "            left = dfs(node.left)\n",
    "            right = dfs(node.right)\n",
    "            \n",
    "            # 가장 긴 경로\n",
    "            self.longest = max(self.longest, left + right + 2)\n",
    "            \n",
    "            # 상태값\n",
    "            return max(left, right) + 1\n",
    "\n",
    "        dfs(root)\n",
    "        return self.longest"
   ]
  },
  {
   "cell_type": "code",
   "execution_count": 84,
   "metadata": {},
   "outputs": [],
   "source": [
    "root = TreeNode(1)\n",
    "root.left =TreeNode(2)\n",
    "root.right = TreeNode(3)\n",
    "root.left.left = TreeNode(4)\n",
    "root.left.right = TreeNode(5)"
   ]
  },
  {
   "cell_type": "code",
   "execution_count": 85,
   "metadata": {},
   "outputs": [],
   "source": [
    "s = Solution()"
   ]
  },
  {
   "cell_type": "code",
   "execution_count": 86,
   "metadata": {},
   "outputs": [
    {
     "data": {
      "text/plain": [
       "3"
      ]
     },
     "execution_count": 86,
     "metadata": {},
     "output_type": "execute_result"
    }
   ],
   "source": [
    "s.diameterOfBinaryTree(root)"
   ]
  },
  {
   "cell_type": "markdown",
   "metadata": {},
   "source": [
    "### 동일한 값을 지닌 가장 긴 경로를 찾아라"
   ]
  },
  {
   "cell_type": "code",
   "execution_count": 87,
   "metadata": {},
   "outputs": [],
   "source": [
    "root = TreeNode(5)"
   ]
  },
  {
   "cell_type": "code",
   "execution_count": 88,
   "metadata": {},
   "outputs": [],
   "source": [
    "root.left = TreeNode(4)"
   ]
  },
  {
   "cell_type": "code",
   "execution_count": 89,
   "metadata": {},
   "outputs": [],
   "source": [
    "root.left.left = TreeNode(1)"
   ]
  },
  {
   "cell_type": "code",
   "execution_count": 90,
   "metadata": {},
   "outputs": [],
   "source": [
    "root.left.right = TreeNode(1)"
   ]
  },
  {
   "cell_type": "code",
   "execution_count": 91,
   "metadata": {},
   "outputs": [],
   "source": [
    "root.right = TreeNode(5)"
   ]
  },
  {
   "cell_type": "code",
   "execution_count": 92,
   "metadata": {},
   "outputs": [],
   "source": [
    "root.right.right = TreeNode(5)"
   ]
  },
  {
   "cell_type": "code",
   "execution_count": 94,
   "metadata": {},
   "outputs": [],
   "source": [
    "class Solutions:\n",
    "    result = 0\n",
    "    \n",
    "    def longestUnivaluePath(self, root):\n",
    "        def dfs(node):\n",
    "            if node is None:\n",
    "                return 0\n",
    "            \n",
    "            \n",
    "            left = dfs(node.left)\n",
    "            right = dfs(node.right)\n",
    "            \n",
    "            if node.left and node.left.val == node.val:\n",
    "                left+=1\n",
    "                \n",
    "            else:\n",
    "                left = 0\n",
    "            if node.right and node.right.val == node.val:\n",
    "                right+= 1\n",
    "            else:\n",
    "                right= 0\n",
    "            \n",
    "            self.result = max(self.result, left+right)\n",
    "            \n",
    "            return max(left, right)\n",
    "        \n",
    "        \n",
    "        dfs(root)\n",
    "        return self.result\n",
    "    "
   ]
  },
  {
   "cell_type": "code",
   "execution_count": 95,
   "metadata": {},
   "outputs": [],
   "source": [
    "s = Solutions()"
   ]
  },
  {
   "cell_type": "code",
   "execution_count": 96,
   "metadata": {},
   "outputs": [
    {
     "data": {
      "text/plain": [
       "2"
      ]
     },
     "execution_count": 96,
     "metadata": {},
     "output_type": "execute_result"
    }
   ],
   "source": [
    "s.longestUnivaluePath(root)"
   ]
  },
  {
   "cell_type": "code",
   "execution_count": 98,
   "metadata": {},
   "outputs": [
    {
     "data": {
      "text/plain": [
       "4"
      ]
     },
     "execution_count": 98,
     "metadata": {},
     "output_type": "execute_result"
    }
   ],
   "source": [
    "root.left.val"
   ]
  },
  {
   "cell_type": "code",
   "execution_count": 99,
   "metadata": {},
   "outputs": [],
   "source": [
    "def invertTree(root):\n",
    "    if root:\n",
    "        root.left, root.right = self.invertTree(root.right), self.invertTree(root.left)\n",
    "        \n",
    "        return root\n",
    "    return None\n",
    "\n"
   ]
  },
  {
   "cell_type": "code",
   "execution_count": null,
   "metadata": {},
   "outputs": [],
   "source": [
    "## 하향식 BFS\n",
    "\n",
    "def invertTree(root):\n",
    "    \n",
    "    queue = collections.deque([root])\n",
    "    \n",
    "    \n",
    "    while queue:\n",
    "        \n",
    "        node = queue.popleft()\n",
    "        node.left , node.right = node.right, node.left\n",
    "        \n",
    "        queue.append(node.left)\n",
    "        queue.append(node.right)\n",
    "        \n",
    "    return root\n",
    "\n",
    "\n"
   ]
  },
  {
   "cell_type": "code",
   "execution_count": null,
   "metadata": {},
   "outputs": [],
   "source": [
    "def invertTree(root):\n",
    "    stack = collections.deque([root])\n",
    "    \n",
    "    while stack:\n",
    "        node = stack.pop()\n",
    "        \n",
    "        if node:\n",
    "            stack.append(node.left)\n",
    "            stack.append(node.right)\n",
    "            \n",
    "            node.left, node.right = node.right, node.left\n",
    "            \n",
    "    return root\n",
    "\n"
   ]
  },
  {
   "cell_type": "markdown",
   "metadata": {},
   "source": [
    "### 문제 두 이진 트리를 병합하라"
   ]
  },
  {
   "cell_type": "code",
   "execution_count": null,
   "metadata": {},
   "outputs": [],
   "source": [
    "def mergeTrees(self, t1, t2):\n",
    "    if t1 and t2:\n",
    "        node = treeNode(t1.val + t2.val)\n",
    "        node.left = treeNode(t1.left, t2.left)\n",
    "        node.right = treeNode(t1.right, t2.right)\n",
    "        \n",
    "        return node\n",
    "    else:\n",
    "        return t1 or t2"
   ]
  },
  {
   "cell_type": "code",
   "execution_count": null,
   "metadata": {},
   "outputs": [],
   "source": []
  },
  {
   "cell_type": "markdown",
   "metadata": {},
   "source": [
    "### 문제 : 직렬화 & 역직렬화"
   ]
  },
  {
   "cell_type": "code",
   "execution_count": 6,
   "metadata": {},
   "outputs": [],
   "source": [
    "import collections"
   ]
  },
  {
   "cell_type": "code",
   "execution_count": 19,
   "metadata": {},
   "outputs": [],
   "source": [
    "class Codec:\n",
    "    \n",
    "    def serialize(self, root):\n",
    "        queue = collections.deque([root])\n",
    "        result = ['#']\n",
    "        \n",
    "        while queue:\n",
    "            node = queue.popleft()\n",
    "            if node:\n",
    "                queue.append(node.left)\n",
    "                queue.append(node.right)\n",
    "                \n",
    "                result.append(str(node.val))\n",
    "                \n",
    "            else:\n",
    "                result.append('#')\n",
    "        return ' '.join(result)\n",
    "    \n",
    "    \n",
    "    \n",
    "    def dserialize(self, data):\n",
    "    \n",
    "        if data == '# #':\n",
    "            return None\n",
    "\n",
    "        nodes = data.split()\n",
    "\n",
    "        root = TreeNode(int(nodes[1]))\n",
    "        queue = collections.deque([root])\n",
    "        index =2\n",
    "        while queue:\n",
    "            node = queue.popleft()\n",
    "            if nodes[index] is not '#':\n",
    "                node.left = TreeNode(int(nodes[index]))\n",
    "                queue.append(node.left)\n",
    "\n",
    "            index += 1\n",
    "\n",
    "            if nodes[index] is not '#':\n",
    "                node.right = TreeNode(int(nodes[index]))\n",
    "                queue.append(node.right)\n",
    "            index += 1\n",
    "\n",
    "        return root"
   ]
  },
  {
   "cell_type": "code",
   "execution_count": 12,
   "metadata": {},
   "outputs": [],
   "source": [
    "#### 직렬화\n",
    "node = TreeNode(1)\n",
    "node.left = TreeNode(2)\n",
    "node.right = TreeNode(3)\n",
    "node.right.left = TreeNode(4)\n",
    "node.right.right = TreeNode(5)"
   ]
  },
  {
   "cell_type": "code",
   "execution_count": 21,
   "metadata": {},
   "outputs": [],
   "source": [
    "c= Codec()"
   ]
  },
  {
   "cell_type": "code",
   "execution_count": 17,
   "metadata": {},
   "outputs": [
    {
     "data": {
      "text/plain": [
       "'# 1 2 3 # # 4 5 # # # #'"
      ]
     },
     "execution_count": 17,
     "metadata": {},
     "output_type": "execute_result"
    }
   ],
   "source": [
    "k = c.serialize(node)\n",
    "k"
   ]
  },
  {
   "cell_type": "code",
   "execution_count": 22,
   "metadata": {},
   "outputs": [
    {
     "data": {
      "text/plain": [
       "<__main__.TreeNode at 0x1be3185fe08>"
      ]
     },
     "execution_count": 22,
     "metadata": {},
     "output_type": "execute_result"
    }
   ],
   "source": [
    "c.dserialize(k)"
   ]
  },
  {
   "cell_type": "markdown",
   "metadata": {},
   "source": [
    "\n",
    "### 문제 : 이진트리가 높이 균형인지 판단하라\n",
    "    - 높이 균형은 모든 노드의 서브 트리 간의 높이 차이가 1 이하인 것을 말한다."
   ]
  },
  {
   "cell_type": "code",
   "execution_count": null,
   "metadata": {},
   "outputs": [],
   "source": [
    "def isBalanced(self, root):\n",
    "    def check(root):\n",
    "        if not root:\n",
    "            return 0 \n",
    "        \n",
    "        left = check(root.left)\n",
    "        right = check(root.right)\n",
    "        \n",
    "        if left == -1 or right == -1 or abs(left - right) > 1:\n",
    "            return -1\n",
    "        \n",
    "        return max(left, right)+ 1\n",
    "    \n",
    "    return check(root) != -1"
   ]
  }
 ],
 "metadata": {
  "kernelspec": {
   "display_name": "Python 3",
   "language": "python",
   "name": "python3"
  },
  "language_info": {
   "codemirror_mode": {
    "name": "ipython",
    "version": 3
   },
   "file_extension": ".py",
   "mimetype": "text/x-python",
   "name": "python",
   "nbconvert_exporter": "python",
   "pygments_lexer": "ipython3",
   "version": "3.7.4"
  }
 },
 "nbformat": 4,
 "nbformat_minor": 2
}
