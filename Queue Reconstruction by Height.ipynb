{
 "cells": [
  {
   "cell_type": "code",
   "execution_count": null,
   "metadata": {},
   "outputs": [],
   "source": [
    "def reconstructQueue(people):\n",
    "    heap = []\n",
    "    \n",
    "    for person in people:\n",
    "        heapq.heappush(heap, (-person[0], person[1]))\n",
    "        \n",
    "    result = []\n",
    "    \n",
    "    while heap:\n",
    "        person = heapq.heapop(heap)\n",
    "        result.insert(person[1], [-person[0], person[1]])\n",
    "    return result"
   ]
  }
 ],
 "metadata": {
  "kernelspec": {
   "display_name": "Python 3",
   "language": "python",
   "name": "python3"
  },
  "language_info": {
   "codemirror_mode": {
    "name": "ipython",
    "version": 3
   },
   "file_extension": ".py",
   "mimetype": "text/x-python",
   "name": "python",
   "nbconvert_exporter": "python",
   "pygments_lexer": "ipython3",
   "version": "3.7.4"
  }
 },
 "nbformat": 4,
 "nbformat_minor": 2
}
