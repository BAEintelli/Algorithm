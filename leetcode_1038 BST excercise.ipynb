{
 "cells": [
  {
   "cell_type": "code",
   "execution_count": null,
   "metadata": {},
   "outputs": [],
   "source": [
    "BST"
   ]
  },
  {
   "cell_type": "code",
   "execution_count": 112,
   "metadata": {},
   "outputs": [],
   "source": [
    "s = [4,1,6,0,2,5,7,'#','#','#',3,'#','#','#',8,'#','#','#','#']"
   ]
  },
  {
   "cell_type": "code",
   "execution_count": 113,
   "metadata": {},
   "outputs": [],
   "source": [
    "class TreeNode:\n",
    "    def __init__(self, x):\n",
    "        self.val = x\n",
    "        self.left = None\n",
    "        self.right = None"
   ]
  },
  {
   "cell_type": "code",
   "execution_count": 114,
   "metadata": {},
   "outputs": [],
   "source": [
    "import collections\n",
    "class Codec:\n",
    "    \n",
    "    \n",
    "    def dserialize(self, data):\n",
    "    \n",
    "        if data == '# #':\n",
    "            return None\n",
    "\n",
    "        nodes = data\n",
    "\n",
    "        root = TreeNode(int(nodes[0]))\n",
    "        queue = collections.deque([root])\n",
    "        index =1\n",
    "        while queue:\n",
    "            \n",
    "            node = queue.popleft()\n",
    "            print(index)\n",
    "            print(queue)\n",
    "            if nodes[index] != '#':\n",
    "                node.left = TreeNode(int(nodes[index]))\n",
    "                queue.append(node.left)\n",
    "\n",
    "            index += 1\n",
    "\n",
    "            if nodes[index] != '#':\n",
    "                node.right = TreeNode(int(nodes[index]))\n",
    "                queue.append(node.right)\n",
    "            index += 1\n",
    "\n",
    "        return root"
   ]
  },
  {
   "cell_type": "code",
   "execution_count": 115,
   "metadata": {},
   "outputs": [],
   "source": [
    "c = Codec()"
   ]
  },
  {
   "cell_type": "code",
   "execution_count": 117,
   "metadata": {},
   "outputs": [
    {
     "name": "stdout",
     "output_type": "stream",
     "text": [
      "1\n",
      "deque([])\n",
      "3\n",
      "deque([<__main__.TreeNode object at 0x0000022EFFBDCE48>])\n",
      "5\n",
      "deque([<__main__.TreeNode object at 0x0000022EFFBDC588>, <__main__.TreeNode object at 0x0000022EFFBDCE88>])\n",
      "7\n",
      "deque([<__main__.TreeNode object at 0x0000022EFFBDCE88>, <__main__.TreeNode object at 0x0000022EFFBDC9C8>, <__main__.TreeNode object at 0x0000022EFFBD3E48>])\n",
      "9\n",
      "deque([<__main__.TreeNode object at 0x0000022EFFBDC9C8>, <__main__.TreeNode object at 0x0000022EFFBD3E48>])\n",
      "11\n",
      "deque([<__main__.TreeNode object at 0x0000022EFFBD3E48>, <__main__.TreeNode object at 0x0000022EFFBD3288>])\n",
      "13\n",
      "deque([<__main__.TreeNode object at 0x0000022EFFBD3288>])\n",
      "15\n",
      "deque([<__main__.TreeNode object at 0x0000022EFFBA5288>])\n",
      "17\n",
      "deque([])\n"
     ]
    }
   ],
   "source": [
    "root = c.dserialize(s)"
   ]
  },
  {
   "cell_type": "code",
   "execution_count": 118,
   "metadata": {},
   "outputs": [],
   "source": [
    "class Solution:\n",
    "    \n",
    "    val = 0\n",
    "    def bstToGst(root):\n",
    "        self.bstToGst(root.right)\n",
    "        self.val += root.val\n",
    "        root.val = self.val\n",
    "        self.bstToGst(root.left)\n",
    "    return root\n"
   ]
  },
  {
   "cell_type": "markdown",
   "metadata": {},
   "source": [
    "## 문제 \n",
    "    - 이진 탐색 트리가 주어졌을때 L 이상 R 이하의 값을 지닌 노드의 합을 구하라."
   ]
  },
  {
   "cell_type": "code",
   "execution_count": 1,
   "metadata": {},
   "outputs": [],
   "source": [
    "root = [10, 5, 15, 3, 7, None, 18]\n",
    "L= 7\n",
    "R =15"
   ]
  },
  {
   "cell_type": "code",
   "execution_count": 2,
   "metadata": {},
   "outputs": [],
   "source": [
    "# 모든 노드를 탐색하는 브루트 포스 풀이\n",
    "def rangeSumBST(root, L, R):\n",
    "    if not root:\n",
    "        return 0\n",
    "    return   (root.val if L <= root.val <= R else 0) + self.rangeSumBST(root.right, L, R) +self.rangeSumBST(root.left, L, R)"
   ]
  },
  {
   "cell_type": "code",
   "execution_count": null,
   "metadata": {},
   "outputs": [],
   "source": [
    "# DFS 가지치기를 이용한 노트 탐색\n",
    "def rangeSumBST(root, L, R):\n",
    "    \n",
    "        \n",
    "    def dfs(root):\n",
    "        if not root:\n",
    "            return 0\n",
    "        \n",
    "        if root.val <L:\n",
    "            return dfs(root.right)\n",
    "            \n",
    "        if root.val > R:\n",
    "            return dfs(root.left)\n",
    "                \n",
    "        return root.val + dfs(root.left) +dfs(root.right)\n",
    "    return dfs(root)\n"
   ]
  },
  {
   "cell_type": "code",
   "execution_count": null,
   "metadata": {},
   "outputs": [],
   "source": [
    "# DFS 반복풀이를 통한 탐색\n",
    "def rangeSumBST(root, L, R):\n",
    "    stack = [root]\n",
    "    value = 0\n",
    "    \n",
    "    while stack:\n",
    "        node = stack.pop()\n",
    "        if node:\n",
    "            if node.val < L:\n",
    "                stack.append(node.right)\n",
    "            if node.val > R:\n",
    "                stack.append(node.left)\n",
    "            if L<= node.val <= R:\n",
    "                value += node.val\n",
    "    \n",
    "    return value\n"
   ]
  }
 ],
 "metadata": {
  "kernelspec": {
   "display_name": "Python 3",
   "language": "python",
   "name": "python3"
  },
  "language_info": {
   "codemirror_mode": {
    "name": "ipython",
    "version": 3
   },
   "file_extension": ".py",
   "mimetype": "text/x-python",
   "name": "python",
   "nbconvert_exporter": "python",
   "pygments_lexer": "ipython3",
   "version": "3.7.4"
  }
 },
 "nbformat": 4,
 "nbformat_minor": 2
}
