{
 "cells": [
  {
   "cell_type": "code",
   "execution_count": 1,
   "metadata": {},
   "outputs": [],
   "source": [
    "S = 'ADOBECODEBANC'\n",
    "T = 'ABC'"
   ]
  },
  {
   "cell_type": "code",
   "execution_count": 4,
   "metadata": {},
   "outputs": [],
   "source": [
    "def minWindow(s, t):\n",
    "    def contains(s_substr_lst, t_lst):\n",
    "        for t_elem in t_lst:\n",
    "            if t_elem in s_substr_lst:\n",
    "                s_substr_lst.remove(t_elem)\n",
    "            else:\n",
    "                return False\n",
    "            \n",
    "        return True\n",
    "    \n",
    "    if not s or not t:\n",
    "        return ''\n",
    "    \n",
    "    window_size = len(t)\n",
    "    \n",
    "    for size in range(window_size, len(s)+1):\n",
    "        for left in range(len(s) - size +1):\n",
    "            s_substr = s[left:left + size]\n",
    "            if contains(list(s_substr), list(t)):\n",
    "                return s_substr\n",
    "            \n",
    "    return ''"
   ]
  },
  {
   "cell_type": "code",
   "execution_count": 5,
   "metadata": {},
   "outputs": [
    {
     "data": {
      "text/plain": [
       "'BANC'"
      ]
     },
     "execution_count": 5,
     "metadata": {},
     "output_type": "execute_result"
    }
   ],
   "source": [
    "minWindow(S,T)"
   ]
  },
  {
   "cell_type": "code",
   "execution_count": null,
   "metadata": {},
   "outputs": [],
   "source": []
  }
 ],
 "metadata": {
  "kernelspec": {
   "display_name": "Python 3",
   "language": "python",
   "name": "python3"
  },
  "language_info": {
   "codemirror_mode": {
    "name": "ipython",
    "version": 3
   },
   "file_extension": ".py",
   "mimetype": "text/x-python",
   "name": "python",
   "nbconvert_exporter": "python",
   "pygments_lexer": "ipython3",
   "version": "3.7.4"
  }
 },
 "nbformat": 4,
 "nbformat_minor": 2
}
