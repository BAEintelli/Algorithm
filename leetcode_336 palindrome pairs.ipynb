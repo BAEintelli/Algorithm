{
 "cells": [
  {
   "cell_type": "markdown",
   "metadata": {},
   "source": [
    "## 문제\n",
    " - 단어 리스트에서 words[i] + words[j]가 펠린드롬이 되는 모든 인덱스 조합 (i,j) 를 구하라"
   ]
  },
  {
   "cell_type": "markdown",
   "metadata": {},
   "source": [
    "### 브루트 포스 풀이\n",
    " - 시간 복잡도 O(n^2)에 가능"
   ]
  },
  {
   "cell_type": "code",
   "execution_count": 50,
   "metadata": {},
   "outputs": [],
   "source": [
    "k = ['abcd', 'dcba', 'lls', 's', 'sssll']\n"
   ]
  },
  {
   "cell_type": "code",
   "execution_count": 48,
   "metadata": {},
   "outputs": [],
   "source": [
    "def palindromePairs(words):\n",
    "    def is_palindrome(word):\n",
    "        return word == word[::-1]\n",
    "\n",
    "    output = []\n",
    "    for i, word1 in enumerate(words):\n",
    "        for j, word2 in enumerate(words):\n",
    "            if i == j:\n",
    "                continue\n",
    "            if is_palindrome(word1 + word2):\n",
    "                output.append([i, j])\n",
    "    return output"
   ]
  },
  {
   "cell_type": "code",
   "execution_count": 49,
   "metadata": {},
   "outputs": [
    {
     "data": {
      "text/plain": [
       "[[0, 1], [1, 0], [2, 4], [3, 2]]"
      ]
     },
     "execution_count": 49,
     "metadata": {},
     "output_type": "execute_result"
    }
   ],
   "source": [
    "palindromePairs(k)"
   ]
  },
  {
   "cell_type": "code",
   "execution_count": 33,
   "metadata": {},
   "outputs": [],
   "source": [
    "k = ['bat', 'tab', 'cat']"
   ]
  },
  {
   "cell_type": "code",
   "execution_count": 7,
   "metadata": {},
   "outputs": [
    {
     "data": {
      "text/plain": [
       "[[0, 1], [1, 0]]"
      ]
     },
     "execution_count": 7,
     "metadata": {},
     "output_type": "execute_result"
    }
   ],
   "source": [
    "palindromePairs(k)"
   ]
  },
  {
   "cell_type": "markdown",
   "metadata": {},
   "source": [
    "### Trie 구조를 활용\n",
    " - 브루트 포스 방법의 시간 복잡도  O(n^2)을  Trie 구조를 활용해서 시간 복잡도 O(n)으로 최적화"
   ]
  },
  {
   "cell_type": "code",
   "execution_count": 5,
   "metadata": {},
   "outputs": [],
   "source": [
    "import collections"
   ]
  },
  {
   "cell_type": "code",
   "execution_count": 54,
   "metadata": {},
   "outputs": [],
   "source": [
    "class TrieNode:\n",
    "    def __init__(self):\n",
    "        self.children =collections.defaultdict(TrieNode)\n",
    "        self.word_id = -1\n",
    "        self.palindrome_word_ids = []\n",
    "        \n",
    "class Trie:\n",
    "    def __init__(self):\n",
    "        self.root = TrieNode()\n",
    "        \n",
    "    @staticmethod\n",
    "    def is_palindrome(word):\n",
    "        return word[::] == word[::-1]\n",
    "    \n",
    "    def insert(self,index, word):\n",
    "        node = self.root\n",
    "        for i, char in enumerate(reversed(word)):\n",
    "            if self.is_palindrome(word[0:len(word) - i ]):\n",
    "                node.palindrome_word_ids.append(index)\n",
    "            node = node.children[char]\n",
    "            node.val = char\n",
    "            \n",
    "        node.word_id = index\n",
    "        \n",
    "    def search(self, index, word):\n",
    "        result = []\n",
    "        node = self.root\n",
    "        \n",
    "        while word:\n",
    "            \n",
    "            if node.word_id >= 0:\n",
    "                if self.is_palindrome(word):\n",
    "                    result.append([index, node.word_id])\n",
    "                \n",
    "            if not word[0] in node.children:\n",
    "                return result\n",
    "            \n",
    "            node = node.children[word[0]]\n",
    "            word = word[1:]\n",
    "            \n",
    "        \n",
    "        if node.word_id >= 0 and node.word_id != index:\n",
    "            result.append([index, node.word_id])\n",
    "            \n",
    "        for palindrome_word_id in node.palindrome_word_ids:\n",
    "            result.append([index, palindrome_word_id])\n",
    "                \n",
    "        return result\n",
    "        \n",
    "class Solution:\n",
    "    def palindromePairs(self, words):\n",
    "        trie = Trie()\n",
    "        \n",
    "        for i, word in enumerate(words):\n",
    "            trie.insert(i, word)\n",
    "            \n",
    "        result = []\n",
    "        for i, word in enumerate(words):\n",
    "            result.extend(trie.search(i, word))\n",
    "            \n",
    "        return result\n",
    "    \n",
    "                \n",
    "        \n",
    "        "
   ]
  },
  {
   "cell_type": "code",
   "execution_count": 55,
   "metadata": {},
   "outputs": [],
   "source": [
    "s = Solution()"
   ]
  },
  {
   "cell_type": "code",
   "execution_count": 56,
   "metadata": {},
   "outputs": [
    {
     "data": {
      "text/plain": [
       "[[0, 1], [1, 0], [2, 4], [3, 2]]"
      ]
     },
     "execution_count": 56,
     "metadata": {},
     "output_type": "execute_result"
    }
   ],
   "source": [
    "s.palindromePairs(k)"
   ]
  }
 ],
 "metadata": {
  "kernelspec": {
   "display_name": "Python 3",
   "language": "python",
   "name": "python3"
  },
  "language_info": {
   "codemirror_mode": {
    "name": "ipython",
    "version": 3
   },
   "file_extension": ".py",
   "mimetype": "text/x-python",
   "name": "python",
   "nbconvert_exporter": "python",
   "pygments_lexer": "ipython3",
   "version": "3.7.4"
  }
 },
 "nbformat": 4,
 "nbformat_minor": 2
}
