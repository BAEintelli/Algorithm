{
 "cells": [
  {
   "cell_type": "markdown",
   "metadata": {},
   "source": [
    "## 문제 \n",
    "     - 노드의 개수와 무방향 그래프를 입력받아 트리가 최소 높이가 되는 루트의 목록을 리턴하라"
   ]
  },
  {
   "cell_type": "code",
   "execution_count": 1,
   "metadata": {},
   "outputs": [],
   "source": [
    "edges = [[1,3],[2,3],[3,4], [3,5], [4,6], [6,10], [5,7],[5,8],[8,9]]"
   ]
  },
  {
   "cell_type": "code",
   "execution_count": 2,
   "metadata": {},
   "outputs": [],
   "source": [
    "n =10"
   ]
  },
  {
   "cell_type": "code",
   "execution_count": 3,
   "metadata": {},
   "outputs": [],
   "source": [
    "def findMinHeightTrees(n, edges):\n",
    "    if n <= 1:\n",
    "        return [0]\n",
    "    \n",
    "    graph = collections.defaultdict(list)\n",
    "    \n",
    "    for i,j in edges:\n",
    "        graph[i].append(j)\n",
    "        graph[j].append(j)\n",
    "        \n",
    "    leaves= []\n",
    "    for i in range(n+1):\n",
    "        if len(graph[i]) ==1 :\n",
    "            leaves.append(i)\n",
    "            \n",
    "    while n>2:\n",
    "        n -= len(leaves)\n",
    "        \n",
    "        new_leaves = []\n",
    "        for i  in leaves:\n",
    "            k = graph[i].pop()\n",
    "            graph[k].remove(i)\n",
    "        \n",
    "        \n",
    "        \n",
    "            if len(graph[j]) ==1:\n",
    "                new_leaves.append(j)\n",
    "                \n",
    "        leaves = new_leaves\n",
    "        \n",
    "    return leaves\n",
    "    \n",
    "        "
   ]
  },
  {
   "cell_type": "markdown",
   "metadata": {},
   "source": [
    "## 문제\n",
    "    - 오름차순으로 정렬된 배열을 높이 균형 이진 탐색 트리로 변환하라"
   ]
  },
  {
   "cell_type": "code",
   "execution_count": null,
   "metadata": {},
   "outputs": [],
   "source": [
    "def sortedArrayToBST(nums):\n",
    "    if not nums:\n",
    "        return None\n",
    "    \n",
    "    mid = len(nums) //2\n",
    "    \n",
    "    node = treeNode(nums[mid])\n",
    "    node.left = self.sortedArrayToBST(nums[:mid])\n",
    "    node.right = self.sortedArrayToBST(nums[mid+1:])\n",
    "    \n",
    "    return node\n",
    "\n"
   ]
  },
  {
   "cell_type": "code",
   "execution_count": null,
   "metadata": {},
   "outputs": [],
   "source": []
  }
 ],
 "metadata": {
  "kernelspec": {
   "display_name": "Python 3",
   "language": "python",
   "name": "python3"
  },
  "language_info": {
   "codemirror_mode": {
    "name": "ipython",
    "version": 3
   },
   "file_extension": ".py",
   "mimetype": "text/x-python",
   "name": "python",
   "nbconvert_exporter": "python",
   "pygments_lexer": "ipython3",
   "version": "3.7.4"
  }
 },
 "nbformat": 4,
 "nbformat_minor": 2
}
