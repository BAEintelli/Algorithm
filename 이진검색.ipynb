{
 "cells": [
  {
   "cell_type": "markdown",
   "metadata": {},
   "source": [
    "문제 \n",
    "- 정렬된 nums를 입력받아 이진 검색으로 target 에 해당하는 인덱스를 찾아라"
   ]
  },
  {
   "cell_type": "code",
   "execution_count": 33,
   "metadata": {},
   "outputs": [],
   "source": [
    "nums = [-1,0, 3, 5, 9, 12]\n",
    "target = 9"
   ]
  },
  {
   "cell_type": "code",
   "execution_count": 36,
   "metadata": {},
   "outputs": [],
   "source": [
    "def search(nums, target):\n",
    "    def binarysearch(left, right):\n",
    "\n",
    "        if left <= right:\n",
    "            mid = (left+right)//2\n",
    "            \n",
    "            if nums[mid] < target:\n",
    "                return binarysearch(mid+1, right)\n",
    "                \n",
    "            elif nums[mid] > target:\n",
    "                return binarysearch(left ,mid-1)\n",
    "            else:\n",
    "                return mid\n",
    "        else:\n",
    "            return -1\n",
    "     \n",
    "    \n",
    "    return binarysearch(0, len(nums)-1)\n",
    "                "
   ]
  },
  {
   "cell_type": "code",
   "execution_count": 37,
   "metadata": {},
   "outputs": [
    {
     "data": {
      "text/plain": [
       "4"
      ]
     },
     "execution_count": 37,
     "metadata": {},
     "output_type": "execute_result"
    }
   ],
   "source": [
    "search(nums, target)"
   ]
  },
  {
   "cell_type": "markdown",
   "metadata": {},
   "source": [
    "### 반복풀이"
   ]
  },
  {
   "cell_type": "code",
   "execution_count": null,
   "metadata": {},
   "outputs": [],
   "source": [
    "def search(nums, target):\n",
    "    left, right = 0 , len(nums) -1\n",
    "    while left <= right:\n",
    "        mid = (left + right)// 2\n",
    "        \n",
    "        if nums[mid] < target:\n",
    "            left = mid + 1\n",
    "        elif nums[mid] > target:\n",
    "            right = mid - 1\n",
    "        else:\n",
    "            return mid\n",
    "        \n",
    "    return -1"
   ]
  },
  {
   "cell_type": "code",
   "execution_count": 40,
   "metadata": {},
   "outputs": [],
   "source": [
    "def search(nums , target):\n",
    "    \n",
    "    left, right = 0, len(nums)-1\n",
    "    while left <= right:\n",
    "        mid = (left+right) //2\n",
    "        if nums[mid] < target:\n",
    "            \n",
    "            left = mid +1\n",
    "        elif nums[mid] > target:\n",
    "            right = mid -1\n",
    "            \n",
    "        else:\n",
    "            return mid\n",
    "        \n",
    "    return -1\n",
    "            \n",
    "    "
   ]
  },
  {
   "cell_type": "code",
   "execution_count": 41,
   "metadata": {},
   "outputs": [
    {
     "data": {
      "text/plain": [
       "4"
      ]
     },
     "execution_count": 41,
     "metadata": {},
     "output_type": "execute_result"
    }
   ],
   "source": [
    "search(nums, target)"
   ]
  },
  {
   "cell_type": "code",
   "execution_count": 42,
   "metadata": {},
   "outputs": [],
   "source": [
    "import bisect"
   ]
  },
  {
   "cell_type": "code",
   "execution_count": 43,
   "metadata": {},
   "outputs": [],
   "source": [
    "def search(nums, target):\n",
    "    index = bisect.bisect_left(nums, target)\n",
    "    \n",
    "    if index < len(nums) and nums[index] == target:\n",
    "        return index\n",
    "    else:\n",
    "        return -1"
   ]
  },
  {
   "cell_type": "markdown",
   "metadata": {},
   "source": [
    "### 2D 행렬 검색\n",
    " - m x n 행렬에서 값을 찾아내는 효율적인 알고리즘을 구현하라. 행렬은 왼쪽에서 오른쪽, 위에서 아래 오름 차순으로 정렬되어있다"
   ]
  },
  {
   "cell_type": "code",
   "execution_count": 44,
   "metadata": {},
   "outputs": [],
   "source": [
    "def searchMatrix(self, matrix, target):\n",
    "    \n",
    "    if not matrix:\n",
    "        return False\n",
    "    \n",
    "    row = 0\n",
    "    col = len(matrix[0]) -1\n",
    "    \n",
    "    while row <= len(matrix) - 1 and col >= 0:\n",
    "        if target == matrix[row][col]:\n",
    "            return True\n",
    "        elif target < matrix[row][col]:\n",
    "            col -= 1\n",
    "        elif target > matrix[row][col]:\n",
    "            row += 1\n",
    "    return False"
   ]
  },
  {
   "cell_type": "markdown",
   "metadata": {},
   "source": [
    "### 두 수의 합\n",
    "  -  정렬된 배열을 받아 덧셈하여 타겟을 만들 수 있는 배열의 두 숫자 인덱스를 리턴하라.\n",
    "  -  주의: 이 문제에서 배열은 0이 아닌 1부터 시작하는 것으로 한다."
   ]
  },
  {
   "cell_type": "code",
   "execution_count": 45,
   "metadata": {},
   "outputs": [],
   "source": [
    "# 투 포인트 풀이법\n",
    "def twoSum(numbers, target):\n",
    "    left, right = 0, len(numbers) -1\n",
    "    while not left == right:\n",
    "        if numbers[left] + numbers[right] < target:\n",
    "            left += 1\n",
    "        elif numbers[left] + numbers[right] > target:\n",
    "            right -= 1\n",
    "        else:\n",
    "            return left+1, right +1\n",
    "        "
   ]
  },
  {
   "cell_type": "code",
   "execution_count": 46,
   "metadata": {},
   "outputs": [],
   "source": [
    "# 이진 검색 풀이법\n",
    "def twoSum(numbers, target):\n",
    "    for k ,v in enumerate(numbers):\n",
    "        left, right = k + 1, len(numbers) -1\n",
    "        expected = target - v\n",
    "        \n",
    "        while left <= right:\n",
    "            mid = left + (right-left) //2\n",
    "            if numbers[mid] < expected:\n",
    "                left = mid + 1\n",
    "            elif numbers[mid] > expected:\n",
    "                right = mid -1\n",
    "            else:\n",
    "                return k + 1, mid + 1\n"
   ]
  },
  {
   "cell_type": "code",
   "execution_count": null,
   "metadata": {},
   "outputs": [],
   "source": []
  }
 ],
 "metadata": {
  "kernelspec": {
   "display_name": "Python 3",
   "language": "python",
   "name": "python3"
  },
  "language_info": {
   "codemirror_mode": {
    "name": "ipython",
    "version": 3
   },
   "file_extension": ".py",
   "mimetype": "text/x-python",
   "name": "python",
   "nbconvert_exporter": "python",
   "pygments_lexer": "ipython3",
   "version": "3.7.4"
  }
 },
 "nbformat": 4,
 "nbformat_minor": 2
}
