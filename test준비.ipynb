{
 "cells": [
  {
   "cell_type": "markdown",
   "metadata": {},
   "source": [
    "보석 쇼핑"
   ]
  },
  {
   "cell_type": "code",
   "execution_count": 42,
   "metadata": {},
   "outputs": [],
   "source": [
    " gems = [\"DIA\", \"RUBY\", \"RUBY\", \"DIA\", \"DIA\", \"EMERALD\", \"SAPPHIRE\", \"DIA\"]\n",
    "gems =  [\"AA\", \"AB\", \"AC\", \"AA\", \"AC\"]\n",
    "#gems = [\"XYZ\", \"XYZ\", \"XYZ\"]\n",
    "#gems = [\"ZZZ\", \"YYY\", \"NNNN\", \"YYY\", \"BBB\"]"
   ]
  },
  {
   "cell_type": "code",
   "execution_count": 45,
   "metadata": {},
   "outputs": [],
   "source": [
    "def solution(gems):\n",
    "    answer = []\n",
    "   \n",
    "    left ,right = 0, len(gems)-1\n",
    "    n = len(set(gems))\n",
    "    count = -1\n",
    "    while (left <= right) and count != 0:\n",
    "        count = 0\n",
    "        if len(set(gems[left+1:right])) == n:\n",
    "            left = left + 1\n",
    "            count += 1\n",
    "            print(left, 'left')    \n",
    "        if len(set(gems[left-1:right-1])) == n:\n",
    "            right = right -1\n",
    "            count +=1\n",
    "            print(right, 'right')    \n",
    "            \n",
    "    \n",
    "    return [left , right]"
   ]
  },
  {
   "cell_type": "code",
   "execution_count": 46,
   "metadata": {},
   "outputs": [
    {
     "name": "stdout",
     "output_type": "stream",
     "text": [
      "1 left\n",
      "3 right\n"
     ]
    },
    {
     "data": {
      "text/plain": [
       "[1, 3]"
      ]
     },
     "execution_count": 46,
     "metadata": {},
     "output_type": "execute_result"
    }
   ],
   "source": [
    "solution(gems)"
   ]
  },
  {
   "cell_type": "code",
   "execution_count": 49,
   "metadata": {},
   "outputs": [],
   "source": [
    "def solution(gems):\n",
    "    left , right = 0, 0\n",
    "    total_len = len(gems)\n",
    "    n = len(set(gems))\n",
    "    cand = []\n",
    "    while left < total_len:#왼쪽은 끝까지 :\n",
    "\n",
    "        right = left\n",
    "        while (len(set(gems[left:right+1])) != n) and (right < total_len): # 오른쪽은 처음 채워질때 까지 와 total_len 보다 작을때까지:\n",
    "            right +=1\n",
    "\n",
    "\n",
    "        cand.append([left, right])\n",
    "        left += 1\n",
    "    return cand"
   ]
  },
  {
   "cell_type": "code",
   "execution_count": 50,
   "metadata": {},
   "outputs": [
    {
     "data": {
      "text/plain": [
       "[[0, 2], [1, 3], [2, 5], [3, 5], [4, 5]]"
      ]
     },
     "execution_count": 50,
     "metadata": {},
     "output_type": "execute_result"
    }
   ],
   "source": [
    "solution(gems)"
   ]
  },
  {
   "cell_type": "code",
   "execution_count": 51,
   "metadata": {},
   "outputs": [
    {
     "data": {
      "text/plain": [
       "['AA', 'AB', 'AC', 'AA', 'AC']"
      ]
     },
     "execution_count": 51,
     "metadata": {},
     "output_type": "execute_result"
    }
   ],
   "source": [
    "gems"
   ]
  },
  {
   "cell_type": "code",
   "execution_count": null,
   "metadata": {},
   "outputs": [],
   "source": [
    "def solution(gems):\n",
    "    \n",
    "    n = len(set(gems))\n",
    "    gem_num = len(gems)\n",
    "    cur_shop = "
   ]
  },
  {
   "cell_type": "code",
   "execution_count": 52,
   "metadata": {},
   "outputs": [
    {
     "data": {
      "text/plain": [
       "['AA', 'AB', 'AC', 'AA', 'AC']"
      ]
     },
     "execution_count": 52,
     "metadata": {},
     "output_type": "execute_result"
    }
   ],
   "source": [
    "gems"
   ]
  },
  {
   "cell_type": "code",
   "execution_count": null,
   "metadata": {},
   "outputs": [],
   "source": [
    "def solution(gems):\n",
    "\n",
    "    TYPE_NUM = len(set(gems))\n",
    "    GEM_NUM = len(gems)\n",
    "    cur_shop = {gems[0]: 1}  # gems[0] ={AA: 1}\n",
    "    cand = []\n",
    "    l_idx, r_idx = 0, 0\n",
    "    DIST, RESULT = 0, 1\n",
    "\n",
    "    while l_idx < GEM_NUM and r_idx < GEM_NUM:\n",
    "        if len(cur_shop) < TYPE_NUM:\n",
    "            r_idx += 1\n",
    "            if r_idx == GEM_NUM:\n",
    "                break\n",
    "            cur_shop[gems[r_idx]] = cur_shop.get(gems[r_idx], 0) + 1\n",
    "        else:\n",
    "            cand.append((r_idx-l_idx, [l_idx+1, r_idx+1]))\n",
    "            cur_shop[gems[l_idx]] -= 1\n",
    "            if cur_shop[gems[l_idx]] == 0:\n",
    "                del cur_shop[gems[l_idx]]\n",
    "            l_idx += 1\n",
    "\n",
    "    cand = sorted(cand, key=lambda x: (x[DIST], x[RESULT]))\n",
    "\n",
    "    return cand[0][RESULT]"
   ]
  },
  {
   "cell_type": "code",
   "execution_count": 53,
   "metadata": {},
   "outputs": [],
   "source": [
    "test = {'AA': 1}"
   ]
  },
  {
   "cell_type": "code",
   "execution_count": 54,
   "metadata": {},
   "outputs": [],
   "source": [
    "test['BB'] = test.get('BB', 0) +1"
   ]
  },
  {
   "cell_type": "code",
   "execution_count": 55,
   "metadata": {},
   "outputs": [
    {
     "data": {
      "text/plain": [
       "{'AA': 1, 'BB': 1}"
      ]
     },
     "execution_count": 55,
     "metadata": {},
     "output_type": "execute_result"
    }
   ],
   "source": [
    "test"
   ]
  },
  {
   "cell_type": "code",
   "execution_count": null,
   "metadata": {},
   "outputs": [],
   "source": []
  },
  {
   "cell_type": "code",
   "execution_count": null,
   "metadata": {},
   "outputs": [],
   "source": [
    "cur_shop[gems[l_idx]]"
   ]
  },
  {
   "cell_type": "code",
   "execution_count": null,
   "metadata": {},
   "outputs": [],
   "source": [
    "cur_shop[gems[r_idx]]  = "
   ]
  }
 ],
 "metadata": {
  "kernelspec": {
   "display_name": "Python 3",
   "language": "python",
   "name": "python3"
  },
  "language_info": {
   "codemirror_mode": {
    "name": "ipython",
    "version": 3
   },
   "file_extension": ".py",
   "mimetype": "text/x-python",
   "name": "python",
   "nbconvert_exporter": "python",
   "pygments_lexer": "ipython3",
   "version": "3.7.4"
  }
 },
 "nbformat": 4,
 "nbformat_minor": 2
}
