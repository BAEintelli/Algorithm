{
 "cells": [
  {
   "cell_type": "markdown",
   "metadata": {},
   "source": [
    "### 버블정렬"
   ]
  },
  {
   "cell_type": "markdown",
   "metadata": {},
   "source": [
    "시간 복잡도는 항상 O(n^2)이고 이보다 더 비효율적일 수는 없다!!\n"
   ]
  },
  {
   "cell_type": "code",
   "execution_count": null,
   "metadata": {},
   "outputs": [],
   "source": [
    "def bubblesort(A):\n",
    "    for i in range(len(A)):\n",
    "        for j in range(len(A)-1):\n",
    "            if A[j] > A[j+1]:\n",
    "                A[j] ,A[j+1] = A[j+1], A[j]"
   ]
  },
  {
   "cell_type": "code",
   "execution_count": null,
   "metadata": {},
   "outputs": [],
   "source": []
  },
  {
   "cell_type": "markdown",
   "metadata": {},
   "source": [
    "### 병합정렬\n",
    "\n",
    " -  최선과 최악 모두 O(nlogn)으로 일정한 알고리즘이며, 퀵 정렬보다는 느리지만 안정 정렬이라는 점에서 여전히 사용라이브러리에서 많이 사용됨.\n",
    " - 분할 정복 사용\n",
    " "
   ]
  },
  {
   "cell_type": "markdown",
   "metadata": {},
   "source": [
    "### 퀵정렬"
   ]
  },
  {
   "cell_type": "code",
   "execution_count": null,
   "metadata": {},
   "outputs": [],
   "source": [
    "def quicksort(A, lo, hi):\n",
    "    def partition(lo, hi):\n",
    "        pivot = A[hi]\n",
    "        left = lo\n",
    "        for right in range(lo, hi):\n",
    "            if A[right] < pivot:\n",
    "                A[left], A[right] = A[right], A[left]\n",
    "                left += 1\n",
    "        A[left], A[hi] = A[hi], A[left]\n",
    "        return left\n",
    "    \n",
    "    if lo < hi:\n",
    "        pivot = partition(lo, hi)\n",
    "        quicksort(A, lo, pivot-1)\n",
    "        quicksort(A, pivot+1, hi)"
   ]
  },
  {
   "cell_type": "markdown",
   "metadata": {},
   "source": [
    "### leet code 148"
   ]
  },
  {
   "cell_type": "markdown",
   "metadata": {},
   "source": [
    "### 문제 \n",
    " - 연결리스트를 O(nlogn)에 정렬하라"
   ]
  },
  {
   "cell_type": "markdown",
   "metadata": {},
   "source": [
    "4 -> 2-> 1-> 3\n"
   ]
  },
  {
   "cell_type": "code",
   "execution_count": 6,
   "metadata": {},
   "outputs": [],
   "source": [
    "def mergeTwoLists(self, l1, l2):\n",
    "    if l1 and l2:\n",
    "        if l1.val > l2.val:\n",
    "            l1, l2, = l2, l1\n",
    "        l1.next = self.mergeTwoLists(l1.next, l2)\n",
    "        \n",
    "    return l1 or l2\n",
    "\n",
    "def sortedList(self, head):\n",
    "    if not (head and head.next):\n",
    "        return head\n",
    "    \n",
    "    half, slow, fast = None, head, head\n",
    "    while fast and fast.next:\n",
    "        half, slow, fast = slow, slow.next, fast.next.next\n",
    "        \n",
    "    half.newx = None\n",
    "    \n",
    "    l1 = self.sortList(head)\n",
    "    l2 = self.sortList(slow)\n",
    "    \n",
    "    return self.mergeTwoLists(l1, l2)"
   ]
  },
  {
   "cell_type": "code",
   "execution_count": null,
   "metadata": {},
   "outputs": [],
   "source": []
  }
 ],
 "metadata": {
  "kernelspec": {
   "display_name": "Python 3",
   "language": "python",
   "name": "python3"
  },
  "language_info": {
   "codemirror_mode": {
    "name": "ipython",
    "version": 3
   },
   "file_extension": ".py",
   "mimetype": "text/x-python",
   "name": "python",
   "nbconvert_exporter": "python",
   "pygments_lexer": "ipython3",
   "version": "3.7.4"
  }
 },
 "nbformat": 4,
 "nbformat_minor": 2
}
