{
 "cells": [
  {
   "cell_type": "markdown",
   "metadata": {},
   "source": [
    "### 순열 만들기\n",
    "    - 파이썬의 itertools 모듈을 사용하면 쉽게 사용할수 있지만 연습상 만들어 보았다."
   ]
  },
  {
   "cell_type": "code",
   "execution_count": 4,
   "metadata": {},
   "outputs": [],
   "source": [
    "def permute(nums):\n",
    "    results = []\n",
    "    prev_elements = []\n",
    "    \n",
    "    def dfs(elements):\n",
    "        \n",
    "        if len(elements) == 0:\n",
    "            results.append(prev_elements[:])\n",
    "            \n",
    "        for e in elements:\n",
    "            next_elements = elements[:]\n",
    "            next_elements.remove(e)\n",
    "            \n",
    "            prev_elements.append(e)\n",
    "            dfs(next_elements)\n",
    "            prev_elements.pop()\n",
    "            \n",
    "    dfs(nums)\n",
    "    return results"
   ]
  },
  {
   "cell_type": "code",
   "execution_count": 6,
   "metadata": {},
   "outputs": [
    {
     "data": {
      "text/plain": [
       "[[1, 2, 3, 8],\n",
       " [1, 2, 8, 3],\n",
       " [1, 3, 2, 8],\n",
       " [1, 3, 8, 2],\n",
       " [1, 8, 2, 3],\n",
       " [1, 8, 3, 2],\n",
       " [2, 1, 3, 8],\n",
       " [2, 1, 8, 3],\n",
       " [2, 3, 1, 8],\n",
       " [2, 3, 8, 1],\n",
       " [2, 8, 1, 3],\n",
       " [2, 8, 3, 1],\n",
       " [3, 1, 2, 8],\n",
       " [3, 1, 8, 2],\n",
       " [3, 2, 1, 8],\n",
       " [3, 2, 8, 1],\n",
       " [3, 8, 1, 2],\n",
       " [3, 8, 2, 1],\n",
       " [8, 1, 2, 3],\n",
       " [8, 1, 3, 2],\n",
       " [8, 2, 1, 3],\n",
       " [8, 2, 3, 1],\n",
       " [8, 3, 1, 2],\n",
       " [8, 3, 2, 1]]"
      ]
     },
     "execution_count": 6,
     "metadata": {},
     "output_type": "execute_result"
    }
   ],
   "source": [
    "\n",
    "permute([1,2,3,8])"
   ]
  },
  {
   "cell_type": "code",
   "execution_count": null,
   "metadata": {},
   "outputs": [],
   "source": []
  }
 ],
 "metadata": {
  "kernelspec": {
   "display_name": "Python 3",
   "language": "python",
   "name": "python3"
  },
  "language_info": {
   "codemirror_mode": {
    "name": "ipython",
    "version": 3
   },
   "file_extension": ".py",
   "mimetype": "text/x-python",
   "name": "python",
   "nbconvert_exporter": "python",
   "pygments_lexer": "ipython3",
   "version": "3.7.4"
  }
 },
 "nbformat": 4,
 "nbformat_minor": 2
}
