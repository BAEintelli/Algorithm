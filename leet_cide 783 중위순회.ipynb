{
 "cells": [
  {
   "cell_type": "markdown",
   "metadata": {},
   "source": [
    "### 문제 \n",
    "- 두 노드 간 값의 차이가 가장 작은 노드의 값의 차이를 출력하라.\n"
   ]
  },
  {
   "cell_type": "code",
   "execution_count": 1,
   "metadata": {},
   "outputs": [],
   "source": [
    "import sys"
   ]
  },
  {
   "cell_type": "code",
   "execution_count": 2,
   "metadata": {},
   "outputs": [],
   "source": [
    "class Solutioin:\n",
    "    prev = -sys.maxsize\n",
    "    result = sys.maxsize\n",
    "    \n",
    "    def minDiffInBST(root):\n",
    "        if root.left:\n",
    "            self.minDiffInBST(root.left)\n",
    "            \n",
    "        self.result = min(self.result, root.val - self.prev)\n",
    "        self.prev = root.val\n",
    "        \n",
    "        if root.right:\n",
    "            self.minDiffInBST(root.right)\n",
    "            \n",
    "        return self.result\n",
    "    \n",
    "    \n",
    "    "
   ]
  },
  {
   "cell_type": "code",
   "execution_count": 7,
   "metadata": {},
   "outputs": [],
   "source": [
    "# 반복 구조로 중위 순회\n",
    "def minDiffInBST(root):\n",
    "    prev = -sys.maxsize\n",
    "    result = sys.maxsize\n",
    "    \n",
    "    stack = []\n",
    "    node = root\n",
    "    \n",
    "    while stack or node:\n",
    "        while node:\n",
    "            stack.append(node)\n",
    "            node = node.left\n",
    "            \n",
    "        node = stack.pop()\n",
    "        \n",
    "        result = min(result, node.val -prev)\n",
    "        prev = node.val\n",
    "        \n",
    "        node = node.right\n",
    "        \n",
    "    return result"
   ]
  }
 ],
 "metadata": {
  "kernelspec": {
   "display_name": "Python 3",
   "language": "python",
   "name": "python3"
  },
  "language_info": {
   "codemirror_mode": {
    "name": "ipython",
    "version": 3
   },
   "file_extension": ".py",
   "mimetype": "text/x-python",
   "name": "python",
   "nbconvert_exporter": "python",
   "pygments_lexer": "ipython3",
   "version": "3.7.4"
  }
 },
 "nbformat": 4,
 "nbformat_minor": 2
}
