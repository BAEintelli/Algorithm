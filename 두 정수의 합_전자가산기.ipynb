{
 "cells": [
  {
   "cell_type": "code",
   "execution_count": 2,
   "metadata": {},
   "outputs": [],
   "source": [
    "a=1 \n",
    "b=2"
   ]
  },
  {
   "cell_type": "code",
   "execution_count": 5,
   "metadata": {},
   "outputs": [],
   "source": [
    "def getSum(a,b):\n",
    "    MASK = 0xFFFFFFFF\n",
    "    INT_MAX = 0x7FFFFFFF\n",
    "    \n",
    "    a_bin = bin(a&MASK)[2:].zfill(32)\n",
    "    b_bin = bin(b&MASK)[2:].zfill(32)\n",
    "    \n",
    "    result = []\n",
    "    carry = 0\n",
    "    sum = 0\n",
    "    for i in range(32):\n",
    "        A = int(a_bin[31 - i])\n",
    "        B = int(b_bin[31 - i])\n",
    "        \n",
    "        Q1 = A & B\n",
    "        Q2 = A ^ B\n",
    "        Q3 = Q2 & carry\n",
    "        sum = carry ^ Q2\n",
    "        carry = Q1 | Q3\n",
    "        \n",
    "        result.append(str(sum))\n",
    "        \n",
    "    if carry ==1:\n",
    "        result.append('1')\n",
    "        \n",
    "    result = int(''.join(result[::-1]), 2) & MASK\n",
    "    \n",
    "    if result > INT_MAX:\n",
    "        result = ~(result ^ MASK)\n",
    "        \n",
    "    return result\n",
    "        "
   ]
  },
  {
   "cell_type": "code",
   "execution_count": 6,
   "metadata": {},
   "outputs": [
    {
     "data": {
      "text/plain": [
       "3"
      ]
     },
     "execution_count": 6,
     "metadata": {},
     "output_type": "execute_result"
    }
   ],
   "source": [
    "getSum(a,b)"
   ]
  },
  {
   "cell_type": "code",
   "execution_count": null,
   "metadata": {},
   "outputs": [],
   "source": []
  }
 ],
 "metadata": {
  "kernelspec": {
   "display_name": "Python 3",
   "language": "python",
   "name": "python3"
  },
  "language_info": {
   "codemirror_mode": {
    "name": "ipython",
    "version": 3
   },
   "file_extension": ".py",
   "mimetype": "text/x-python",
   "name": "python",
   "nbconvert_exporter": "python",
   "pygments_lexer": "ipython3",
   "version": "3.7.4"
  }
 },
 "nbformat": 4,
 "nbformat_minor": 2
}
