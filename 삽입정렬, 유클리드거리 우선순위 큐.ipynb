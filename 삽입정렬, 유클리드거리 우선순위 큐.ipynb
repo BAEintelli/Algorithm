{
 "cells": [
  {
   "cell_type": "code",
   "execution_count": null,
   "metadata": {},
   "outputs": [],
   "source": [
    "def mergeTwoLists(l1, l2):\n",
    "    if l1 and l2:\n",
    "        if l1.val > l2.val:\n",
    "            l1.val ,l2.val = l2.val, l1.val\n",
    "        l1.next = self.mergeTwoLists(l1.next, l2) #마지막으로 l1이 None이 나오면 l2를 붙여주는 작업\n",
    "    return l1 or l2\n",
    "\n",
    "def sortList(self,head):\n",
    "    \n",
    "    half, slow, fast = None,head ,head\n",
    "    while fast and fast.next:\n",
    "        half, slow, fast = slow, slow.next, fast.next.next\n",
    "    \n",
    "    half.next = None # half를 기준으로 연결리스 트 관계를 끊어버림\n",
    "    \n",
    "    l1 = self.sortList(head)\n",
    "    l2 = self.sortList(slow)\n",
    "    \n",
    "    return self.mergeTwoLists(l1, l2)\n"
   ]
  },
  {
   "cell_type": "markdown",
   "metadata": {},
   "source": [
    "### 문제 \n",
    " - 겹치는 구간을 병합하라"
   ]
  },
  {
   "cell_type": "code",
   "execution_count": 1,
   "metadata": {},
   "outputs": [],
   "source": [
    "k = [[1,3],[2,6],[8,10],[15,18]]\n"
   ]
  },
  {
   "cell_type": "code",
   "execution_count": 3,
   "metadata": {},
   "outputs": [
    {
     "data": {
      "text/plain": [
       "[[1, 3], [2, 6], [8, 10], [15, 18]]"
      ]
     },
     "execution_count": 3,
     "metadata": {},
     "output_type": "execute_result"
    }
   ],
   "source": [
    "sorted(k)"
   ]
  },
  {
   "cell_type": "code",
   "execution_count": 8,
   "metadata": {},
   "outputs": [],
   "source": [
    "def mergelist(k):\n",
    "    \n",
    "    merge = []\n",
    "    for i in sorted(k , key= lambda x: x[0]):\n",
    "        # 하나씩들어와서\n",
    "        # \n",
    "        if merge  and merge[-1][1] >= i[0] :\n",
    "            merge[-1][1] = max(merge[-1][1], i[1])\n",
    "        else:\n",
    "            merge.append(i)\n",
    "            \n",
    "    return merge"
   ]
  },
  {
   "cell_type": "code",
   "execution_count": 9,
   "metadata": {},
   "outputs": [
    {
     "data": {
      "text/plain": [
       "[[1, 6], [8, 10], [15, 18]]"
      ]
     },
     "execution_count": 9,
     "metadata": {},
     "output_type": "execute_result"
    }
   ],
   "source": [
    "mergelist(k)"
   ]
  },
  {
   "cell_type": "markdown",
   "metadata": {},
   "source": [
    "### 삽입정렬"
   ]
  },
  {
   "cell_type": "code",
   "execution_count": 12,
   "metadata": {},
   "outputs": [],
   "source": [
    "class Solution:\n",
    "    \n",
    "    @staticmethod\n",
    "    def to_swap(n1, n2):\n",
    "        return str(n1) + str(n2) < str(n2) + str(n1)\n",
    "    \n",
    "    def largestNumber(self, nums):\n",
    "        i =1 \n",
    "        while i < len(nums):\n",
    "            j = i \n",
    "            while j<0 and self.to_swap(nums[j-1], nums[j]):\n",
    "                \n",
    "                nums[j-1], nums[j] = nums[j], nums[j-1]\n",
    "                j -= 1\n",
    "                \n",
    "            i +=1\n",
    "            \n",
    "        return str(int(''.join(map(str, nums))))"
   ]
  },
  {
   "cell_type": "code",
   "execution_count": 211,
   "metadata": {},
   "outputs": [],
   "source": [
    "class ListNode:\n",
    "    def __init__(self, x):\n",
    "        self.val = x\n",
    "        self.next = None\n",
    "\n",
    "\n",
    "class Solution:\n",
    "    def insertionSortList(self, head: ListNode) -> ListNode:\n",
    "        cur = parent = ListNode(None)\n",
    "        while head:\n",
    "        \n",
    "            while cur.next and cur.next.val < head.val:\n",
    "                cur = cur.next\n",
    "            \n",
    "            cur.next , head.next, head = head , cur.next, head.next #차근차근 해봅시다 cur.next -> None, head : 4->2->1->3\n",
    "            # 그럼 cur.next = head.next - > none 이니까 cur.next -> 4 -none .... \n",
    "            print(parent.next.val)\n",
    "            cur = parent\n",
    "            \n",
    "            print(cur.next.val)\n",
    "        return cur.next\n",
    "    "
   ]
  },
  {
   "cell_type": "code",
   "execution_count": 212,
   "metadata": {},
   "outputs": [],
   "source": [
    "head = ListNode(4)"
   ]
  },
  {
   "cell_type": "code",
   "execution_count": 213,
   "metadata": {},
   "outputs": [],
   "source": [
    "head.next =ListNode(2)\n",
    "head.next.next = ListNode(1)\n",
    "head.next.next.next =ListNode(3)"
   ]
  },
  {
   "cell_type": "markdown",
   "metadata": {},
   "source": [
    "### 문제 \n",
    " - 평면상에 points 목록이 있을 때, 원점 (0, 0)에서 K번 가까운 점ㅇ 목록을 순서대로 출력하라. 평면상 두 점의 거리는 유클리드 거리로 한다."
   ]
  },
  {
   "cell_type": "code",
   "execution_count": 1,
   "metadata": {},
   "outputs": [],
   "source": [
    "import heapq"
   ]
  },
  {
   "cell_type": "code",
   "execution_count": 2,
   "metadata": {},
   "outputs": [],
   "source": [
    "points = [[1,3],[-2,2]]\n",
    "k = 1"
   ]
  },
  {
   "cell_type": "code",
   "execution_count": 3,
   "metadata": {},
   "outputs": [],
   "source": [
    "def kcloset(points, k):\n",
    "    \n",
    "    heap = []\n",
    "    for x, y in points:\n",
    "        dist = x**2+ y**2\n",
    "        heapq.heappush(heap, (dist, x,y))\n",
    "        \n",
    "    for _ in range(k):\n",
    "        (dist, x, y) = heapq.heappop(heap)\n",
    "        result.append((x,y))\n",
    "    return result\n",
    "        "
   ]
  },
  {
   "cell_type": "code",
   "execution_count": null,
   "metadata": {},
   "outputs": [],
   "source": []
  }
 ],
 "metadata": {
  "kernelspec": {
   "display_name": "Python 3",
   "language": "python",
   "name": "python3"
  },
  "language_info": {
   "codemirror_mode": {
    "name": "ipython",
    "version": 3
   },
   "file_extension": ".py",
   "mimetype": "text/x-python",
   "name": "python",
   "nbconvert_exporter": "python",
   "pygments_lexer": "ipython3",
   "version": "3.7.4"
  }
 },
 "nbformat": 4,
 "nbformat_minor": 2
}
