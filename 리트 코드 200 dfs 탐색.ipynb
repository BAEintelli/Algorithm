{
 "cells": [
  {
   "cell_type": "markdown",
   "metadata": {},
   "source": [
    "### 문제\n",
    " - 1을 육지로, 0을 물로 가정 했을때 그리드 맵이 주어졌을때 섬의 개수를 계산하여라"
   ]
  },
  {
   "cell_type": "code",
   "execution_count": 26,
   "metadata": {},
   "outputs": [],
   "source": [
    "k= [[1,1,1,1,0],\n",
    "[1,1,1,0,0],\n",
    "[1,1,0,0,0],\n",
    "[0,0,1,0,1]]"
   ]
  },
  {
   "cell_type": "code",
   "execution_count": 27,
   "metadata": {},
   "outputs": [],
   "source": [
    "\n",
    "def numIslands(grid):\n",
    "    def dfs(i, j):\n",
    "\n",
    "        if i<0 or i >= len(grid) or j <0 or j >= len(grid) or grid[i][j] != 1:\n",
    "            return\n",
    "        grid[i][j]=0\n",
    "\n",
    "        dfs(i+1,j)\n",
    "        dfs(i-1,j)\n",
    "        dfs(i,j+1)\n",
    "        dfs(i,j-1)\n",
    "\n",
    "    count = 0 \n",
    "    for i in range(len(grid)):\n",
    "        for j in range(len(grid[0])):\n",
    "            if grid[i][j] == 1:\n",
    "                print(i, j)\n",
    "                dfs(i,j)\n",
    "                count += 1\n",
    "    return count"
   ]
  },
  {
   "cell_type": "code",
   "execution_count": 28,
   "metadata": {},
   "outputs": [
    {
     "name": "stdout",
     "output_type": "stream",
     "text": [
      "0 0\n",
      "3 2\n",
      "3 4\n"
     ]
    },
    {
     "data": {
      "text/plain": [
       "3"
      ]
     },
     "execution_count": 28,
     "metadata": {},
     "output_type": "execute_result"
    }
   ],
   "source": [
    "numIslands(k)"
   ]
  },
  {
   "cell_type": "markdown",
   "metadata": {},
   "source": [
    "## 문제 \n",
    "    - 2 에서  9까지 숫자가 주어졌을때 전화 번호로 조합이 가능한 모든 문자를 출력하라"
   ]
  },
  {
   "cell_type": "code",
   "execution_count": 32,
   "metadata": {},
   "outputs": [],
   "source": [
    "def letterCombinations(digits):\n",
    "    def dfs(index, path):\n",
    "        if len(path) == len(digits):\n",
    "            result.append(path)\n",
    "            return\n",
    "        \n",
    "        for i in range(index, len(digits)):\n",
    "            \n",
    "            for j in dic[digits[i]]:\n",
    "                dfs(i+1, path+j)\n",
    "                \n",
    "    if not digits:\n",
    "        return []\n",
    "    \n",
    "    dic = {'2':'abc', '3':'def', '4':'ghi', '5':'jkl', '6':'mno', '7':'pqrs', '8':'tuv', '9':'wxyz'}\n",
    "    result = []\n",
    "    dfs(0, \"\")\n",
    "    return result"
   ]
  },
  {
   "cell_type": "code",
   "execution_count": 34,
   "metadata": {},
   "outputs": [
    {
     "data": {
      "text/plain": [
       "['ad', 'ae', 'af', 'bd', 'be', 'bf', 'cd', 'ce', 'cf']"
      ]
     },
     "execution_count": 34,
     "metadata": {},
     "output_type": "execute_result"
    }
   ],
   "source": [
    "letterCombinations('23')"
   ]
  },
  {
   "cell_type": "code",
   "execution_count": null,
   "metadata": {},
   "outputs": [],
   "source": []
  }
 ],
 "metadata": {
  "kernelspec": {
   "display_name": "Python 3",
   "language": "python",
   "name": "python3"
  },
  "language_info": {
   "codemirror_mode": {
    "name": "ipython",
    "version": 3
   },
   "file_extension": ".py",
   "mimetype": "text/x-python",
   "name": "python",
   "nbconvert_exporter": "python",
   "pygments_lexer": "ipython3",
   "version": "3.7.4"
  }
 },
 "nbformat": 4,
 "nbformat_minor": 2
}
