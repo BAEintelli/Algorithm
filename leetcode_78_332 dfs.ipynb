{
 "cells": [
  {
   "cell_type": "markdown",
   "metadata": {},
   "source": [
    "## 문제 \n",
    "- 모든 부분 집합을 리턴하라"
   ]
  },
  {
   "cell_type": "code",
   "execution_count": 1,
   "metadata": {},
   "outputs": [],
   "source": [
    "def subsets(nums):\n",
    "    result = []\n",
    "    \n",
    "    def dfs(index, path):\n",
    "        \n",
    "        result.append(path)\n",
    "        \n",
    "        for i in range(index, len(nums)):\n",
    "            dfs(i+1 , path + [nums[i]])\n",
    "            \n",
    "    dfs(0, [])\n",
    "    return result"
   ]
  },
  {
   "cell_type": "code",
   "execution_count": 7,
   "metadata": {},
   "outputs": [
    {
     "data": {
      "text/plain": [
       "[[],\n",
       " [1],\n",
       " [1, 2],\n",
       " [1, 2, 3],\n",
       " [1, 2, 3, 4],\n",
       " [1, 2, 4],\n",
       " [1, 3],\n",
       " [1, 3, 4],\n",
       " [1, 4],\n",
       " [2],\n",
       " [2, 3],\n",
       " [2, 3, 4],\n",
       " [2, 4],\n",
       " [3],\n",
       " [3, 4],\n",
       " [4]]"
      ]
     },
     "execution_count": 7,
     "metadata": {},
     "output_type": "execute_result"
    }
   ],
   "source": [
    "subsets([1,2,3,4])"
   ]
  },
  {
   "cell_type": "markdown",
   "metadata": {},
   "source": [
    "### 문제 \n",
    "    - [from, to]로 구성된 항공권 목록을 이용해 JFK 에서 출발하는 여행 일정을 구성하라. 여러 일정이 있는 경우 사전 어휘순으로 방문한다.\n",
    "    "
   ]
  },
  {
   "cell_type": "code",
   "execution_count": 14,
   "metadata": {},
   "outputs": [],
   "source": [
    "def findItinerary(tickets):\n",
    "    graph = collections.defaultdict(list)\n",
    "    \n",
    "    for a , b in sorted(tickets):\n",
    "        graph[a].append(b)\n",
    "        \n",
    "    route = []\n",
    "    def dfs(a):\n",
    "        \n",
    "        while graph[a]:\n",
    "            dfs(graph[a].pop(0))\n",
    "        route.append(a)\n",
    "        \n",
    "        \n",
    "    dfs('JFK')\n",
    "    \n",
    "    return route[::-1]"
   ]
  },
  {
   "cell_type": "code",
   "execution_count": 3,
   "metadata": {},
   "outputs": [],
   "source": [
    "tickets = [\n",
    "    [\"MUC\", \"LHR\"],\n",
    "    ['JFK', \"MUC\"],\n",
    "    ['SFO', 'SJC'],\n",
    "    ['LHR', 'SFO'],\n",
    "]"
   ]
  },
  {
   "cell_type": "markdown",
   "metadata": {},
   "source": [
    "### 풀이 2\n",
    "- 위의 풀이도  좋지만 pop()은 O(1) 이지만, pop(0) 은  O(n) 조금더 효율적인 구현을 위해서 pop()으로 스택의 연산으로 처리될 수 있도록 개선이 필요하다."
   ]
  },
  {
   "cell_type": "code",
   "execution_count": 18,
   "metadata": {},
   "outputs": [],
   "source": [
    "def findItinerary(tickets):\n",
    "    graph = collections.defaultdict(list)\n",
    "    \n",
    "    for a , b in sorted(tickets,reversed=True):\n",
    "        graph[a].append(b)\n",
    "        \n",
    "    route = []\n",
    "    def dfs(a):\n",
    "        \n",
    "        while graph[a]:\n",
    "            dfs(graph[a].pop())\n",
    "        route.append(a)\n",
    "        \n",
    "        \n",
    "    dfs('JFK')\n",
    "    \n",
    "    return route[::-1]"
   ]
  },
  {
   "cell_type": "markdown",
   "metadata": {},
   "source": [
    "### 풀이 3\n",
    "     -  재귀를 사용하지 않은 풀이"
   ]
  },
  {
   "cell_type": "code",
   "execution_count": 19,
   "metadata": {},
   "outputs": [],
   "source": [
    "def findItinerary(tickets):\n",
    "    graph =collections.defaultdict(list)\n",
    "    \n",
    "    for a, b in sorted(tickets):\n",
    "        graph[a].append(b)\n",
    "        \n",
    "    route, stack = [], ['JFK']\n",
    "    while stack:\n",
    "        \n",
    "        while graph[stack[-1]]:\n",
    "            stack.append(graph[stack[-1]].pop(0))\n",
    "        route.append(stack.pop())\n",
    "        \n",
    "    return route[::-1]"
   ]
  },
  {
   "cell_type": "code",
   "execution_count": null,
   "metadata": {},
   "outputs": [],
   "source": []
  },
  {
   "cell_type": "markdown",
   "metadata": {},
   "source": [
    "## 문제 \n",
    "\n",
    "- 0을 완료하기 위해서는 1을 끝내야 한다는 것을 [0,1] 쌍으로 표현하는 n개의 코스가 있다. 코스 개수 n과 이 쌍들을 입력으로 받았을때 모든 코스가 완료 가능하지 판별하라."
   ]
  },
  {
   "cell_type": "code",
   "execution_count": 20,
   "metadata": {},
   "outputs": [],
   "source": [
    "def canFinish(numCourses, prerequisites):\n",
    "    \n",
    "    graph = collections.defaultdict(list)\n",
    "    \n",
    "    for x, y in prerequisites:\n",
    "    \n",
    "        graph[x].append(y)\n",
    "        \n",
    "    traced = set()\n",
    "    \n",
    "    def dfs(i):\n",
    "        \n",
    "        if i in traced:\n",
    "            return False\n",
    "        \n",
    "        for y in graph[i]:\n",
    "            if not dfs(y):\n",
    "                return False\n",
    "        traced.remove(i)\n",
    "        \n",
    "        return True\n",
    "    \n",
    "    for x in list(graph):\n",
    "        if not dfs(x):\n",
    "            return False\n",
    "        \n",
    "    return True"
   ]
  },
  {
   "cell_type": "code",
   "execution_count": null,
   "metadata": {},
   "outputs": [],
   "source": []
  }
 ],
 "metadata": {
  "kernelspec": {
   "display_name": "Python 3",
   "language": "python",
   "name": "python3"
  },
  "language_info": {
   "codemirror_mode": {
    "name": "ipython",
    "version": 3
   },
   "file_extension": ".py",
   "mimetype": "text/x-python",
   "name": "python",
   "nbconvert_exporter": "python",
   "pygments_lexer": "ipython3",
   "version": "3.7.4"
  }
 },
 "nbformat": 4,
 "nbformat_minor": 2
}
